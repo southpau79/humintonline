{
 "cells": [
  {
   "cell_type": "code",
   "execution_count": 1,
   "metadata": {},
   "outputs": [
    {
     "name": "stderr",
     "output_type": "stream",
     "text": [
      "[nltk_data] Downloading package stopwords to C:\\Users\\Cyber\n",
      "[nltk_data]     Security\\AppData\\Roaming\\nltk_data...\n",
      "[nltk_data]   Package stopwords is already up-to-date!\n"
     ]
    }
   ],
   "source": [
    "import re\n",
    "import nltk\n",
    "nltk.download('stopwords')\n",
    "from nltk.stem.porter import PorterStemmer\n",
    "from nltk.tokenize import word_tokenize\n",
    "ps = PorterStemmer()"
   ]
  },
  {
   "cell_type": "code",
   "execution_count": 2,
   "metadata": {},
   "outputs": [
    {
     "name": "stdout",
     "output_type": "stream",
     "text": [
      "come\n",
      "come\n",
      "comer\n"
     ]
    }
   ],
   "source": [
    "print(ps.stem(\"coming\"))\n",
    "print(ps.stem(\"come\"))\n",
    "print(ps.stem(\"comer\"))"
   ]
  },
  {
   "cell_type": "code",
   "execution_count": 3,
   "metadata": {},
   "outputs": [],
   "source": [
    "# If you get error in below line then \n",
    "# Install nltk package by using below command\n",
    "\n",
    "#  import nltk\n",
    "#  nltk.download()"
   ]
  },
  {
   "cell_type": "code",
   "execution_count": 4,
   "metadata": {},
   "outputs": [],
   "source": [
    "from nltk.corpus import stopwords\n",
    "demo_sntnce = \"Hello, How are you?, How are you doing\"\n",
    "stopword = set(stopwords.words(\"english\"))\n",
    "words = word_tokenize(demo_sntnce)\n",
    "demo_sntnce = demo_sntnce.split()\n",
    "final_sntnce = []"
   ]
  },
  {
   "cell_type": "code",
   "execution_count": 5,
   "metadata": {},
   "outputs": [
    {
     "name": "stdout",
     "output_type": "stream",
     "text": [
      "{'weren', 'off', 'yourself', \"you'd\", 'being', \"needn't\", 'over', 'by', 'after', 'they', 'you', 'didn', 'only', 'on', \"hadn't\", 'this', 'that', \"couldn't\", 'again', 'further', 'i', 'ourselves', 'up', 'its', 'too', 'a', 'were', 'wasn', 'myself', 'which', 'all', 'because', 'mightn', 're', 'in', 'some', 'just', 'what', 'then', 'themselves', 'our', 'was', 'has', 'are', 'couldn', \"wouldn't\", 'any', 'does', 'other', 'of', 'wouldn', 'out', 'the', \"mightn't\", 'an', 'than', \"you'll\", 'to', \"wasn't\", 'where', 'doing', 'mustn', 'whom', 'her', 'no', 'theirs', 'my', 'your', 'while', 'with', 've', 'until', \"didn't\", 'did', 'why', 'she', 'me', 'we', 'm', 'below', 'haven', 'now', 'and', 'shan', \"hasn't\", 'had', 'but', \"shouldn't\", 'isn', 'very', 'hasn', 'about', \"aren't\", \"doesn't\", \"shan't\", 'most', \"weren't\", 'o', 'it', 'shouldn', 'ma', \"you've\", 'needn', 'himself', 'down', 'once', \"isn't\", 't', \"mustn't\", 'is', 'there', \"it's\", 'own', 'hadn', 'y', 'nor', 'not', 'have', 'these', 'am', 'through', 'if', \"don't\", \"haven't\", 'itself', 'during', 'should', 'he', \"she's\", 'd', 'll', 'under', 'will', 'be', 'won', 'here', 'those', 'ain', 'having', 'doesn', 'who', 'him', 'into', 'each', 'between', \"won't\", 'can', \"that'll\", 'few', 'above', \"you're\", 'do', 's', 'their', 'for', 'as', 'or', 'same', 'how', 'herself', 'yours', 'them', 'both', 'at', 'against', 'such', 'hers', 'so', 'more', 'before', 'when', 'aren', 'ours', 'yourselves', 'don', 'his', 'from', \"should've\", 'been'}\n"
     ]
    }
   ],
   "source": [
    "print(stopword)"
   ]
  },
  {
   "cell_type": "code",
   "execution_count": 6,
   "metadata": {},
   "outputs": [],
   "source": [
    "for w in words:\n",
    "    if w not in stopword:\n",
    "        final_sntnce.append(w)"
   ]
  },
  {
   "cell_type": "code",
   "execution_count": 7,
   "metadata": {},
   "outputs": [
    {
     "data": {
      "text/plain": [
       "['Hello', ',', 'How', '?', ',', 'How']"
      ]
     },
     "execution_count": 7,
     "metadata": {},
     "output_type": "execute_result"
    }
   ],
   "source": [
    "final_sntnce"
   ]
  },
  {
   "cell_type": "code",
   "execution_count": 8,
   "metadata": {},
   "outputs": [
    {
     "data": {
      "text/plain": [
       "['Hello,', 'How', 'are', 'you?,', 'How', 'are', 'you', 'doing']"
      ]
     },
     "execution_count": 8,
     "metadata": {},
     "output_type": "execute_result"
    }
   ],
   "source": [
    "demo_sntnce"
   ]
  },
  {
   "cell_type": "code",
   "execution_count": 9,
   "metadata": {},
   "outputs": [
    {
     "data": {
      "text/plain": [
       "['Hello', ',', 'How', 'are', 'you', '?', ',', 'How', 'are', 'you', 'doing']"
      ]
     },
     "execution_count": 9,
     "metadata": {},
     "output_type": "execute_result"
    }
   ],
   "source": [
    "words"
   ]
  },
  {
   "cell_type": "code",
   "execution_count": 10,
   "metadata": {},
   "outputs": [],
   "source": [
    "final_sntnce = [w for w in words if w not in stopword]"
   ]
  },
  {
   "cell_type": "code",
   "execution_count": 11,
   "metadata": {},
   "outputs": [
    {
     "data": {
      "text/plain": [
       "['Hello', ',', 'How', '?', ',', 'How']"
      ]
     },
     "execution_count": 11,
     "metadata": {},
     "output_type": "execute_result"
    }
   ],
   "source": [
    "final_sntnce"
   ]
  },
  {
   "cell_type": "code",
   "execution_count": 12,
   "metadata": {},
   "outputs": [],
   "source": [
    "# Feature Extraction\n",
    "from sklearn.feature_extraction.text import CountVectorizer\n",
    "cv = CountVectorizer()"
   ]
  },
  {
   "cell_type": "code",
   "execution_count": 13,
   "metadata": {},
   "outputs": [],
   "source": [
    "X = cv.fit_transform([\"Hello, How are you?, How are you doing\", \"I want to know how are you feeling\"])"
   ]
  },
  {
   "cell_type": "code",
   "execution_count": 14,
   "metadata": {},
   "outputs": [
    {
     "data": {
      "text/plain": [
       "['are', 'doing', 'feeling', 'hello', 'how', 'know', 'to', 'want', 'you']"
      ]
     },
     "execution_count": 14,
     "metadata": {},
     "output_type": "execute_result"
    }
   ],
   "source": [
    "cv.get_feature_names()"
   ]
  },
  {
   "cell_type": "code",
   "execution_count": 15,
   "metadata": {},
   "outputs": [
    {
     "data": {
      "text/plain": [
       "array([[2, 1, 0, 1, 2, 0, 0, 0, 2],\n",
       "       [1, 0, 1, 0, 1, 1, 1, 1, 1]], dtype=int64)"
      ]
     },
     "execution_count": 15,
     "metadata": {},
     "output_type": "execute_result"
    }
   ],
   "source": [
    "X.toarray()"
   ]
  },
  {
   "cell_type": "code",
   "execution_count": 16,
   "metadata": {},
   "outputs": [
    {
     "data": {
      "text/plain": [
       "[array(['hello', 'how', 'are', 'you', 'doing'], dtype='<U7'),\n",
       " array(['how', 'are', 'you', 'want', 'to', 'know', 'feeling'], dtype='<U7')]"
      ]
     },
     "execution_count": 16,
     "metadata": {},
     "output_type": "execute_result"
    }
   ],
   "source": [
    "cv.inverse_transform(X)"
   ]
  },
  {
   "cell_type": "code",
   "execution_count": null,
   "metadata": {},
   "outputs": [],
   "source": []
  },
  {
   "cell_type": "code",
   "execution_count": null,
   "metadata": {
    "collapsed": true
   },
   "outputs": [],
   "source": []
  }
 ],
 "metadata": {
  "kernelspec": {
   "display_name": "Python 3",
   "language": "python",
   "name": "python3"
  },
  "language_info": {
   "codemirror_mode": {
    "name": "ipython",
    "version": 3
   },
   "file_extension": ".py",
   "mimetype": "text/x-python",
   "name": "python",
   "nbconvert_exporter": "python",
   "pygments_lexer": "ipython3",
   "version": "3.7.6"
  }
 },
 "nbformat": 4,
 "nbformat_minor": 2
}
