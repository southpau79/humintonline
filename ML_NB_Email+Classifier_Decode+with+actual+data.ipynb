{
 "cells": [
  {
   "cell_type": "code",
   "execution_count": 1,
   "metadata": {},
   "outputs": [],
   "source": [
    "import numpy as np \n",
    "import pandas as pd "
   ]
  },
  {
   "cell_type": "code",
   "execution_count": 2,
   "metadata": {},
   "outputs": [],
   "source": [
    "edata = pd.read_csv(r\"emails00.csv\")"
   ]
  },
  {
   "cell_type": "code",
   "execution_count": 3,
   "metadata": {},
   "outputs": [
    {
     "data": {
      "text/plain": [
       "Index(['text', 'spam'], dtype='object')"
      ]
     },
     "execution_count": 3,
     "metadata": {},
     "output_type": "execute_result"
    }
   ],
   "source": [
    "edata.columns #Index(['text', 'spam'], dtype='object')"
   ]
  },
  {
   "cell_type": "code",
   "execution_count": 4,
   "metadata": {},
   "outputs": [
    {
     "data": {
      "text/html": [
       "<div>\n",
       "<style scoped>\n",
       "    .dataframe tbody tr th:only-of-type {\n",
       "        vertical-align: middle;\n",
       "    }\n",
       "\n",
       "    .dataframe tbody tr th {\n",
       "        vertical-align: top;\n",
       "    }\n",
       "\n",
       "    .dataframe thead th {\n",
       "        text-align: right;\n",
       "    }\n",
       "</style>\n",
       "<table border=\"1\" class=\"dataframe\">\n",
       "  <thead>\n",
       "    <tr style=\"text-align: right;\">\n",
       "      <th></th>\n",
       "      <th>text</th>\n",
       "      <th>spam</th>\n",
       "    </tr>\n",
       "  </thead>\n",
       "  <tbody>\n",
       "    <tr>\n",
       "      <th>0</th>\n",
       "      <td>Subject: naturally irresistible your corporate...</td>\n",
       "      <td>1</td>\n",
       "    </tr>\n",
       "    <tr>\n",
       "      <th>1</th>\n",
       "      <td>Subject: the stock trading gunslinger  fanny i...</td>\n",
       "      <td>1</td>\n",
       "    </tr>\n",
       "    <tr>\n",
       "      <th>2</th>\n",
       "      <td>Subject: the stock trading gunslinger  fanny i...</td>\n",
       "      <td>1</td>\n",
       "    </tr>\n",
       "    <tr>\n",
       "      <th>3</th>\n",
       "      <td>Subject: unbelievable new homes made easy  im ...</td>\n",
       "      <td>1</td>\n",
       "    </tr>\n",
       "    <tr>\n",
       "      <th>4</th>\n",
       "      <td>Subject: the stock trading gunslinger  fanny i...</td>\n",
       "      <td>1</td>\n",
       "    </tr>\n",
       "  </tbody>\n",
       "</table>\n",
       "</div>"
      ],
      "text/plain": [
       "                                                text  spam\n",
       "0  Subject: naturally irresistible your corporate...     1\n",
       "1  Subject: the stock trading gunslinger  fanny i...     1\n",
       "2  Subject: the stock trading gunslinger  fanny i...     1\n",
       "3  Subject: unbelievable new homes made easy  im ...     1\n",
       "4  Subject: the stock trading gunslinger  fanny i...     1"
      ]
     },
     "execution_count": 4,
     "metadata": {},
     "output_type": "execute_result"
    }
   ],
   "source": [
    "edata"
   ]
  },
  {
   "cell_type": "code",
   "execution_count": 5,
   "metadata": {},
   "outputs": [
    {
     "name": "stdout",
     "output_type": "stream",
     "text": [
      "      0\n",
      "text  0\n",
      "spam  0\n"
     ]
    }
   ],
   "source": [
    "#Checking for duplicates and removing them\n",
    "edata.drop_duplicates(inplace = True)\n",
    "\n",
    "#Checking for any null entries in the dataset\n",
    "print (pd.DataFrame(edata.isnull().sum()))"
   ]
  },
  {
   "cell_type": "code",
   "execution_count": 6,
   "metadata": {},
   "outputs": [
    {
     "data": {
      "text/html": [
       "<div>\n",
       "<style scoped>\n",
       "    .dataframe tbody tr th:only-of-type {\n",
       "        vertical-align: middle;\n",
       "    }\n",
       "\n",
       "    .dataframe tbody tr th {\n",
       "        vertical-align: top;\n",
       "    }\n",
       "\n",
       "    .dataframe thead th {\n",
       "        text-align: right;\n",
       "    }\n",
       "</style>\n",
       "<table border=\"1\" class=\"dataframe\">\n",
       "  <thead>\n",
       "    <tr style=\"text-align: right;\">\n",
       "      <th></th>\n",
       "      <th>text</th>\n",
       "      <th>spam</th>\n",
       "    </tr>\n",
       "  </thead>\n",
       "  <tbody>\n",
       "    <tr>\n",
       "      <th>0</th>\n",
       "      <td>Subject: naturally irresistible your corporate...</td>\n",
       "      <td>1</td>\n",
       "    </tr>\n",
       "    <tr>\n",
       "      <th>1</th>\n",
       "      <td>Subject: the stock trading gunslinger  fanny i...</td>\n",
       "      <td>1</td>\n",
       "    </tr>\n",
       "    <tr>\n",
       "      <th>3</th>\n",
       "      <td>Subject: unbelievable new homes made easy  im ...</td>\n",
       "      <td>1</td>\n",
       "    </tr>\n",
       "  </tbody>\n",
       "</table>\n",
       "</div>"
      ],
      "text/plain": [
       "                                                text  spam\n",
       "0  Subject: naturally irresistible your corporate...     1\n",
       "1  Subject: the stock trading gunslinger  fanny i...     1\n",
       "3  Subject: unbelievable new homes made easy  im ...     1"
      ]
     },
     "execution_count": 6,
     "metadata": {},
     "output_type": "execute_result"
    }
   ],
   "source": [
    "edata"
   ]
  },
  {
   "cell_type": "code",
   "execution_count": 7,
   "metadata": {},
   "outputs": [
    {
     "name": "stderr",
     "output_type": "stream",
     "text": [
      "[nltk_data] Downloading package stopwords to C:\\Users\\Cyber\n",
      "[nltk_data]     Security\\AppData\\Roaming\\nltk_data...\n",
      "[nltk_data]   Package stopwords is already up-to-date!\n"
     ]
    }
   ],
   "source": [
    "#Using Natural Language Processing to cleaning the text to make one corpus\n",
    "# Cleaning the texts\n",
    "import re\n",
    "import nltk\n",
    "nltk.download('stopwords')\n",
    "from nltk.stem.porter import PorterStemmer\n",
    "from nltk.corpus import stopwords"
   ]
  },
  {
   "cell_type": "code",
   "execution_count": 8,
   "metadata": {},
   "outputs": [
    {
     "data": {
      "text/plain": [
       "\"Subject: naturally irresistible your corporate identity  lt is really hard to recollect a company : the  market is full of suqgestions and the information isoverwhelminq ; but a good  catchy logo , stylish statlonery and outstanding website  will make the task much easier .  we do not promise that havinq ordered a iogo your  company will automaticaily become a world ieader : it isguite ciear that  without good products , effective business organization and practicable aim it  will be hotat nowadays market ; but we do promise that your marketing efforts  will become much more effective . here is the list of clear  benefits : creativeness : hand - made , original logos , specially done  to reflect your distinctive company image . convenience : logo and stationery  are provided in all formats ; easy - to - use content management system letsyou  change your website content and even its structure . promptness : you  will see logo drafts within three business days . affordability : your  marketing break - through shouldn ' t make gaps in your budget . 100 % satisfaction  guaranteed : we provide unlimited amount of changes with no extra fees for you to  be surethat you will love the result of this collaboration . have a look at our  portfolio _ _ _ _ _ _ _ _ _ _ _ _ _ _ _ _ _ _ _ _ _ _ _ _ _ _ _ _ _ _ _ _ _ _ _ _ _ _ _ _ _ _ _ _ _ _ _ _ _ _ _ _ not interested . . . _ _ _ _ _ _ _ _ _ _ _ _ _ _ _ _ _ _ _ _ _ _ _ _ _ _ _ _ _ _ _ _ _ _ _ _ _ _ _ _ _ _ _ _ _ _ _ _ _ _ _ _\""
      ]
     },
     "execution_count": 8,
     "metadata": {},
     "output_type": "execute_result"
    }
   ],
   "source": [
    "edata['text'][0]"
   ]
  },
  {
   "cell_type": "code",
   "execution_count": 9,
   "metadata": {},
   "outputs": [],
   "source": [
    "#Every mail starts with 'Subject :' will remove this from each text \n",
    "edata['text']=edata['text'].map(lambda text: text[9:])"
   ]
  },
  {
   "cell_type": "code",
   "execution_count": 10,
   "metadata": {},
   "outputs": [
    {
     "data": {
      "text/plain": [
       "\"naturally irresistible your corporate identity  lt is really hard to recollect a company : the  market is full of suqgestions and the information isoverwhelminq ; but a good  catchy logo , stylish statlonery and outstanding website  will make the task much easier .  we do not promise that havinq ordered a iogo your  company will automaticaily become a world ieader : it isguite ciear that  without good products , effective business organization and practicable aim it  will be hotat nowadays market ; but we do promise that your marketing efforts  will become much more effective . here is the list of clear  benefits : creativeness : hand - made , original logos , specially done  to reflect your distinctive company image . convenience : logo and stationery  are provided in all formats ; easy - to - use content management system letsyou  change your website content and even its structure . promptness : you  will see logo drafts within three business days . affordability : your  marketing break - through shouldn ' t make gaps in your budget . 100 % satisfaction  guaranteed : we provide unlimited amount of changes with no extra fees for you to  be surethat you will love the result of this collaboration . have a look at our  portfolio _ _ _ _ _ _ _ _ _ _ _ _ _ _ _ _ _ _ _ _ _ _ _ _ _ _ _ _ _ _ _ _ _ _ _ _ _ _ _ _ _ _ _ _ _ _ _ _ _ _ _ _ not interested . . . _ _ _ _ _ _ _ _ _ _ _ _ _ _ _ _ _ _ _ _ _ _ _ _ _ _ _ _ _ _ _ _ _ _ _ _ _ _ _ _ _ _ _ _ _ _ _ _ _ _ _ _\""
      ]
     },
     "execution_count": 10,
     "metadata": {},
     "output_type": "execute_result"
    }
   ],
   "source": [
    "edata['text'][0]"
   ]
  },
  {
   "cell_type": "code",
   "execution_count": 11,
   "metadata": {},
   "outputs": [],
   "source": [
    "#Convert everything to lower and split and remove all special symbols\n",
    "edata['text'] = edata['text'].map(lambda text:re.sub('[^a-zA-Z0-9]+', ' ',text)).apply(lambda x: (x.lower()))"
   ]
  },
  {
   "cell_type": "code",
   "execution_count": 12,
   "metadata": {},
   "outputs": [
    {
     "data": {
      "text/plain": [
       "'naturally irresistible your corporate identity lt is really hard to recollect a company the market is full of suqgestions and the information isoverwhelminq but a good catchy logo stylish statlonery and outstanding website will make the task much easier we do not promise that havinq ordered a iogo your company will automaticaily become a world ieader it isguite ciear that without good products effective business organization and practicable aim it will be hotat nowadays market but we do promise that your marketing efforts will become much more effective here is the list of clear benefits creativeness hand made original logos specially done to reflect your distinctive company image convenience logo and stationery are provided in all formats easy to use content management system letsyou change your website content and even its structure promptness you will see logo drafts within three business days affordability your marketing break through shouldn t make gaps in your budget 100 satisfaction guaranteed we provide unlimited amount of changes with no extra fees for you to be surethat you will love the result of this collaboration have a look at our portfolio not interested '"
      ]
     },
     "execution_count": 12,
     "metadata": {},
     "output_type": "execute_result"
    }
   ],
   "source": [
    "edata['text'][0]"
   ]
  },
  {
   "cell_type": "code",
   "execution_count": 13,
   "metadata": {},
   "outputs": [],
   "source": [
    "#Convert everything to lower and split and remove all special symbols\n",
    "edata['text'] = edata['text'].apply(lambda x: (x.split()))"
   ]
  },
  {
   "cell_type": "code",
   "execution_count": 16,
   "metadata": {},
   "outputs": [
    {
     "data": {
      "text/plain": [
       "['naturally',\n",
       " 'irresistible',\n",
       " 'your',\n",
       " 'corporate',\n",
       " 'identity',\n",
       " 'lt',\n",
       " 'is',\n",
       " 'really',\n",
       " 'hard',\n",
       " 'to',\n",
       " 'recollect',\n",
       " 'a',\n",
       " 'company',\n",
       " 'the',\n",
       " 'market',\n",
       " 'is',\n",
       " 'full',\n",
       " 'of',\n",
       " 'suqgestions',\n",
       " 'and',\n",
       " 'the',\n",
       " 'information',\n",
       " 'isoverwhelminq',\n",
       " 'but',\n",
       " 'a',\n",
       " 'good',\n",
       " 'catchy',\n",
       " 'logo',\n",
       " 'stylish',\n",
       " 'statlonery',\n",
       " 'and',\n",
       " 'outstanding',\n",
       " 'website',\n",
       " 'will',\n",
       " 'make',\n",
       " 'the',\n",
       " 'task',\n",
       " 'much',\n",
       " 'easier',\n",
       " 'we',\n",
       " 'do',\n",
       " 'not',\n",
       " 'promise',\n",
       " 'that',\n",
       " 'havinq',\n",
       " 'ordered',\n",
       " 'a',\n",
       " 'iogo',\n",
       " 'your',\n",
       " 'company',\n",
       " 'will',\n",
       " 'automaticaily',\n",
       " 'become',\n",
       " 'a',\n",
       " 'world',\n",
       " 'ieader',\n",
       " 'it',\n",
       " 'isguite',\n",
       " 'ciear',\n",
       " 'that',\n",
       " 'without',\n",
       " 'good',\n",
       " 'products',\n",
       " 'effective',\n",
       " 'business',\n",
       " 'organization',\n",
       " 'and',\n",
       " 'practicable',\n",
       " 'aim',\n",
       " 'it',\n",
       " 'will',\n",
       " 'be',\n",
       " 'hotat',\n",
       " 'nowadays',\n",
       " 'market',\n",
       " 'but',\n",
       " 'we',\n",
       " 'do',\n",
       " 'promise',\n",
       " 'that',\n",
       " 'your',\n",
       " 'marketing',\n",
       " 'efforts',\n",
       " 'will',\n",
       " 'become',\n",
       " 'much',\n",
       " 'more',\n",
       " 'effective',\n",
       " 'here',\n",
       " 'is',\n",
       " 'the',\n",
       " 'list',\n",
       " 'of',\n",
       " 'clear',\n",
       " 'benefits',\n",
       " 'creativeness',\n",
       " 'hand',\n",
       " 'made',\n",
       " 'original',\n",
       " 'logos',\n",
       " 'specially',\n",
       " 'done',\n",
       " 'to',\n",
       " 'reflect',\n",
       " 'your',\n",
       " 'distinctive',\n",
       " 'company',\n",
       " 'image',\n",
       " 'convenience',\n",
       " 'logo',\n",
       " 'and',\n",
       " 'stationery',\n",
       " 'are',\n",
       " 'provided',\n",
       " 'in',\n",
       " 'all',\n",
       " 'formats',\n",
       " 'easy',\n",
       " 'to',\n",
       " 'use',\n",
       " 'content',\n",
       " 'management',\n",
       " 'system',\n",
       " 'letsyou',\n",
       " 'change',\n",
       " 'your',\n",
       " 'website',\n",
       " 'content',\n",
       " 'and',\n",
       " 'even',\n",
       " 'its',\n",
       " 'structure',\n",
       " 'promptness',\n",
       " 'you',\n",
       " 'will',\n",
       " 'see',\n",
       " 'logo',\n",
       " 'drafts',\n",
       " 'within',\n",
       " 'three',\n",
       " 'business',\n",
       " 'days',\n",
       " 'affordability',\n",
       " 'your',\n",
       " 'marketing',\n",
       " 'break',\n",
       " 'through',\n",
       " 'shouldn',\n",
       " 't',\n",
       " 'make',\n",
       " 'gaps',\n",
       " 'in',\n",
       " 'your',\n",
       " 'budget',\n",
       " '100',\n",
       " 'satisfaction',\n",
       " 'guaranteed',\n",
       " 'we',\n",
       " 'provide',\n",
       " 'unlimited',\n",
       " 'amount',\n",
       " 'of',\n",
       " 'changes',\n",
       " 'with',\n",
       " 'no',\n",
       " 'extra',\n",
       " 'fees',\n",
       " 'for',\n",
       " 'you',\n",
       " 'to',\n",
       " 'be',\n",
       " 'surethat',\n",
       " 'you',\n",
       " 'will',\n",
       " 'love',\n",
       " 'the',\n",
       " 'result',\n",
       " 'of',\n",
       " 'this',\n",
       " 'collaboration',\n",
       " 'have',\n",
       " 'a',\n",
       " 'look',\n",
       " 'at',\n",
       " 'our',\n",
       " 'portfolio',\n",
       " 'not',\n",
       " 'interested']"
      ]
     },
     "execution_count": 16,
     "metadata": {},
     "output_type": "execute_result"
    }
   ],
   "source": [
    "edata['text'][0]"
   ]
  },
  {
   "cell_type": "code",
   "execution_count": null,
   "metadata": {},
   "outputs": [],
   "source": []
  }
 ],
 "metadata": {
  "kernelspec": {
   "display_name": "Python 3",
   "language": "python",
   "name": "python3"
  },
  "language_info": {
   "codemirror_mode": {
    "name": "ipython",
    "version": 3
   },
   "file_extension": ".py",
   "mimetype": "text/x-python",
   "name": "python",
   "nbconvert_exporter": "python",
   "pygments_lexer": "ipython3",
   "version": "3.7.6"
  }
 },
 "nbformat": 4,
 "nbformat_minor": 2
}
