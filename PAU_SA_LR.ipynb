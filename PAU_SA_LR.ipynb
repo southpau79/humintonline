{
 "cells": [
  {
   "cell_type": "markdown",
   "metadata": {
    "colab_type": "text",
    "id": "ys_9ziILz2V_"
   },
   "source": [
    "### We cannot work with the text data in machine learning so we need to convert them into numerical vectors, As a part of this practice exercise you will implement different techniques to do the same."
   ]
  },
  {
   "cell_type": "markdown",
   "metadata": {
    "colab_type": "text",
    "id": "RO_U1p5H0A70"
   },
   "source": [
    "### In this notebook we are going to understand techniques for encoding text data. We are going to learn about\n",
    "\n",
    "1. **Techniques for Encoding** - These are the popular techniques that are used for encoding:\n",
    "    *           **Bag of Words**\n",
    "    *           **TF-IDF**( **T**erm  **F**requency - **I**nverse **D**ocument **F**requency)\n",
    "2. **Sentiment Analysis** - Sentiment Analysis is the process of ‘computationally’ determining whether a piece of writing is positive, negative or neutral. The below can be used for Sentiment Analysis:\n",
    "    *           **TextBlob**         \n",
    "    *           **VADER Sentiment**"
   ]
  },
  {
   "cell_type": "code",
   "execution_count": 1,
   "metadata": {
    "colab": {
     "base_uri": "https://localhost:8080/",
     "height": 190
    },
    "colab_type": "code",
    "id": "9Q0rVye0zGNA",
    "outputId": "cb8bb40f-e6d1-4c24-a519-17a9afb591cc"
   },
   "outputs": [
    {
     "name": "stdout",
     "output_type": "stream",
     "text": [
      "[nltk_data] Downloading package stopwords to /root/nltk_data...\n",
      "[nltk_data]   Package stopwords is already up-to-date!\n",
      "[nltk_data] Downloading package punkt to /root/nltk_data...\n",
      "[nltk_data]   Package punkt is already up-to-date!\n",
      "Collecting vaderSentiment\n",
      "\u001b[?25l  Downloading https://files.pythonhosted.org/packages/44/a3/1218a3b5651dbcba1699101c84e5c84c36cbba360d9dbf29f2ff18482982/vaderSentiment-3.3.1-py2.py3-none-any.whl (125kB)\n",
      "\u001b[K     |████████████████████████████████| 133kB 4.7MB/s \n",
      "\u001b[?25hInstalling collected packages: vaderSentiment\n",
      "Successfully installed vaderSentiment-3.3.1\n"
     ]
    }
   ],
   "source": [
    "import re\n",
    "import numpy as np                                  #for large and multi-dimensional arrays\n",
    "import pandas as pd                                 #for data manipulation and analysis\n",
    "import nltk                                         #Natural language processing tool-kit\n",
    "\n",
    "nltk.download('stopwords')\n",
    "nltk.download('punkt')\n",
    "\n",
    "from nltk.corpus import stopwords                   #Stopwords corpus\n",
    "from nltk.stem import PorterStemmer                 # Stemmer\n",
    "from nltk.tokenize import word_tokenize \n",
    "\n",
    "\n",
    "from sklearn.feature_extraction.text import CountVectorizer          #For Bag of words\n",
    "from sklearn.feature_extraction.text import TfidfVectorizer          #For TF-IDF\n",
    "\n",
    "!pip install vaderSentiment"
   ]
  },
  {
   "cell_type": "code",
   "execution_count": 0,
   "metadata": {
    "colab": {},
    "colab_type": "code",
    "id": "DUey4gmv2hOD"
   },
   "outputs": [],
   "source": [
    "d1 = 'I enjoy this program.'\n",
    "d2 = 'This program is great.'\n",
    "d3 = 'This product is not great.'\n",
    "d4 = 'I really love this brand.'"
   ]
  },
  {
   "cell_type": "markdown",
   "metadata": {
    "colab_type": "text",
    "id": "lHRkkH3J5mbU"
   },
   "source": [
    "### Basic Pre-processing Steps:\n",
    "\n",
    "- Conversion to lowercase.\n",
    "- Removal of punctuation.\n",
    "- Tokenization.\n",
    "- Stopwords removal except the word 'not'."
   ]
  },
  {
   "cell_type": "code",
   "execution_count": 0,
   "metadata": {
    "colab": {},
    "colab_type": "code",
    "id": "p6_OCome6xgF"
   },
   "outputs": [],
   "source": [
    "stopwords = stopwords.words('english')\n",
    "stopwords.remove('not')"
   ]
  },
  {
   "cell_type": "code",
   "execution_count": 4,
   "metadata": {
    "colab": {
     "base_uri": "https://localhost:8080/",
     "height": 1000
    },
    "colab_type": "code",
    "id": "yHxgfP627G3M",
    "outputId": "dfd073b8-65a1-4a82-fe99-3dd5c54eeb27"
   },
   "outputs": [
    {
     "data": {
      "text/plain": [
       "['i',\n",
       " 'me',\n",
       " 'my',\n",
       " 'myself',\n",
       " 'we',\n",
       " 'our',\n",
       " 'ours',\n",
       " 'ourselves',\n",
       " 'you',\n",
       " \"you're\",\n",
       " \"you've\",\n",
       " \"you'll\",\n",
       " \"you'd\",\n",
       " 'your',\n",
       " 'yours',\n",
       " 'yourself',\n",
       " 'yourselves',\n",
       " 'he',\n",
       " 'him',\n",
       " 'his',\n",
       " 'himself',\n",
       " 'she',\n",
       " \"she's\",\n",
       " 'her',\n",
       " 'hers',\n",
       " 'herself',\n",
       " 'it',\n",
       " \"it's\",\n",
       " 'its',\n",
       " 'itself',\n",
       " 'they',\n",
       " 'them',\n",
       " 'their',\n",
       " 'theirs',\n",
       " 'themselves',\n",
       " 'what',\n",
       " 'which',\n",
       " 'who',\n",
       " 'whom',\n",
       " 'this',\n",
       " 'that',\n",
       " \"that'll\",\n",
       " 'these',\n",
       " 'those',\n",
       " 'am',\n",
       " 'is',\n",
       " 'are',\n",
       " 'was',\n",
       " 'were',\n",
       " 'be',\n",
       " 'been',\n",
       " 'being',\n",
       " 'have',\n",
       " 'has',\n",
       " 'had',\n",
       " 'having',\n",
       " 'do',\n",
       " 'does',\n",
       " 'did',\n",
       " 'doing',\n",
       " 'a',\n",
       " 'an',\n",
       " 'the',\n",
       " 'and',\n",
       " 'but',\n",
       " 'if',\n",
       " 'or',\n",
       " 'because',\n",
       " 'as',\n",
       " 'until',\n",
       " 'while',\n",
       " 'of',\n",
       " 'at',\n",
       " 'by',\n",
       " 'for',\n",
       " 'with',\n",
       " 'about',\n",
       " 'against',\n",
       " 'between',\n",
       " 'into',\n",
       " 'through',\n",
       " 'during',\n",
       " 'before',\n",
       " 'after',\n",
       " 'above',\n",
       " 'below',\n",
       " 'to',\n",
       " 'from',\n",
       " 'up',\n",
       " 'down',\n",
       " 'in',\n",
       " 'out',\n",
       " 'on',\n",
       " 'off',\n",
       " 'over',\n",
       " 'under',\n",
       " 'again',\n",
       " 'further',\n",
       " 'then',\n",
       " 'once',\n",
       " 'here',\n",
       " 'there',\n",
       " 'when',\n",
       " 'where',\n",
       " 'why',\n",
       " 'how',\n",
       " 'all',\n",
       " 'any',\n",
       " 'both',\n",
       " 'each',\n",
       " 'few',\n",
       " 'more',\n",
       " 'most',\n",
       " 'other',\n",
       " 'some',\n",
       " 'such',\n",
       " 'no',\n",
       " 'nor',\n",
       " 'only',\n",
       " 'own',\n",
       " 'same',\n",
       " 'so',\n",
       " 'than',\n",
       " 'too',\n",
       " 'very',\n",
       " 's',\n",
       " 't',\n",
       " 'can',\n",
       " 'will',\n",
       " 'just',\n",
       " 'don',\n",
       " \"don't\",\n",
       " 'should',\n",
       " \"should've\",\n",
       " 'now',\n",
       " 'd',\n",
       " 'll',\n",
       " 'm',\n",
       " 'o',\n",
       " 're',\n",
       " 've',\n",
       " 'y',\n",
       " 'ain',\n",
       " 'aren',\n",
       " \"aren't\",\n",
       " 'couldn',\n",
       " \"couldn't\",\n",
       " 'didn',\n",
       " \"didn't\",\n",
       " 'doesn',\n",
       " \"doesn't\",\n",
       " 'hadn',\n",
       " \"hadn't\",\n",
       " 'hasn',\n",
       " \"hasn't\",\n",
       " 'haven',\n",
       " \"haven't\",\n",
       " 'isn',\n",
       " \"isn't\",\n",
       " 'ma',\n",
       " 'mightn',\n",
       " \"mightn't\",\n",
       " 'mustn',\n",
       " \"mustn't\",\n",
       " 'needn',\n",
       " \"needn't\",\n",
       " 'shan',\n",
       " \"shan't\",\n",
       " 'shouldn',\n",
       " \"shouldn't\",\n",
       " 'wasn',\n",
       " \"wasn't\",\n",
       " 'weren',\n",
       " \"weren't\",\n",
       " 'won',\n",
       " \"won't\",\n",
       " 'wouldn',\n",
       " \"wouldn't\"]"
      ]
     },
     "execution_count": 4,
     "metadata": {
      "tags": []
     },
     "output_type": "execute_result"
    }
   ],
   "source": [
    "stopwords"
   ]
  },
  {
   "cell_type": "code",
   "execution_count": 0,
   "metadata": {
    "colab": {},
    "colab_type": "code",
    "id": "G2G8yS9t5Gy9"
   },
   "outputs": [],
   "source": [
    "ps = PorterStemmer()\n",
    "def preprocess(text):\n",
    "  '''Pre-processing steps as described above.'''\n",
    "  # text = text.lower()\n",
    "  # # text = re.sub(r'[.|,|)|(|\\|/]',r'', text)        #Removing Punctuations\n",
    "  # words = [word for word in text if word not in stopwords]   # removing stopwords\n",
    "  # return words\n",
    "  text = text.lower()                 # Converting to lowercase\n",
    "  text = re.sub(r'[.|,|)|(|\\|/]',r' ', text) # Removing punctuation\n",
    "  word_tokens = word_tokenize(text)  # Tokenization\n",
    "\n",
    "  words = [word for word in word_tokens if word not in stopwords] # Stop word removal\n",
    "  return words"
   ]
  },
  {
   "cell_type": "code",
   "execution_count": 6,
   "metadata": {
    "colab": {
     "base_uri": "https://localhost:8080/",
     "height": 34
    },
    "colab_type": "code",
    "id": "ZeXcxizn-0-z",
    "outputId": "9f8e1727-6498-4f68-dbaf-ff3ba09e40c6"
   },
   "outputs": [
    {
     "name": "stdout",
     "output_type": "stream",
     "text": [
      "['enjoy', 'program', 'program', 'great', 'product', 'not', 'great', 'really', 'love', 'brand']\n"
     ]
    }
   ],
   "source": [
    "d1_new = preprocess(d1)\n",
    "d2_new = preprocess(d2)\n",
    "d3_new = preprocess(d3)\n",
    "d4_new = preprocess(d4)\n",
    "\n",
    "sent = d1_new + d2_new + d3_new + d4_new\n",
    "print(sent)"
   ]
  },
  {
   "cell_type": "markdown",
   "metadata": {
    "colab_type": "text",
    "id": "O8ZksdJQSGxp"
   },
   "source": [
    "### **BAG OF WORDS**\n",
    "      \n",
    "In BoW we construct a dictionary that contains set of all unique words from our text review dataset. The frequency of the word is counted here. If there are **d** unique words in our dictionary then for every sentence or review the vector will be of length **d** and count of word from review is stored at its particular location in vector. The vector will be highly sparse in such case.\n",
    "      \n",
    "      \n",
    "#### Using scikit-learn's CountVectorizer we can get the BoW and check out all the parameters it consists of."
   ]
  },
  {
   "cell_type": "code",
   "execution_count": 16,
   "metadata": {
    "colab": {
     "base_uri": "https://localhost:8080/",
     "height": 238
    },
    "colab_type": "code",
    "id": "R0VtzfH8_KEI",
    "outputId": "cbf573f4-5f57-4ce1-8b20-fbe12585efa6"
   },
   "outputs": [
    {
     "name": "stdout",
     "output_type": "stream",
     "text": [
      "{'enjoy': 1, 'program': 6, 'great': 2, 'product': 5, 'not': 4, 'really': 7, 'love': 3, 'brand': 0}\n",
      "(10, 8)\n",
      "<class 'scipy.sparse.csr.csr_matrix'>\n",
      "[[0 1 0 0 0 0 0 0]\n",
      " [0 0 0 0 0 0 1 0]\n",
      " [0 0 0 0 0 0 1 0]\n",
      " [0 0 1 0 0 0 0 0]\n",
      " [0 0 0 0 0 1 0 0]\n",
      " [0 0 0 0 1 0 0 0]\n",
      " [0 0 1 0 0 0 0 0]\n",
      " [0 0 0 0 0 0 0 1]\n",
      " [0 0 0 1 0 0 0 0]\n",
      " [1 0 0 0 0 0 0 0]]\n"
     ]
    }
   ],
   "source": [
    "cv = CountVectorizer()  \n",
    "X = cv.fit_transform(sent)\n",
    "print(cv.vocabulary_)\n",
    "print(X.shape)\n",
    "print(type(X))\n",
    "print(X.toarray())"
   ]
  },
  {
   "cell_type": "code",
   "execution_count": 8,
   "metadata": {
    "colab": {
     "base_uri": "https://localhost:8080/",
     "height": 34
    },
    "colab_type": "code",
    "id": "RIpeouzfDbZB",
    "outputId": "f5c83ac6-085f-4bc9-ade8-63954f717b2a"
   },
   "outputs": [
    {
     "data": {
      "text/plain": [
       "['really', 'enjoy', 'great', 'love', 'not', 'program', 'brand', 'product']"
      ]
     },
     "execution_count": 8,
     "metadata": {
      "tags": []
     },
     "output_type": "execute_result"
    }
   ],
   "source": [
    "myvocabulary = list(set(sent))\n",
    "myvocabulary"
   ]
  },
  {
   "cell_type": "markdown",
   "metadata": {
    "colab_type": "text",
    "id": "7NHba_ClS3qq"
   },
   "source": [
    "**TF-IDF**\n",
    "\n",
    "**Term Frequency -  Inverse Document Frequency** it makes sure that less importance is given to most frequent words and also considers less frequent words.\n",
    "\n",
    "**Term Frequency** is number of times a **particular word(W)** occurs in a review divided by totall number of words **(Wr)** in review. The term frequency value ranges from 0 to 1.\n",
    "\n",
    "**Inverse Document Frequency** is calculated as **log(Total Number of Docs(N) / Number of Docs which contains particular word(n))**. Here Docs referred as Reviews.\n",
    "\n",
    "\n",
    "**TF-IDF** is **TF * IDF** that is **(W/Wr)*LOG(N/n)**\n",
    "\n",
    "\n",
    " Using scikit-learn's tfidfVectorizer we can get the TF-IDF.\n",
    "\n",
    "So even here we get a TF-IDF value for every word and in some cases it may consider different meaning reviews as similar after stopwords removal. so to over come we can use BI-Gram or NGram."
   ]
  },
  {
   "cell_type": "code",
   "execution_count": 21,
   "metadata": {
    "colab": {
     "base_uri": "https://localhost:8080/",
     "height": 238
    },
    "colab_type": "code",
    "id": "hQcrkj2SLWju",
    "outputId": "9abd8a43-ab46-423d-c1d6-68c2a93488aa"
   },
   "outputs": [
    {
     "name": "stdout",
     "output_type": "stream",
     "text": [
      "{'really': 0, 'enjoy': 1, 'great': 2, 'love': 3, 'not': 4, 'program': 5, 'brand': 6, 'product': 7}\n",
      "[1.91629073 1.91629073 1.51082562 1.91629073 1.91629073 1.51082562\n",
      " 1.91629073 1.91629073]\n",
      "(4, 8)\n",
      "                1         2         3        4\n",
      "really   0.000000  0.000000  0.000000  0.57735\n",
      "enjoy    0.785288  0.000000  0.000000  0.00000\n",
      "great    0.000000  0.707107  0.486934  0.00000\n",
      "love     0.000000  0.000000  0.000000  0.57735\n",
      "not      0.000000  0.000000  0.617614  0.00000\n",
      "program  0.619130  0.707107  0.000000  0.00000\n",
      "brand    0.000000  0.000000  0.000000  0.57735\n",
      "product  0.000000  0.000000  0.617614  0.00000\n"
     ]
    }
   ],
   "source": [
    "corpus = {1: d1, 2: d2, 3: d3, 4: d4}\n",
    "tfidf = TfidfVectorizer(vocabulary = myvocabulary, ngram_range = (1,2))\n",
    "tfs = tfidf.fit_transform(corpus.values())\n",
    "feature_names = tfidf.get_feature_names()\n",
    "corpus_index = [n for n in corpus]\n",
    "import pandas as pd\n",
    "df = pd.DataFrame(tfs.T.todense(), index=feature_names, columns=corpus_index)\n",
    "print(tfidf.vocabulary_)\n",
    "print(tfidf.idf_)\n",
    "print(tfs.shape)\n",
    "print(df)\n"
   ]
  },
  {
   "cell_type": "markdown",
   "metadata": {
    "colab_type": "text",
    "id": "28RiwtpkTEco"
   },
   "source": [
    "**VADER (Valence Aware Dictionary and sEntiment Reasoner)** is a lexicon and rule-based sentiment analysis tool that is specifically attuned to sentiments expressed in social media. VADER uses a combination of A sentiment lexicon is a list of lexical features (e.g., words) which are generally labeled according to their semantic orientation as either positive or negative. VADER not only tells about the Positivity and Negativity score but also tells us about how positive or negative a sentiment is."
   ]
  },
  {
   "cell_type": "code",
   "execution_count": 11,
   "metadata": {
    "colab": {
     "base_uri": "https://localhost:8080/",
     "height": 85
    },
    "colab_type": "code",
    "id": "KqeDC3C2MDry",
    "outputId": "8f3a220f-b48b-4a6c-fb48-b620d0ad3590"
   },
   "outputs": [
    {
     "name": "stdout",
     "output_type": "stream",
     "text": [
      "{'neg': 0.0, 'neu': 0.484, 'pos': 0.516, 'compound': 0.4939}\n",
      "{'neg': 0.0, 'neu': 0.423, 'pos': 0.577, 'compound': 0.6249}\n",
      "{'neg': 0.452, 'neu': 0.548, 'pos': 0.0, 'compound': -0.5096}\n",
      "{'neg': 0.0, 'neu': 0.471, 'pos': 0.529, 'compound': 0.6697}\n"
     ]
    }
   ],
   "source": [
    "from vaderSentiment.vaderSentiment import SentimentIntensityAnalyzer \n",
    "sentiment = SentimentIntensityAnalyzer()\n",
    "sentiment_dict1 = sentiment.polarity_scores(d1)\n",
    "sentiment_dict2 = sentiment.polarity_scores(d2)\n",
    "sentiment_dict3 = sentiment.polarity_scores(d3)\n",
    "sentiment_dict4 = sentiment.polarity_scores(d4)\n",
    "\n",
    "print(sentiment_dict1)\n",
    "print(sentiment_dict2)\n",
    "print(sentiment_dict3)\n",
    "print(sentiment_dict4)"
   ]
  },
  {
   "cell_type": "markdown",
   "metadata": {
    "colab_type": "text",
    "id": "V9U88UMLTUyY"
   },
   "source": [
    "#### With the help of TextBlob.sentiment() method, we can get the sentiments of the sentences by using TextBlob.sentiment() method."
   ]
  },
  {
   "cell_type": "code",
   "execution_count": 23,
   "metadata": {
    "colab": {
     "base_uri": "https://localhost:8080/",
     "height": 85
    },
    "colab_type": "code",
    "id": "YFkcWCqZOfEo",
    "outputId": "aea7e955-2d04-42ca-9968-4a8e0886b897"
   },
   "outputs": [
    {
     "name": "stdout",
     "output_type": "stream",
     "text": [
      "Sentiment(polarity=0.4, subjectivity=0.5)\n",
      "Sentiment(polarity=0.8, subjectivity=0.75)\n",
      "Sentiment(polarity=-0.4, subjectivity=0.75)\n",
      "Sentiment(polarity=0.5, subjectivity=0.6)\n"
     ]
    }
   ],
   "source": [
    "from textblob import TextBlob\n",
    "print(TextBlob(d1).sentiment)\n",
    "print(TextBlob(d2).sentiment)\n",
    "print(TextBlob(d3).sentiment)\n",
    "print(TextBlob(d4).sentiment)"
   ]
  },
  {
   "cell_type": "code",
   "execution_count": 0,
   "metadata": {
    "colab": {},
    "colab_type": "code",
    "id": "wX2oVwcgRk5q"
   },
   "outputs": [],
   "source": []
  }
 ],
 "metadata": {
  "colab": {
   "collapsed_sections": [],
   "name": "Practice Exercise NLP week-2 Solution.ipynb",
   "provenance": []
  },
  "kernelspec": {
   "display_name": "Python 3",
   "language": "python",
   "name": "python3"
  },
  "language_info": {
   "codemirror_mode": {
    "name": "ipython",
    "version": 3
   },
   "file_extension": ".py",
   "mimetype": "text/x-python",
   "name": "python",
   "nbconvert_exporter": "python",
   "pygments_lexer": "ipython3",
   "version": "3.7.6"
  }
 },
 "nbformat": 4,
 "nbformat_minor": 1
}
