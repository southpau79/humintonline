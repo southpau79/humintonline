{
 "cells": [
  {
   "cell_type": "markdown",
   "metadata": {},
   "source": [
    "# Bank Churn Prediction "
   ]
  },
  {
   "cell_type": "markdown",
   "metadata": {},
   "source": [
    "Objective: \n",
    "Given a Bank customer, build a neural network based classifier that can determine whether they will leave or not in the next 6 months.  \n",
    " \n",
    "Context:  \n",
    "Businesses like banks which provide service have to worry about problem of 'Churn' i.e. customers leaving and joining another service provider. It is important to understand which aspects of the service influence a customer's decision in this regard. Management can concentrate efforts on improvement of service, keeping in mind these priorities.  \n",
    " \n",
    "Data Description:  \n",
    "The case study is from an open-source dataset from Kaggle.  The dataset contains 10,000 sample points with 14 distinct features such as CustomerId, CreditScore, Geography, Gender, Age, Tenure, Balance etc. "
   ]
  },
  {
   "cell_type": "code",
   "execution_count": 193,
   "metadata": {},
   "outputs": [],
   "source": [
    "#Load basic libraries\n",
    "\n",
    "import numpy as np\n",
    "import pandas as pd\n",
    "import seaborn as sns\n",
    "import math\n",
    "import numbers\n",
    "import random\n",
    "import operator\n",
    "import random\n",
    "\n",
    "#import standard visualization\n",
    "\n",
    "from statsmodels.formula.api import ols\n",
    "from statsmodels.stats.anova import anova_lm\n",
    "from scipy.stats import chisquare\n",
    "import scipy.stats as stats\n",
    "from scipy.stats import chi2_contingency\n",
    "%matplotlib inline\n",
    "import matplotlib.pyplot as plt\n",
    "%matplotlib inline \n",
    "import seaborn as sns\n",
    "sns.set()\n",
    "sns.set(style = 'darkgrid')\n",
    "from IPython.display import HTML, display\n",
    "from IPython.core import display as ICD\n",
    "from pandas.plotting import scatter_matrix\n",
    "pd.options.display.max_columns = None\n",
    "import warnings\n",
    "import scikitplot as skplt\n",
    "warnings.filterwarnings('ignore')\n",
    "\n",
    "\n",
    "#Load machine learning libraries\n",
    "\n",
    "from sklearn import ensemble, metrics\n",
    "from sklearn import model_selection\n",
    "#from sklearn.model_selection import cross_validation\n",
    "from sklearn.ensemble import GradientBoostingClassifier\n",
    "from sklearn import preprocessing\n",
    "from sklearn.preprocessing import StandardScaler\n",
    "from sklearn.preprocessing import MinMaxScaler\n",
    "from sklearn.preprocessing import MaxAbsScaler\n",
    "from sklearn.preprocessing import Normalizer\n",
    "from sklearn.preprocessing import RobustScaler\n",
    "from sklearn.preprocessing import PowerTransformer\n",
    "from sklearn.preprocessing import QuantileTransformer\n",
    "from sklearn.model_selection import train_test_split\n",
    "from sklearn.model_selection import KFold\n",
    "from sklearn.model_selection import GridSearchCV\n",
    "from sklearn.metrics import roc_curve, auc\n",
    "from sklearn.metrics import roc_auc_score\n",
    "import matplotlib.pyplot as plt\n",
    "from sklearn.preprocessing import LabelEncoder, OneHotEncoder\n",
    "from sklearn.compose import ColumnTransformer\n",
    "from sklearn.preprocessing import LabelBinarizer\n",
    "import sklearn.metrics as skm\n",
    "from sklearn.metrics import confusion_matrix\n",
    "#from pandas_ml import ConfusionMatrix (returns attribute error: no imputer)\n",
    "from sklearn.metrics import accuracy_score\n",
    "from sklearn.metrics import classification_report \n",
    "\n",
    "#Load neural network libraries\n",
    "\n",
    "import tensorflow as tf\n",
    "from tensorflow.keras.datasets import mnist\n",
    "from tensorflow.keras import Sequential\n",
    "from tensorflow.keras.layers import Dense\n",
    "from tensorflow import keras\n",
    "from tensorflow.keras.datasets import mnist\n",
    "from tensorflow.keras import Sequential\n",
    "from tensorflow.keras.layers import Dense\n",
    "\n",
    "# Ignore warnings\n",
    "import warnings\n",
    "warnings.filterwarnings('ignore')"
   ]
  },
  {
   "cell_type": "markdown",
   "metadata": {},
   "source": [
    "# Loading and initial analysis"
   ]
  },
  {
   "cell_type": "code",
   "execution_count": 2,
   "metadata": {},
   "outputs": [
    {
     "data": {
      "text/html": [
       "<div>\n",
       "<style scoped>\n",
       "    .dataframe tbody tr th:only-of-type {\n",
       "        vertical-align: middle;\n",
       "    }\n",
       "\n",
       "    .dataframe tbody tr th {\n",
       "        vertical-align: top;\n",
       "    }\n",
       "\n",
       "    .dataframe thead th {\n",
       "        text-align: right;\n",
       "    }\n",
       "</style>\n",
       "<table border=\"1\" class=\"dataframe\">\n",
       "  <thead>\n",
       "    <tr style=\"text-align: right;\">\n",
       "      <th></th>\n",
       "      <th>RowNumber</th>\n",
       "      <th>CustomerId</th>\n",
       "      <th>Surname</th>\n",
       "      <th>CreditScore</th>\n",
       "      <th>Geography</th>\n",
       "      <th>Gender</th>\n",
       "      <th>Age</th>\n",
       "      <th>Tenure</th>\n",
       "      <th>Balance</th>\n",
       "      <th>NumOfProducts</th>\n",
       "      <th>HasCrCard</th>\n",
       "      <th>IsActiveMember</th>\n",
       "      <th>EstimatedSalary</th>\n",
       "      <th>Exited</th>\n",
       "    </tr>\n",
       "  </thead>\n",
       "  <tbody>\n",
       "    <tr>\n",
       "      <th>0</th>\n",
       "      <td>1</td>\n",
       "      <td>15634602</td>\n",
       "      <td>Hargrave</td>\n",
       "      <td>619</td>\n",
       "      <td>France</td>\n",
       "      <td>Female</td>\n",
       "      <td>42</td>\n",
       "      <td>2</td>\n",
       "      <td>0.00</td>\n",
       "      <td>1</td>\n",
       "      <td>1</td>\n",
       "      <td>1</td>\n",
       "      <td>101348.88</td>\n",
       "      <td>1</td>\n",
       "    </tr>\n",
       "    <tr>\n",
       "      <th>1</th>\n",
       "      <td>2</td>\n",
       "      <td>15647311</td>\n",
       "      <td>Hill</td>\n",
       "      <td>608</td>\n",
       "      <td>Spain</td>\n",
       "      <td>Female</td>\n",
       "      <td>41</td>\n",
       "      <td>1</td>\n",
       "      <td>83807.86</td>\n",
       "      <td>1</td>\n",
       "      <td>0</td>\n",
       "      <td>1</td>\n",
       "      <td>112542.58</td>\n",
       "      <td>0</td>\n",
       "    </tr>\n",
       "    <tr>\n",
       "      <th>2</th>\n",
       "      <td>3</td>\n",
       "      <td>15619304</td>\n",
       "      <td>Onio</td>\n",
       "      <td>502</td>\n",
       "      <td>France</td>\n",
       "      <td>Female</td>\n",
       "      <td>42</td>\n",
       "      <td>8</td>\n",
       "      <td>159660.80</td>\n",
       "      <td>3</td>\n",
       "      <td>1</td>\n",
       "      <td>0</td>\n",
       "      <td>113931.57</td>\n",
       "      <td>1</td>\n",
       "    </tr>\n",
       "    <tr>\n",
       "      <th>3</th>\n",
       "      <td>4</td>\n",
       "      <td>15701354</td>\n",
       "      <td>Boni</td>\n",
       "      <td>699</td>\n",
       "      <td>France</td>\n",
       "      <td>Female</td>\n",
       "      <td>39</td>\n",
       "      <td>1</td>\n",
       "      <td>0.00</td>\n",
       "      <td>2</td>\n",
       "      <td>0</td>\n",
       "      <td>0</td>\n",
       "      <td>93826.63</td>\n",
       "      <td>0</td>\n",
       "    </tr>\n",
       "    <tr>\n",
       "      <th>4</th>\n",
       "      <td>5</td>\n",
       "      <td>15737888</td>\n",
       "      <td>Mitchell</td>\n",
       "      <td>850</td>\n",
       "      <td>Spain</td>\n",
       "      <td>Female</td>\n",
       "      <td>43</td>\n",
       "      <td>2</td>\n",
       "      <td>125510.82</td>\n",
       "      <td>1</td>\n",
       "      <td>1</td>\n",
       "      <td>1</td>\n",
       "      <td>79084.10</td>\n",
       "      <td>0</td>\n",
       "    </tr>\n",
       "  </tbody>\n",
       "</table>\n",
       "</div>"
      ],
      "text/plain": [
       "   RowNumber  CustomerId   Surname  CreditScore Geography  Gender  Age  \\\n",
       "0          1    15634602  Hargrave          619    France  Female   42   \n",
       "1          2    15647311      Hill          608     Spain  Female   41   \n",
       "2          3    15619304      Onio          502    France  Female   42   \n",
       "3          4    15701354      Boni          699    France  Female   39   \n",
       "4          5    15737888  Mitchell          850     Spain  Female   43   \n",
       "\n",
       "   Tenure    Balance  NumOfProducts  HasCrCard  IsActiveMember  \\\n",
       "0       2       0.00              1          1               1   \n",
       "1       1   83807.86              1          0               1   \n",
       "2       8  159660.80              3          1               0   \n",
       "3       1       0.00              2          0               0   \n",
       "4       2  125510.82              1          1               1   \n",
       "\n",
       "   EstimatedSalary  Exited  \n",
       "0        101348.88       1  \n",
       "1        112542.58       0  \n",
       "2        113931.57       1  \n",
       "3         93826.63       0  \n",
       "4         79084.10       0  "
      ]
     },
     "execution_count": 2,
     "metadata": {},
     "output_type": "execute_result"
    }
   ],
   "source": [
    "bcm_df = pd.read_csv(\"bank.csv\")\n",
    "bcm_df.head()"
   ]
  },
  {
   "cell_type": "code",
   "execution_count": 3,
   "metadata": {},
   "outputs": [
    {
     "data": {
      "text/plain": [
       "(10000, 14)"
      ]
     },
     "execution_count": 3,
     "metadata": {},
     "output_type": "execute_result"
    }
   ],
   "source": [
    "bcm_df.shape"
   ]
  },
  {
   "cell_type": "code",
   "execution_count": 4,
   "metadata": {},
   "outputs": [
    {
     "name": "stdout",
     "output_type": "stream",
     "text": [
      "<class 'pandas.core.frame.DataFrame'>\n",
      "RangeIndex: 10000 entries, 0 to 9999\n",
      "Data columns (total 14 columns):\n",
      " #   Column           Non-Null Count  Dtype  \n",
      "---  ------           --------------  -----  \n",
      " 0   RowNumber        10000 non-null  int64  \n",
      " 1   CustomerId       10000 non-null  int64  \n",
      " 2   Surname          10000 non-null  object \n",
      " 3   CreditScore      10000 non-null  int64  \n",
      " 4   Geography        10000 non-null  object \n",
      " 5   Gender           10000 non-null  object \n",
      " 6   Age              10000 non-null  int64  \n",
      " 7   Tenure           10000 non-null  int64  \n",
      " 8   Balance          10000 non-null  float64\n",
      " 9   NumOfProducts    10000 non-null  int64  \n",
      " 10  HasCrCard        10000 non-null  int64  \n",
      " 11  IsActiveMember   10000 non-null  int64  \n",
      " 12  EstimatedSalary  10000 non-null  float64\n",
      " 13  Exited           10000 non-null  int64  \n",
      "dtypes: float64(2), int64(9), object(3)\n",
      "memory usage: 1.1+ MB\n"
     ]
    }
   ],
   "source": [
    "bcm_df.info()"
   ]
  },
  {
   "cell_type": "code",
   "execution_count": 5,
   "metadata": {},
   "outputs": [
    {
     "data": {
      "text/html": [
       "<div>\n",
       "<style scoped>\n",
       "    .dataframe tbody tr th:only-of-type {\n",
       "        vertical-align: middle;\n",
       "    }\n",
       "\n",
       "    .dataframe tbody tr th {\n",
       "        vertical-align: top;\n",
       "    }\n",
       "\n",
       "    .dataframe thead th {\n",
       "        text-align: right;\n",
       "    }\n",
       "</style>\n",
       "<table border=\"1\" class=\"dataframe\">\n",
       "  <thead>\n",
       "    <tr style=\"text-align: right;\">\n",
       "      <th></th>\n",
       "      <th>count</th>\n",
       "      <th>mean</th>\n",
       "      <th>std</th>\n",
       "      <th>min</th>\n",
       "      <th>25%</th>\n",
       "      <th>50%</th>\n",
       "      <th>75%</th>\n",
       "      <th>max</th>\n",
       "    </tr>\n",
       "  </thead>\n",
       "  <tbody>\n",
       "    <tr>\n",
       "      <th>RowNumber</th>\n",
       "      <td>10000.0</td>\n",
       "      <td>5.000500e+03</td>\n",
       "      <td>2886.895680</td>\n",
       "      <td>1.00</td>\n",
       "      <td>2500.75</td>\n",
       "      <td>5.000500e+03</td>\n",
       "      <td>7.500250e+03</td>\n",
       "      <td>10000.00</td>\n",
       "    </tr>\n",
       "    <tr>\n",
       "      <th>CustomerId</th>\n",
       "      <td>10000.0</td>\n",
       "      <td>1.569094e+07</td>\n",
       "      <td>71936.186123</td>\n",
       "      <td>15565701.00</td>\n",
       "      <td>15628528.25</td>\n",
       "      <td>1.569074e+07</td>\n",
       "      <td>1.575323e+07</td>\n",
       "      <td>15815690.00</td>\n",
       "    </tr>\n",
       "    <tr>\n",
       "      <th>CreditScore</th>\n",
       "      <td>10000.0</td>\n",
       "      <td>6.505288e+02</td>\n",
       "      <td>96.653299</td>\n",
       "      <td>350.00</td>\n",
       "      <td>584.00</td>\n",
       "      <td>6.520000e+02</td>\n",
       "      <td>7.180000e+02</td>\n",
       "      <td>850.00</td>\n",
       "    </tr>\n",
       "    <tr>\n",
       "      <th>Age</th>\n",
       "      <td>10000.0</td>\n",
       "      <td>3.892180e+01</td>\n",
       "      <td>10.487806</td>\n",
       "      <td>18.00</td>\n",
       "      <td>32.00</td>\n",
       "      <td>3.700000e+01</td>\n",
       "      <td>4.400000e+01</td>\n",
       "      <td>92.00</td>\n",
       "    </tr>\n",
       "    <tr>\n",
       "      <th>Tenure</th>\n",
       "      <td>10000.0</td>\n",
       "      <td>5.012800e+00</td>\n",
       "      <td>2.892174</td>\n",
       "      <td>0.00</td>\n",
       "      <td>3.00</td>\n",
       "      <td>5.000000e+00</td>\n",
       "      <td>7.000000e+00</td>\n",
       "      <td>10.00</td>\n",
       "    </tr>\n",
       "    <tr>\n",
       "      <th>Balance</th>\n",
       "      <td>10000.0</td>\n",
       "      <td>7.648589e+04</td>\n",
       "      <td>62397.405202</td>\n",
       "      <td>0.00</td>\n",
       "      <td>0.00</td>\n",
       "      <td>9.719854e+04</td>\n",
       "      <td>1.276442e+05</td>\n",
       "      <td>250898.09</td>\n",
       "    </tr>\n",
       "    <tr>\n",
       "      <th>NumOfProducts</th>\n",
       "      <td>10000.0</td>\n",
       "      <td>1.530200e+00</td>\n",
       "      <td>0.581654</td>\n",
       "      <td>1.00</td>\n",
       "      <td>1.00</td>\n",
       "      <td>1.000000e+00</td>\n",
       "      <td>2.000000e+00</td>\n",
       "      <td>4.00</td>\n",
       "    </tr>\n",
       "    <tr>\n",
       "      <th>HasCrCard</th>\n",
       "      <td>10000.0</td>\n",
       "      <td>7.055000e-01</td>\n",
       "      <td>0.455840</td>\n",
       "      <td>0.00</td>\n",
       "      <td>0.00</td>\n",
       "      <td>1.000000e+00</td>\n",
       "      <td>1.000000e+00</td>\n",
       "      <td>1.00</td>\n",
       "    </tr>\n",
       "    <tr>\n",
       "      <th>IsActiveMember</th>\n",
       "      <td>10000.0</td>\n",
       "      <td>5.151000e-01</td>\n",
       "      <td>0.499797</td>\n",
       "      <td>0.00</td>\n",
       "      <td>0.00</td>\n",
       "      <td>1.000000e+00</td>\n",
       "      <td>1.000000e+00</td>\n",
       "      <td>1.00</td>\n",
       "    </tr>\n",
       "    <tr>\n",
       "      <th>EstimatedSalary</th>\n",
       "      <td>10000.0</td>\n",
       "      <td>1.000902e+05</td>\n",
       "      <td>57510.492818</td>\n",
       "      <td>11.58</td>\n",
       "      <td>51002.11</td>\n",
       "      <td>1.001939e+05</td>\n",
       "      <td>1.493882e+05</td>\n",
       "      <td>199992.48</td>\n",
       "    </tr>\n",
       "    <tr>\n",
       "      <th>Exited</th>\n",
       "      <td>10000.0</td>\n",
       "      <td>2.037000e-01</td>\n",
       "      <td>0.402769</td>\n",
       "      <td>0.00</td>\n",
       "      <td>0.00</td>\n",
       "      <td>0.000000e+00</td>\n",
       "      <td>0.000000e+00</td>\n",
       "      <td>1.00</td>\n",
       "    </tr>\n",
       "  </tbody>\n",
       "</table>\n",
       "</div>"
      ],
      "text/plain": [
       "                   count          mean           std          min  \\\n",
       "RowNumber        10000.0  5.000500e+03   2886.895680         1.00   \n",
       "CustomerId       10000.0  1.569094e+07  71936.186123  15565701.00   \n",
       "CreditScore      10000.0  6.505288e+02     96.653299       350.00   \n",
       "Age              10000.0  3.892180e+01     10.487806        18.00   \n",
       "Tenure           10000.0  5.012800e+00      2.892174         0.00   \n",
       "Balance          10000.0  7.648589e+04  62397.405202         0.00   \n",
       "NumOfProducts    10000.0  1.530200e+00      0.581654         1.00   \n",
       "HasCrCard        10000.0  7.055000e-01      0.455840         0.00   \n",
       "IsActiveMember   10000.0  5.151000e-01      0.499797         0.00   \n",
       "EstimatedSalary  10000.0  1.000902e+05  57510.492818        11.58   \n",
       "Exited           10000.0  2.037000e-01      0.402769         0.00   \n",
       "\n",
       "                         25%           50%           75%          max  \n",
       "RowNumber            2500.75  5.000500e+03  7.500250e+03     10000.00  \n",
       "CustomerId       15628528.25  1.569074e+07  1.575323e+07  15815690.00  \n",
       "CreditScore           584.00  6.520000e+02  7.180000e+02       850.00  \n",
       "Age                    32.00  3.700000e+01  4.400000e+01        92.00  \n",
       "Tenure                  3.00  5.000000e+00  7.000000e+00        10.00  \n",
       "Balance                 0.00  9.719854e+04  1.276442e+05    250898.09  \n",
       "NumOfProducts           1.00  1.000000e+00  2.000000e+00         4.00  \n",
       "HasCrCard               0.00  1.000000e+00  1.000000e+00         1.00  \n",
       "IsActiveMember          0.00  1.000000e+00  1.000000e+00         1.00  \n",
       "EstimatedSalary     51002.11  1.001939e+05  1.493882e+05    199992.48  \n",
       "Exited                  0.00  0.000000e+00  0.000000e+00         1.00  "
      ]
     },
     "execution_count": 5,
     "metadata": {},
     "output_type": "execute_result"
    }
   ],
   "source": [
    "bcm_df.describe().T"
   ]
  },
  {
   "cell_type": "code",
   "execution_count": 6,
   "metadata": {},
   "outputs": [
    {
     "name": "stdout",
     "output_type": "stream",
     "text": [
      "\n",
      "Missing values :   0\n",
      "\n",
      "Unique values :  \n",
      " RowNumber          10000\n",
      "CustomerId         10000\n",
      "Surname             2932\n",
      "CreditScore          460\n",
      "Geography              3\n",
      "Gender                 2\n",
      "Age                   70\n",
      "Tenure                11\n",
      "Balance             6382\n",
      "NumOfProducts          4\n",
      "HasCrCard              2\n",
      "IsActiveMember         2\n",
      "EstimatedSalary     9999\n",
      "Exited                 2\n",
      "dtype: int64\n",
      "\n",
      "Duplicate values :  \n",
      " 0\n"
     ]
    }
   ],
   "source": [
    "#Check for missing values, incorrect data, duplicate data \n",
    "\n",
    "print (\"\\nMissing values :  \", bcm_df.isnull().sum().values.sum())\n",
    "\n",
    "print (\"\\nUnique values :  \\n\", bcm_df.nunique())\n",
    "\n",
    "print (\"\\nDuplicate values :  \\n\", bcm_df.duplicated().sum())"
   ]
  },
  {
   "cell_type": "code",
   "execution_count": 7,
   "metadata": {},
   "outputs": [
    {
     "data": {
      "text/html": [
       "<div>\n",
       "<style scoped>\n",
       "    .dataframe tbody tr th:only-of-type {\n",
       "        vertical-align: middle;\n",
       "    }\n",
       "\n",
       "    .dataframe tbody tr th {\n",
       "        vertical-align: top;\n",
       "    }\n",
       "\n",
       "    .dataframe thead th {\n",
       "        text-align: right;\n",
       "    }\n",
       "</style>\n",
       "<table border=\"1\" class=\"dataframe\">\n",
       "  <thead>\n",
       "    <tr style=\"text-align: right;\">\n",
       "      <th></th>\n",
       "      <th>Surname</th>\n",
       "      <th>CreditScore</th>\n",
       "      <th>Geography</th>\n",
       "      <th>Gender</th>\n",
       "      <th>Age</th>\n",
       "      <th>Tenure</th>\n",
       "      <th>Balance</th>\n",
       "      <th>NumOfProducts</th>\n",
       "      <th>HasCrCard</th>\n",
       "      <th>IsActiveMember</th>\n",
       "      <th>EstimatedSalary</th>\n",
       "      <th>Exited</th>\n",
       "    </tr>\n",
       "  </thead>\n",
       "  <tbody>\n",
       "    <tr>\n",
       "      <th>0</th>\n",
       "      <td>Hargrave</td>\n",
       "      <td>619</td>\n",
       "      <td>France</td>\n",
       "      <td>Female</td>\n",
       "      <td>42</td>\n",
       "      <td>2</td>\n",
       "      <td>0.00</td>\n",
       "      <td>1</td>\n",
       "      <td>1</td>\n",
       "      <td>1</td>\n",
       "      <td>101348.88</td>\n",
       "      <td>1</td>\n",
       "    </tr>\n",
       "    <tr>\n",
       "      <th>1</th>\n",
       "      <td>Hill</td>\n",
       "      <td>608</td>\n",
       "      <td>Spain</td>\n",
       "      <td>Female</td>\n",
       "      <td>41</td>\n",
       "      <td>1</td>\n",
       "      <td>83807.86</td>\n",
       "      <td>1</td>\n",
       "      <td>0</td>\n",
       "      <td>1</td>\n",
       "      <td>112542.58</td>\n",
       "      <td>0</td>\n",
       "    </tr>\n",
       "    <tr>\n",
       "      <th>2</th>\n",
       "      <td>Onio</td>\n",
       "      <td>502</td>\n",
       "      <td>France</td>\n",
       "      <td>Female</td>\n",
       "      <td>42</td>\n",
       "      <td>8</td>\n",
       "      <td>159660.80</td>\n",
       "      <td>3</td>\n",
       "      <td>1</td>\n",
       "      <td>0</td>\n",
       "      <td>113931.57</td>\n",
       "      <td>1</td>\n",
       "    </tr>\n",
       "    <tr>\n",
       "      <th>3</th>\n",
       "      <td>Boni</td>\n",
       "      <td>699</td>\n",
       "      <td>France</td>\n",
       "      <td>Female</td>\n",
       "      <td>39</td>\n",
       "      <td>1</td>\n",
       "      <td>0.00</td>\n",
       "      <td>2</td>\n",
       "      <td>0</td>\n",
       "      <td>0</td>\n",
       "      <td>93826.63</td>\n",
       "      <td>0</td>\n",
       "    </tr>\n",
       "    <tr>\n",
       "      <th>4</th>\n",
       "      <td>Mitchell</td>\n",
       "      <td>850</td>\n",
       "      <td>Spain</td>\n",
       "      <td>Female</td>\n",
       "      <td>43</td>\n",
       "      <td>2</td>\n",
       "      <td>125510.82</td>\n",
       "      <td>1</td>\n",
       "      <td>1</td>\n",
       "      <td>1</td>\n",
       "      <td>79084.10</td>\n",
       "      <td>0</td>\n",
       "    </tr>\n",
       "    <tr>\n",
       "      <th>...</th>\n",
       "      <td>...</td>\n",
       "      <td>...</td>\n",
       "      <td>...</td>\n",
       "      <td>...</td>\n",
       "      <td>...</td>\n",
       "      <td>...</td>\n",
       "      <td>...</td>\n",
       "      <td>...</td>\n",
       "      <td>...</td>\n",
       "      <td>...</td>\n",
       "      <td>...</td>\n",
       "      <td>...</td>\n",
       "    </tr>\n",
       "    <tr>\n",
       "      <th>9995</th>\n",
       "      <td>Obijiaku</td>\n",
       "      <td>771</td>\n",
       "      <td>France</td>\n",
       "      <td>Male</td>\n",
       "      <td>39</td>\n",
       "      <td>5</td>\n",
       "      <td>0.00</td>\n",
       "      <td>2</td>\n",
       "      <td>1</td>\n",
       "      <td>0</td>\n",
       "      <td>96270.64</td>\n",
       "      <td>0</td>\n",
       "    </tr>\n",
       "    <tr>\n",
       "      <th>9996</th>\n",
       "      <td>Johnstone</td>\n",
       "      <td>516</td>\n",
       "      <td>France</td>\n",
       "      <td>Male</td>\n",
       "      <td>35</td>\n",
       "      <td>10</td>\n",
       "      <td>57369.61</td>\n",
       "      <td>1</td>\n",
       "      <td>1</td>\n",
       "      <td>1</td>\n",
       "      <td>101699.77</td>\n",
       "      <td>0</td>\n",
       "    </tr>\n",
       "    <tr>\n",
       "      <th>9997</th>\n",
       "      <td>Liu</td>\n",
       "      <td>709</td>\n",
       "      <td>France</td>\n",
       "      <td>Female</td>\n",
       "      <td>36</td>\n",
       "      <td>7</td>\n",
       "      <td>0.00</td>\n",
       "      <td>1</td>\n",
       "      <td>0</td>\n",
       "      <td>1</td>\n",
       "      <td>42085.58</td>\n",
       "      <td>1</td>\n",
       "    </tr>\n",
       "    <tr>\n",
       "      <th>9998</th>\n",
       "      <td>Sabbatini</td>\n",
       "      <td>772</td>\n",
       "      <td>Germany</td>\n",
       "      <td>Male</td>\n",
       "      <td>42</td>\n",
       "      <td>3</td>\n",
       "      <td>75075.31</td>\n",
       "      <td>2</td>\n",
       "      <td>1</td>\n",
       "      <td>0</td>\n",
       "      <td>92888.52</td>\n",
       "      <td>1</td>\n",
       "    </tr>\n",
       "    <tr>\n",
       "      <th>9999</th>\n",
       "      <td>Walker</td>\n",
       "      <td>792</td>\n",
       "      <td>France</td>\n",
       "      <td>Female</td>\n",
       "      <td>28</td>\n",
       "      <td>4</td>\n",
       "      <td>130142.79</td>\n",
       "      <td>1</td>\n",
       "      <td>1</td>\n",
       "      <td>0</td>\n",
       "      <td>38190.78</td>\n",
       "      <td>0</td>\n",
       "    </tr>\n",
       "  </tbody>\n",
       "</table>\n",
       "<p>10000 rows × 12 columns</p>\n",
       "</div>"
      ],
      "text/plain": [
       "        Surname  CreditScore Geography  Gender  Age  Tenure    Balance  \\\n",
       "0      Hargrave          619    France  Female   42       2       0.00   \n",
       "1          Hill          608     Spain  Female   41       1   83807.86   \n",
       "2          Onio          502    France  Female   42       8  159660.80   \n",
       "3          Boni          699    France  Female   39       1       0.00   \n",
       "4      Mitchell          850     Spain  Female   43       2  125510.82   \n",
       "...         ...          ...       ...     ...  ...     ...        ...   \n",
       "9995   Obijiaku          771    France    Male   39       5       0.00   \n",
       "9996  Johnstone          516    France    Male   35      10   57369.61   \n",
       "9997        Liu          709    France  Female   36       7       0.00   \n",
       "9998  Sabbatini          772   Germany    Male   42       3   75075.31   \n",
       "9999     Walker          792    France  Female   28       4  130142.79   \n",
       "\n",
       "      NumOfProducts  HasCrCard  IsActiveMember  EstimatedSalary  Exited  \n",
       "0                 1          1               1        101348.88       1  \n",
       "1                 1          0               1        112542.58       0  \n",
       "2                 3          1               0        113931.57       1  \n",
       "3                 2          0               0         93826.63       0  \n",
       "4                 1          1               1         79084.10       0  \n",
       "...             ...        ...             ...              ...     ...  \n",
       "9995              2          1               0         96270.64       0  \n",
       "9996              1          1               1        101699.77       0  \n",
       "9997              1          0               1         42085.58       1  \n",
       "9998              2          1               0         92888.52       1  \n",
       "9999              1          1               0         38190.78       0  \n",
       "\n",
       "[10000 rows x 12 columns]"
      ]
     },
     "execution_count": 7,
     "metadata": {},
     "output_type": "execute_result"
    }
   ],
   "source": [
    "#Dropping columns with unique values for all customers\n",
    "\n",
    "bcm_df.drop('RowNumber', axis=1, inplace = True)\n",
    "bcm_df.drop('CustomerId', axis=1, inplace = True)\n",
    "\n",
    "bcm_df"
   ]
  },
  {
   "cell_type": "code",
   "execution_count": 8,
   "metadata": {},
   "outputs": [
    {
     "data": {
      "text/plain": [
       "(10000, 12)"
      ]
     },
     "execution_count": 8,
     "metadata": {},
     "output_type": "execute_result"
    }
   ],
   "source": [
    "bcm_df.shape"
   ]
  },
  {
   "cell_type": "code",
   "execution_count": 9,
   "metadata": {},
   "outputs": [
    {
     "data": {
      "text/html": [
       "<div>\n",
       "<style scoped>\n",
       "    .dataframe tbody tr th:only-of-type {\n",
       "        vertical-align: middle;\n",
       "    }\n",
       "\n",
       "    .dataframe tbody tr th {\n",
       "        vertical-align: top;\n",
       "    }\n",
       "\n",
       "    .dataframe thead th {\n",
       "        text-align: right;\n",
       "    }\n",
       "</style>\n",
       "<table border=\"1\" class=\"dataframe\">\n",
       "  <thead>\n",
       "    <tr style=\"text-align: right;\">\n",
       "      <th></th>\n",
       "      <th>CreditScore</th>\n",
       "      <th>Age</th>\n",
       "      <th>Tenure</th>\n",
       "      <th>Balance</th>\n",
       "      <th>NumOfProducts</th>\n",
       "      <th>HasCrCard</th>\n",
       "      <th>IsActiveMember</th>\n",
       "      <th>EstimatedSalary</th>\n",
       "      <th>Exited</th>\n",
       "    </tr>\n",
       "  </thead>\n",
       "  <tbody>\n",
       "    <tr>\n",
       "      <th>CreditScore</th>\n",
       "      <td>9341.860157</td>\n",
       "      <td>-4.019150</td>\n",
       "      <td>0.235355</td>\n",
       "      <td>3.780408e+04</td>\n",
       "      <td>0.687999</td>\n",
       "      <td>-0.240492</td>\n",
       "      <td>1.239139</td>\n",
       "      <td>-7.694701e+03</td>\n",
       "      <td>-1.054722</td>\n",
       "    </tr>\n",
       "    <tr>\n",
       "      <th>Age</th>\n",
       "      <td>-4.019150</td>\n",
       "      <td>109.994084</td>\n",
       "      <td>-0.303229</td>\n",
       "      <td>1.852533e+04</td>\n",
       "      <td>-0.187157</td>\n",
       "      <td>-0.056036</td>\n",
       "      <td>0.448026</td>\n",
       "      <td>-4.343373e+03</td>\n",
       "      <td>1.205250</td>\n",
       "    </tr>\n",
       "    <tr>\n",
       "      <th>Tenure</th>\n",
       "      <td>0.235355</td>\n",
       "      <td>-0.303229</td>\n",
       "      <td>8.364673</td>\n",
       "      <td>-2.211395e+03</td>\n",
       "      <td>0.022616</td>\n",
       "      <td>0.029773</td>\n",
       "      <td>-0.040997</td>\n",
       "      <td>1.294687e+03</td>\n",
       "      <td>-0.016309</td>\n",
       "    </tr>\n",
       "    <tr>\n",
       "      <th>Balance</th>\n",
       "      <td>37804.076998</td>\n",
       "      <td>18525.333354</td>\n",
       "      <td>-2211.394696</td>\n",
       "      <td>3.893436e+09</td>\n",
       "      <td>-11039.815064</td>\n",
       "      <td>-422.619801</td>\n",
       "      <td>-314.483074</td>\n",
       "      <td>4.592389e+07</td>\n",
       "      <td>2978.931708</td>\n",
       "    </tr>\n",
       "    <tr>\n",
       "      <th>NumOfProducts</th>\n",
       "      <td>0.687999</td>\n",
       "      <td>-0.187157</td>\n",
       "      <td>0.022616</td>\n",
       "      <td>-1.103982e+04</td>\n",
       "      <td>0.338322</td>\n",
       "      <td>0.000844</td>\n",
       "      <td>0.002794</td>\n",
       "      <td>4.751478e+02</td>\n",
       "      <td>-0.011203</td>\n",
       "    </tr>\n",
       "    <tr>\n",
       "      <th>HasCrCard</th>\n",
       "      <td>-0.240492</td>\n",
       "      <td>-0.056036</td>\n",
       "      <td>0.029773</td>\n",
       "      <td>-4.226198e+02</td>\n",
       "      <td>0.000844</td>\n",
       "      <td>0.207791</td>\n",
       "      <td>-0.002703</td>\n",
       "      <td>-2.604105e+02</td>\n",
       "      <td>-0.001310</td>\n",
       "    </tr>\n",
       "    <tr>\n",
       "      <th>IsActiveMember</th>\n",
       "      <td>1.239139</td>\n",
       "      <td>0.448026</td>\n",
       "      <td>-0.040997</td>\n",
       "      <td>-3.144831e+02</td>\n",
       "      <td>0.002794</td>\n",
       "      <td>-0.002703</td>\n",
       "      <td>0.249797</td>\n",
       "      <td>-3.282927e+02</td>\n",
       "      <td>-0.031429</td>\n",
       "    </tr>\n",
       "    <tr>\n",
       "      <th>EstimatedSalary</th>\n",
       "      <td>-7694.701048</td>\n",
       "      <td>-4343.372926</td>\n",
       "      <td>1294.686597</td>\n",
       "      <td>4.592389e+07</td>\n",
       "      <td>475.147781</td>\n",
       "      <td>-260.410522</td>\n",
       "      <td>-328.292660</td>\n",
       "      <td>3.307457e+09</td>\n",
       "      <td>280.204670</td>\n",
       "    </tr>\n",
       "    <tr>\n",
       "      <th>Exited</th>\n",
       "      <td>-1.054722</td>\n",
       "      <td>1.205250</td>\n",
       "      <td>-0.016309</td>\n",
       "      <td>2.978932e+03</td>\n",
       "      <td>-0.011203</td>\n",
       "      <td>-0.001310</td>\n",
       "      <td>-0.031429</td>\n",
       "      <td>2.802047e+02</td>\n",
       "      <td>0.162223</td>\n",
       "    </tr>\n",
       "  </tbody>\n",
       "</table>\n",
       "</div>"
      ],
      "text/plain": [
       "                  CreditScore           Age       Tenure       Balance  \\\n",
       "CreditScore       9341.860157     -4.019150     0.235355  3.780408e+04   \n",
       "Age                 -4.019150    109.994084    -0.303229  1.852533e+04   \n",
       "Tenure               0.235355     -0.303229     8.364673 -2.211395e+03   \n",
       "Balance          37804.076998  18525.333354 -2211.394696  3.893436e+09   \n",
       "NumOfProducts        0.687999     -0.187157     0.022616 -1.103982e+04   \n",
       "HasCrCard           -0.240492     -0.056036     0.029773 -4.226198e+02   \n",
       "IsActiveMember       1.239139      0.448026    -0.040997 -3.144831e+02   \n",
       "EstimatedSalary  -7694.701048  -4343.372926  1294.686597  4.592389e+07   \n",
       "Exited              -1.054722      1.205250    -0.016309  2.978932e+03   \n",
       "\n",
       "                 NumOfProducts   HasCrCard  IsActiveMember  EstimatedSalary  \\\n",
       "CreditScore           0.687999   -0.240492        1.239139    -7.694701e+03   \n",
       "Age                  -0.187157   -0.056036        0.448026    -4.343373e+03   \n",
       "Tenure                0.022616    0.029773       -0.040997     1.294687e+03   \n",
       "Balance          -11039.815064 -422.619801     -314.483074     4.592389e+07   \n",
       "NumOfProducts         0.338322    0.000844        0.002794     4.751478e+02   \n",
       "HasCrCard             0.000844    0.207791       -0.002703    -2.604105e+02   \n",
       "IsActiveMember        0.002794   -0.002703        0.249797    -3.282927e+02   \n",
       "EstimatedSalary     475.147781 -260.410522     -328.292660     3.307457e+09   \n",
       "Exited               -0.011203   -0.001310       -0.031429     2.802047e+02   \n",
       "\n",
       "                      Exited  \n",
       "CreditScore        -1.054722  \n",
       "Age                 1.205250  \n",
       "Tenure             -0.016309  \n",
       "Balance          2978.931708  \n",
       "NumOfProducts      -0.011203  \n",
       "HasCrCard          -0.001310  \n",
       "IsActiveMember     -0.031429  \n",
       "EstimatedSalary   280.204670  \n",
       "Exited              0.162223  "
      ]
     },
     "execution_count": 9,
     "metadata": {},
     "output_type": "execute_result"
    }
   ],
   "source": [
    "bcm_df.cov() "
   ]
  },
  {
   "cell_type": "code",
   "execution_count": 10,
   "metadata": {},
   "outputs": [
    {
     "data": {
      "text/plain": [
       "<matplotlib.axes._subplots.AxesSubplot at 0x26c272fc208>"
      ]
     },
     "execution_count": 10,
     "metadata": {},
     "output_type": "execute_result"
    },
    {
     "data": {
      "image/png": "[encoded data removed]",
      "text/plain": [
       "<Figure size 432x288 with 1 Axes>"
      ]
     },
     "metadata": {},
     "output_type": "display_data"
    }
   ],
   "source": [
    "#Exploratory data analysis\n",
    "\n",
    "value_counts = bcm_df['Exited'].value_counts()\n",
    "value_counts.plot.bar(title = 'Exited value counts')"
   ]
  },
  {
   "cell_type": "code",
   "execution_count": 11,
   "metadata": {},
   "outputs": [
    {
     "data": {
      "image/png": "[encoded data removed]",
      "text/plain": [
       "<Figure size 720x3600 with 10 Axes>"
      ]
     },
     "metadata": {},
     "output_type": "display_data"
    }
   ],
   "source": [
    "objs = bcm_df.select_dtypes('object')\n",
    "objs = objs.dropna()\n",
    "fig, ax = plt.subplots(10, 1, figsize=(10,50))\n",
    "for i, obj in enumerate(objs):\n",
    "    sns.countplot(obj, data=bcm_df, hue='Exited', orient='vertical', ax=ax[i], palette='viridis')\n",
    "    for p in ax[i].patches:\n",
    "        y=p.get_bbox().get_points()[1,1]\n",
    "        ax[i].annotate('{:1.2f}%'.format(100.*y/bcm_df[obj].count()), (p.get_x()+0.2, p.get_height()+20), \n",
    "            ha='center', va='bottom',fontsize=10, color='red', rotation=20, xytext=(0, 10),\n",
    "         textcoords='offset points') # set the alignment of the text\n",
    "\n",
    "    ax[i].tick_params(axis='x', rotation=10)\n",
    "    ax[i].set_title(obj)\n",
    "    plt.tight_layout()"
   ]
  },
  {
   "cell_type": "code",
   "execution_count": 11,
   "metadata": {},
   "outputs": [],
   "source": [
    "#Creating matrice\n",
    "\n",
    "X = bcm_df.iloc[:, 0:11].values\n",
    "y = bcm_df.iloc[:, 11].values"
   ]
  },
  {
   "cell_type": "code",
   "execution_count": 12,
   "metadata": {},
   "outputs": [
    {
     "data": {
      "text/html": [
       "<div>\n",
       "<style scoped>\n",
       "    .dataframe tbody tr th:only-of-type {\n",
       "        vertical-align: middle;\n",
       "    }\n",
       "\n",
       "    .dataframe tbody tr th {\n",
       "        vertical-align: top;\n",
       "    }\n",
       "\n",
       "    .dataframe thead th {\n",
       "        text-align: right;\n",
       "    }\n",
       "</style>\n",
       "<table border=\"1\" class=\"dataframe\">\n",
       "  <thead>\n",
       "    <tr style=\"text-align: right;\">\n",
       "      <th></th>\n",
       "      <th>Surname</th>\n",
       "      <th>CreditScore</th>\n",
       "      <th>Geography</th>\n",
       "      <th>Gender</th>\n",
       "      <th>Age</th>\n",
       "      <th>Tenure</th>\n",
       "      <th>Balance</th>\n",
       "      <th>NumOfProducts</th>\n",
       "      <th>HasCrCard</th>\n",
       "      <th>IsActiveMember</th>\n",
       "      <th>EstimatedSalary</th>\n",
       "      <th>Exited</th>\n",
       "    </tr>\n",
       "  </thead>\n",
       "  <tbody>\n",
       "    <tr>\n",
       "      <th>0</th>\n",
       "      <td>1115</td>\n",
       "      <td>228</td>\n",
       "      <td>0</td>\n",
       "      <td>0</td>\n",
       "      <td>24</td>\n",
       "      <td>2</td>\n",
       "      <td>0</td>\n",
       "      <td>0</td>\n",
       "      <td>1</td>\n",
       "      <td>1</td>\n",
       "      <td>5068</td>\n",
       "      <td>1</td>\n",
       "    </tr>\n",
       "    <tr>\n",
       "      <th>1</th>\n",
       "      <td>1177</td>\n",
       "      <td>217</td>\n",
       "      <td>2</td>\n",
       "      <td>0</td>\n",
       "      <td>23</td>\n",
       "      <td>1</td>\n",
       "      <td>743</td>\n",
       "      <td>0</td>\n",
       "      <td>0</td>\n",
       "      <td>1</td>\n",
       "      <td>5639</td>\n",
       "      <td>0</td>\n",
       "    </tr>\n",
       "    <tr>\n",
       "      <th>2</th>\n",
       "      <td>2040</td>\n",
       "      <td>111</td>\n",
       "      <td>0</td>\n",
       "      <td>0</td>\n",
       "      <td>24</td>\n",
       "      <td>8</td>\n",
       "      <td>5793</td>\n",
       "      <td>2</td>\n",
       "      <td>1</td>\n",
       "      <td>0</td>\n",
       "      <td>5707</td>\n",
       "      <td>1</td>\n",
       "    </tr>\n",
       "    <tr>\n",
       "      <th>3</th>\n",
       "      <td>289</td>\n",
       "      <td>308</td>\n",
       "      <td>0</td>\n",
       "      <td>0</td>\n",
       "      <td>21</td>\n",
       "      <td>1</td>\n",
       "      <td>0</td>\n",
       "      <td>1</td>\n",
       "      <td>0</td>\n",
       "      <td>0</td>\n",
       "      <td>4704</td>\n",
       "      <td>0</td>\n",
       "    </tr>\n",
       "    <tr>\n",
       "      <th>4</th>\n",
       "      <td>1822</td>\n",
       "      <td>459</td>\n",
       "      <td>2</td>\n",
       "      <td>0</td>\n",
       "      <td>25</td>\n",
       "      <td>2</td>\n",
       "      <td>3696</td>\n",
       "      <td>0</td>\n",
       "      <td>1</td>\n",
       "      <td>1</td>\n",
       "      <td>3925</td>\n",
       "      <td>0</td>\n",
       "    </tr>\n",
       "  </tbody>\n",
       "</table>\n",
       "</div>"
      ],
      "text/plain": [
       "   Surname  CreditScore  Geography  Gender  Age  Tenure  Balance  \\\n",
       "0     1115          228          0       0   24       2        0   \n",
       "1     1177          217          2       0   23       1      743   \n",
       "2     2040          111          0       0   24       8     5793   \n",
       "3      289          308          0       0   21       1        0   \n",
       "4     1822          459          2       0   25       2     3696   \n",
       "\n",
       "   NumOfProducts  HasCrCard  IsActiveMember  EstimatedSalary  Exited  \n",
       "0              0          1               1             5068       1  \n",
       "1              0          0               1             5639       0  \n",
       "2              2          1               0             5707       1  \n",
       "3              1          0               0             4704       0  \n",
       "4              0          1               1             3925       0  "
      ]
     },
     "execution_count": 12,
     "metadata": {},
     "output_type": "execute_result"
    }
   ],
   "source": [
    "#Encoding categorical data\n",
    "\n",
    "le = preprocessing.LabelEncoder()\n",
    "X = bcm_df.apply(le.fit_transform)\n",
    "X.head()"
   ]
  },
  {
   "cell_type": "code",
   "execution_count": 13,
   "metadata": {},
   "outputs": [
    {
     "data": {
      "text/plain": [
       "(10000, 19869)"
      ]
     },
     "execution_count": 13,
     "metadata": {},
     "output_type": "execute_result"
    }
   ],
   "source": [
    "#Encoding categorical data\n",
    "\n",
    "enc = preprocessing.OneHotEncoder()\n",
    "enc.fit(X)\n",
    "onehotlabels = enc.transform(X).toarray()\n",
    "onehotlabels.shape"
   ]
  },
  {
   "cell_type": "code",
   "execution_count": 14,
   "metadata": {},
   "outputs": [
    {
     "data": {
      "text/plain": [
       "array([[0., 0., 0., ..., 0., 0., 1.],\n",
       "       [0., 0., 0., ..., 0., 1., 0.],\n",
       "       [0., 0., 0., ..., 0., 0., 1.],\n",
       "       ...,\n",
       "       [0., 0., 0., ..., 0., 0., 1.],\n",
       "       [0., 0., 0., ..., 0., 0., 1.],\n",
       "       [0., 0., 0., ..., 0., 1., 0.]])"
      ]
     },
     "execution_count": 14,
     "metadata": {},
     "output_type": "execute_result"
    }
   ],
   "source": [
    "onehotlabels"
   ]
  },
  {
   "cell_type": "code",
   "execution_count": 15,
   "metadata": {},
   "outputs": [
    {
     "data": {
      "text/plain": [
       "numpy.ndarray"
      ]
     },
     "execution_count": 15,
     "metadata": {},
     "output_type": "execute_result"
    }
   ],
   "source": [
    "type(onehotlabels)"
   ]
  },
  {
   "cell_type": "code",
   "execution_count": 16,
   "metadata": {},
   "outputs": [
    {
     "data": {
      "text/plain": [
       "(10000, 12)"
      ]
     },
     "execution_count": 16,
     "metadata": {},
     "output_type": "execute_result"
    }
   ],
   "source": [
    "X.shape"
   ]
  },
  {
   "cell_type": "code",
   "execution_count": 17,
   "metadata": {},
   "outputs": [],
   "source": [
    "#Splitting the data into train and test set\n",
    "\n",
    "X_train, X_test, y_train, y_test = train_test_split(X, y, test_size = 0.2, random_state = 0)"
   ]
  },
  {
   "cell_type": "code",
   "execution_count": 18,
   "metadata": {},
   "outputs": [],
   "source": [
    "#Feature Scaling\n",
    "\n",
    "sc = MinMaxScaler()\n",
    "X_train = sc.fit_transform(X_train)\n",
    "X_test = sc.transform(X_test)"
   ]
  },
  {
   "cell_type": "code",
   "execution_count": 19,
   "metadata": {},
   "outputs": [
    {
     "data": {
      "text/plain": [
       "(8000, 12)"
      ]
     },
     "execution_count": 19,
     "metadata": {},
     "output_type": "execute_result"
    }
   ],
   "source": [
    "X_train.shape"
   ]
  },
  {
   "cell_type": "code",
   "execution_count": 20,
   "metadata": {},
   "outputs": [
    {
     "data": {
      "text/plain": [
       "(2000, 12)"
      ]
     },
     "execution_count": 20,
     "metadata": {},
     "output_type": "execute_result"
    }
   ],
   "source": [
    "X_test.shape"
   ]
  },
  {
   "cell_type": "code",
   "execution_count": 33,
   "metadata": {},
   "outputs": [],
   "source": [
    "X2 = X_train.reshape(-1,12)"
   ]
  },
  {
   "cell_type": "code",
   "execution_count": 34,
   "metadata": {},
   "outputs": [
    {
     "data": {
      "text/plain": [
       "<matplotlib.image.AxesImage at 0x26c8750c9c8>"
      ]
     },
     "execution_count": 34,
     "metadata": {},
     "output_type": "execute_result"
    },
    {
     "data": {
      "image/png": "[encoded data removed]",
      "text/plain": [
       "<Figure size 432x288 with 1 Axes>"
      ]
     },
     "metadata": {},
     "output_type": "display_data"
    }
   ],
   "source": [
    "plt.imshow(X2,cmap='gray')"
   ]
  },
  {
   "cell_type": "code",
   "execution_count": 37,
   "metadata": {},
   "outputs": [],
   "source": [
    "X3 = X_test.reshape(-1,12)"
   ]
  },
  {
   "cell_type": "code",
   "execution_count": 39,
   "metadata": {},
   "outputs": [
    {
     "data": {
      "text/plain": [
       "<matplotlib.image.AxesImage at 0x26c87558d08>"
      ]
     },
     "execution_count": 39,
     "metadata": {},
     "output_type": "execute_result"
    },
    {
     "data": {
      "image/png": "[encoded data removed]",
      "text/plain": [
       "<Figure size 432x288 with 1 Axes>"
      ]
     },
     "metadata": {},
     "output_type": "display_data"
    }
   ],
   "source": [
    "plt.imshow(X3,cmap='gray')"
   ]
  },
  {
   "cell_type": "code",
   "execution_count": 40,
   "metadata": {},
   "outputs": [],
   "source": [
    "y_train = tf.keras.utils.to_categorical(y_train,num_classes=10)\n",
    "y_test = tf.keras.utils.to_categorical(y_test,num_classes=10)"
   ]
  },
  {
   "cell_type": "code",
   "execution_count": 41,
   "metadata": {},
   "outputs": [
    {
     "data": {
      "text/plain": [
       "(8000, 10)"
      ]
     },
     "execution_count": 41,
     "metadata": {},
     "output_type": "execute_result"
    }
   ],
   "source": [
    "y_train.shape"
   ]
  },
  {
   "cell_type": "code",
   "execution_count": 42,
   "metadata": {},
   "outputs": [
    {
     "data": {
      "text/plain": [
       "(2000, 10)"
      ]
     },
     "execution_count": 42,
     "metadata": {},
     "output_type": "execute_result"
    }
   ],
   "source": [
    "y_test.shape"
   ]
  },
  {
   "cell_type": "code",
   "execution_count": 45,
   "metadata": {},
   "outputs": [
    {
     "data": {
      "image/png": "[encoded data removed]",
      "text/plain": [
       "<Figure size 432x288 with 1 Axes>"
      ]
     },
     "metadata": {},
     "output_type": "display_data"
    },
    {
     "data": {
      "image/png": "[encoded data removed]",
      "text/plain": [
       "<Figure size 432x288 with 1 Axes>"
      ]
     },
     "metadata": {},
     "output_type": "display_data"
    },
    {
     "data": {
      "image/png": "[encoded data removed]",
      "text/plain": [
       "<Figure size 432x288 with 1 Axes>"
      ]
     },
     "metadata": {},
     "output_type": "display_data"
    },
    {
     "data": {
      "image/png": "[encoded data removed]",
      "text/plain": [
       "<Figure size 432x288 with 1 Axes>"
      ]
     },
     "metadata": {},
     "output_type": "display_data"
    },
    {
     "data": {
      "image/png": "[encoded data removed]",
      "text/plain": [
       "<Figure size 432x288 with 1 Axes>"
      ]
     },
     "metadata": {},
     "output_type": "display_data"
    },
    {
     "data": {
      "image/png": "[encoded data removed]",
      "text/plain": [
       "<Figure size 432x288 with 1 Axes>"
      ]
     },
     "metadata": {},
     "output_type": "display_data"
    },
    {
     "data": {
      "image/png": "[encoded data removed]",
      "text/plain": [
       "<Figure size 432x288 with 1 Axes>"
      ]
     },
     "metadata": {},
     "output_type": "display_data"
    },
    {
     "data": {
      "image/png": "[encoded data removed]",
      "text/plain": [
       "<Figure size 432x288 with 1 Axes>"
      ]
     },
     "metadata": {},
     "output_type": "display_data"
    },
    {
     "data": {
      "image/png": "[encoded data removed]",
      "text/plain": [
       "<Figure size 432x288 with 1 Axes>"
      ]
     },
     "metadata": {},
     "output_type": "display_data"
    },
    {
     "data": {
      "image/png": "[encoded data removed]",
      "text/plain": [
       "<Figure size 432x288 with 1 Axes>"
      ]
     },
     "metadata": {},
     "output_type": "display_data"
    }
   ],
   "source": [
    "for i in range(10):\n",
    "    image = X2#[i]\n",
    "    plt.figure(i)\n",
    "    plt.imshow(image)"
   ]
  },
  {
   "cell_type": "markdown",
   "metadata": {},
   "source": [
    "# Building Artifical Neural Network"
   ]
  },
  {
   "cell_type": "code",
   "execution_count": 49,
   "metadata": {},
   "outputs": [
    {
     "name": "stdout",
     "output_type": "stream",
     "text": [
      "Train on 2000 samples\n",
      "Epoch 1/100\n",
      "2000/2000 [==============================] - 1s 398us/sample - loss: 2.0517 - accuracy: 0.7850\n",
      "Epoch 2/100\n",
      "2000/2000 [==============================] - 0s 74us/sample - loss: 0.7322 - accuracy: 0.7975\n",
      "Epoch 3/100\n",
      "2000/2000 [==============================] - 0s 77us/sample - loss: 0.5254 - accuracy: 0.7975\n",
      "Epoch 4/100\n",
      "2000/2000 [==============================] - 0s 75us/sample - loss: 0.5108 - accuracy: 0.7975\n",
      "Epoch 5/100\n",
      "2000/2000 [==============================] - 0s 68us/sample - loss: 0.4988 - accuracy: 0.7975\n",
      "Epoch 6/100\n",
      "2000/2000 [==============================] - 0s 68us/sample - loss: 0.4884 - accuracy: 0.7975\n",
      "Epoch 7/100\n",
      "2000/2000 [==============================] - 0s 74us/sample - loss: 0.4714 - accuracy: 0.7975\n",
      "Epoch 8/100\n",
      "2000/2000 [==============================] - 0s 73us/sample - loss: 0.4508 - accuracy: 0.7975\n",
      "Epoch 9/100\n",
      "2000/2000 [==============================] - 0s 69us/sample - loss: 0.4231 - accuracy: 0.7975\n",
      "Epoch 10/100\n",
      "2000/2000 [==============================] - 0s 71us/sample - loss: 0.3427 - accuracy: 0.8050\n",
      "Epoch 11/100\n",
      "2000/2000 [==============================] - 0s 71us/sample - loss: 0.1277 - accuracy: 0.9760\n",
      "Epoch 12/100\n",
      "2000/2000 [==============================] - 0s 73us/sample - loss: 0.0196 - accuracy: 1.0000\n",
      "Epoch 13/100\n",
      "2000/2000 [==============================] - 0s 75us/sample - loss: 0.0074 - accuracy: 1.0000\n",
      "Epoch 14/100\n",
      "2000/2000 [==============================] - 0s 69us/sample - loss: 0.0044 - accuracy: 1.0000\n",
      "Epoch 15/100\n",
      "2000/2000 [==============================] - 0s 68us/sample - loss: 0.0030 - accuracy: 1.0000\n",
      "Epoch 16/100\n",
      "2000/2000 [==============================] - 0s 73us/sample - loss: 0.0022 - accuracy: 1.0000\n",
      "Epoch 17/100\n",
      "2000/2000 [==============================] - 0s 67us/sample - loss: 0.0017 - accuracy: 1.0000\n",
      "Epoch 18/100\n",
      "2000/2000 [==============================] - 0s 76us/sample - loss: 0.0014 - accuracy: 1.0000\n",
      "Epoch 19/100\n",
      "2000/2000 [==============================] - 0s 67us/sample - loss: 0.0011 - accuracy: 1.0000\n",
      "Epoch 20/100\n",
      "2000/2000 [==============================] - 0s 72us/sample - loss: 9.5065e-04 - accuracy: 1.0000\n",
      "Epoch 21/100\n",
      "2000/2000 [==============================] - 0s 75us/sample - loss: 8.1518e-04 - accuracy: 1.0000\n",
      "Epoch 22/100\n",
      "2000/2000 [==============================] - 0s 72us/sample - loss: 7.0699e-04 - accuracy: 1.0000\n",
      "Epoch 23/100\n",
      "2000/2000 [==============================] - 0s 71us/sample - loss: 6.1919e-04 - accuracy: 1.0000\n",
      "Epoch 24/100\n",
      "2000/2000 [==============================] - 0s 68us/sample - loss: 5.4706e-04 - accuracy: 1.0000\n",
      "Epoch 25/100\n",
      "2000/2000 [==============================] - 0s 73us/sample - loss: 4.8762e-04 - accuracy: 1.0000\n",
      "Epoch 26/100\n",
      "2000/2000 [==============================] - 0s 75us/sample - loss: 4.3672e-04 - accuracy: 1.0000\n",
      "Epoch 27/100\n",
      "2000/2000 [==============================] - 0s 77us/sample - loss: 3.9388e-04 - accuracy: 1.0000\n",
      "Epoch 28/100\n",
      "2000/2000 [==============================] - 0s 77us/sample - loss: 3.5660e-04 - accuracy: 1.0000\n",
      "Epoch 29/100\n",
      "2000/2000 [==============================] - 0s 98us/sample - loss: 3.2457e-04 - accuracy: 1.0000\n",
      "Epoch 30/100\n",
      "2000/2000 [==============================] - 0s 99us/sample - loss: 2.9645e-04 - accuracy: 1.0000\n",
      "Epoch 31/100\n",
      "2000/2000 [==============================] - 0s 104us/sample - loss: 2.7191e-04 - accuracy: 1.0000\n",
      "Epoch 32/100\n",
      "2000/2000 [==============================] - 0s 88us/sample - loss: 2.5039e-04 - accuracy: 1.0000\n",
      "Epoch 33/100\n",
      "2000/2000 [==============================] - 0s 98us/sample - loss: 2.3096e-04 - accuracy: 1.0000\n",
      "Epoch 34/100\n",
      "2000/2000 [==============================] - 0s 100us/sample - loss: 2.1370e-04 - accuracy: 1.0000\n",
      "Epoch 35/100\n",
      "2000/2000 [==============================] - 0s 100us/sample - loss: 1.9808e-04 - accuracy: 1.0000\n",
      "Epoch 36/100\n",
      "2000/2000 [==============================] - 0s 112us/sample - loss: 1.8412e-04 - accuracy: 1.0000\n",
      "Epoch 37/100\n",
      "2000/2000 [==============================] - 0s 123us/sample - loss: 1.7135e-04 - accuracy: 1.0000\n",
      "Epoch 38/100\n",
      "2000/2000 [==============================] - 0s 156us/sample - loss: 1.5997e-04 - accuracy: 1.0000\n",
      "Epoch 39/100\n",
      "2000/2000 [==============================] - 0s 124us/sample - loss: 1.4950e-04 - accuracy: 1.0000\n",
      "Epoch 40/100\n",
      "2000/2000 [==============================] - 0s 119us/sample - loss: 1.4002e-04 - accuracy: 1.0000\n",
      "Epoch 41/100\n",
      "2000/2000 [==============================] - 0s 143us/sample - loss: 1.3123e-04 - accuracy: 1.0000\n",
      "Epoch 42/100\n",
      "2000/2000 [==============================] - 0s 95us/sample - loss: 1.2331e-04 - accuracy: 1.0000\n",
      "Epoch 43/100\n",
      "2000/2000 [==============================] - 0s 94us/sample - loss: 1.1590e-04 - accuracy: 1.0000\n",
      "Epoch 44/100\n",
      "2000/2000 [==============================] - 0s 91us/sample - loss: 1.0925e-04 - accuracy: 1.0000\n",
      "Epoch 45/100\n",
      "2000/2000 [==============================] - 0s 79us/sample - loss: 1.0281e-04 - accuracy: 1.0000\n",
      "Epoch 46/100\n",
      "2000/2000 [==============================] - 0s 86us/sample - loss: 9.7127e-05 - accuracy: 1.0000\n",
      "Epoch 47/100\n",
      "2000/2000 [==============================] - 0s 114us/sample - loss: 9.1629e-05 - accuracy: 1.0000\n",
      "Epoch 48/100\n",
      "2000/2000 [==============================] - 0s 95us/sample - loss: 8.6698e-05 - accuracy: 1.0000\n",
      "Epoch 49/100\n",
      "2000/2000 [==============================] - 0s 91us/sample - loss: 8.2084e-05 - accuracy: 1.0000\n",
      "Epoch 50/100\n",
      "2000/2000 [==============================] - 0s 85us/sample - loss: 7.7715e-05 - accuracy: 1.0000\n",
      "Epoch 51/100\n",
      "2000/2000 [==============================] - 0s 84us/sample - loss: 7.3655e-05 - accuracy: 1.0000s - loss: 7.7838e-05 - accuracy: \n",
      "Epoch 52/100\n",
      "2000/2000 [==============================] - 0s 80us/sample - loss: 6.9871e-05 - accuracy: 1.0000\n",
      "Epoch 53/100\n",
      "2000/2000 [==============================] - 0s 90us/sample - loss: 6.6346e-05 - accuracy: 1.0000\n",
      "Epoch 54/100\n",
      "2000/2000 [==============================] - 0s 74us/sample - loss: 6.3062e-05 - accuracy: 1.0000\n",
      "Epoch 55/100\n",
      "2000/2000 [==============================] - 0s 75us/sample - loss: 5.9914e-05 - accuracy: 1.0000\n",
      "Epoch 56/100\n",
      "2000/2000 [==============================] - 0s 73us/sample - loss: 5.6984e-05 - accuracy: 1.0000\n",
      "Epoch 57/100\n",
      "2000/2000 [==============================] - 0s 73us/sample - loss: 5.4243e-05 - accuracy: 1.0000\n",
      "Epoch 58/100\n",
      "2000/2000 [==============================] - 0s 77us/sample - loss: 5.1658e-05 - accuracy: 1.0000\n",
      "Epoch 59/100\n",
      "2000/2000 [==============================] - 0s 75us/sample - loss: 4.9222e-05 - accuracy: 1.0000\n",
      "Epoch 60/100\n",
      "2000/2000 [==============================] - 0s 91us/sample - loss: 4.6932e-05 - accuracy: 1.0000\n",
      "Epoch 61/100\n",
      "2000/2000 [==============================] - 0s 92us/sample - loss: 4.4768e-05 - accuracy: 1.0000\n",
      "Epoch 62/100\n",
      "2000/2000 [==============================] - 0s 96us/sample - loss: 4.2715e-05 - accuracy: 1.0000\n",
      "Epoch 63/100\n",
      "2000/2000 [==============================] - 0s 90us/sample - loss: 4.0780e-05 - accuracy: 1.0000\n",
      "Epoch 64/100\n",
      "2000/2000 [==============================] - 0s 86us/sample - loss: 3.8971e-05 - accuracy: 1.0000\n",
      "Epoch 65/100\n",
      "2000/2000 [==============================] - 0s 71us/sample - loss: 3.7227e-05 - accuracy: 1.0000\n",
      "Epoch 66/100\n",
      "2000/2000 [==============================] - 0s 66us/sample - loss: 3.5580e-05 - accuracy: 1.0000\n",
      "Epoch 67/100\n",
      "2000/2000 [==============================] - 0s 72us/sample - loss: 3.4020e-05 - accuracy: 1.0000\n",
      "Epoch 68/100\n",
      "2000/2000 [==============================] - 0s 72us/sample - loss: 3.2560e-05 - accuracy: 1.0000\n",
      "Epoch 69/100\n",
      "2000/2000 [==============================] - 0s 75us/sample - loss: 3.1138e-05 - accuracy: 1.0000\n",
      "Epoch 70/100\n",
      "2000/2000 [==============================] - 0s 77us/sample - loss: 2.9814e-05 - accuracy: 1.0000\n",
      "Epoch 71/100\n",
      "2000/2000 [==============================] - 0s 74us/sample - loss: 2.8541e-05 - accuracy: 1.0000\n",
      "Epoch 72/100\n",
      "2000/2000 [==============================] - 0s 77us/sample - loss: 2.7340e-05 - accuracy: 1.0000\n",
      "Epoch 73/100\n",
      "2000/2000 [==============================] - 0s 72us/sample - loss: 2.6190e-05 - accuracy: 1.0000\n",
      "Epoch 74/100\n",
      "2000/2000 [==============================] - 0s 71us/sample - loss: 2.5096e-05 - accuracy: 1.0000\n"
     ]
    },
    {
     "name": "stdout",
     "output_type": "stream",
     "text": [
      "Epoch 75/100\n",
      "2000/2000 [==============================] - 0s 74us/sample - loss: 2.4048e-05 - accuracy: 1.0000\n",
      "Epoch 76/100\n",
      "2000/2000 [==============================] - 0s 68us/sample - loss: 2.3068e-05 - accuracy: 1.0000\n",
      "Epoch 77/100\n",
      "2000/2000 [==============================] - 0s 68us/sample - loss: 2.2123e-05 - accuracy: 1.0000\n",
      "Epoch 78/100\n",
      "2000/2000 [==============================] - 0s 71us/sample - loss: 2.1219e-05 - accuracy: 1.0000\n",
      "Epoch 79/100\n",
      "2000/2000 [==============================] - 0s 82us/sample - loss: 2.0363e-05 - accuracy: 1.0000\n",
      "Epoch 80/100\n",
      "2000/2000 [==============================] - 0s 76us/sample - loss: 1.9551e-05 - accuracy: 1.0000\n",
      "Epoch 81/100\n",
      "2000/2000 [==============================] - 0s 70us/sample - loss: 1.8760e-05 - accuracy: 1.0000\n",
      "Epoch 82/100\n",
      "2000/2000 [==============================] - 0s 66us/sample - loss: 1.8004e-05 - accuracy: 1.0000\n",
      "Epoch 83/100\n",
      "2000/2000 [==============================] - 0s 68us/sample - loss: 1.7293e-05 - accuracy: 1.0000\n",
      "Epoch 84/100\n",
      "2000/2000 [==============================] - 0s 74us/sample - loss: 1.6609e-05 - accuracy: 1.0000\n",
      "Epoch 85/100\n",
      "2000/2000 [==============================] - 0s 100us/sample - loss: 1.5970e-05 - accuracy: 1.0000\n",
      "Epoch 86/100\n",
      "2000/2000 [==============================] - 0s 103us/sample - loss: 1.5336e-05 - accuracy: 1.0000\n",
      "Epoch 87/100\n",
      "2000/2000 [==============================] - 0s 122us/sample - loss: 1.4734e-05 - accuracy: 1.0000\n",
      "Epoch 88/100\n",
      "2000/2000 [==============================] - 0s 103us/sample - loss: 1.4165e-05 - accuracy: 1.0000\n",
      "Epoch 89/100\n",
      "2000/2000 [==============================] - 0s 115us/sample - loss: 1.3623e-05 - accuracy: 1.0000\n",
      "Epoch 90/100\n",
      "2000/2000 [==============================] - 0s 108us/sample - loss: 1.3098e-05 - accuracy: 1.0000 - loss: 1.3700e-05 - accuracy: 1.00\n",
      "Epoch 91/100\n",
      "2000/2000 [==============================] - 0s 87us/sample - loss: 1.2603e-05 - accuracy: 1.0000\n",
      "Epoch 92/100\n",
      "2000/2000 [==============================] - 0s 80us/sample - loss: 1.2116e-05 - accuracy: 1.0000\n",
      "Epoch 93/100\n",
      "2000/2000 [==============================] - 0s 71us/sample - loss: 1.1647e-05 - accuracy: 1.0000\n",
      "Epoch 94/100\n",
      "2000/2000 [==============================] - 0s 100us/sample - loss: 1.1210e-05 - accuracy: 1.0000\n",
      "Epoch 95/100\n",
      "2000/2000 [==============================] - 0s 80us/sample - loss: 1.0786e-05 - accuracy: 1.0000\n",
      "Epoch 96/100\n",
      "2000/2000 [==============================] - 0s 69us/sample - loss: 1.0383e-05 - accuracy: 1.0000\n",
      "Epoch 97/100\n",
      "2000/2000 [==============================] - 0s 79us/sample - loss: 1.0002e-05 - accuracy: 1.0000\n",
      "Epoch 98/100\n",
      "2000/2000 [==============================] - 0s 68us/sample - loss: 9.6219e-06 - accuracy: 1.0000\n",
      "Epoch 99/100\n",
      "2000/2000 [==============================] - 0s 72us/sample - loss: 9.2644e-06 - accuracy: 1.0000\n",
      "Epoch 100/100\n",
      "2000/2000 [==============================] - 0s 83us/sample - loss: 8.9197e-06 - accuracy: 1.0000\n"
     ]
    },
    {
     "data": {
      "text/plain": [
       "<tensorflow.python.keras.callbacks.History at 0x26c87652b88>"
      ]
     },
     "execution_count": 49,
     "metadata": {},
     "output_type": "execute_result"
    }
   ],
   "source": [
    "#Initialising the Artificial Neural Network for model \"Classifier1\"\n",
    "\n",
    "# Initialize the constructor\n",
    "classifier1 = Sequential()\n",
    "\n",
    "# Define model architecture\n",
    "\n",
    "# Adding the input layer and the first hidden layer\n",
    "classifier1.add(Dense(units = 12, kernel_initializer = 'uniform', activation = 'relu', input_dim = 12))\n",
    "\n",
    "# Adding the second hidden layer\n",
    "classifier1.add(Dense(units = 60, kernel_initializer = 'uniform', activation = 'relu'))\n",
    "\n",
    "# Adding the output layer\n",
    "classifier1.add(Dense(units = 10, kernel_initializer = 'uniform', activation = 'sigmoid'))\n",
    "\n",
    "# Compiling the ANN\n",
    "classifier1.compile(optimizer = 'adam', loss = 'categorical_crossentropy', metrics = ['accuracy'])\n",
    "\n",
    "# Fitting the ANN to the Training set\n",
    "classifier1.fit(X_test, y_test, batch_size = 32, epochs = 100)"
   ]
  },
  {
   "cell_type": "code",
   "execution_count": 50,
   "metadata": {},
   "outputs": [
    {
     "name": "stdout",
     "output_type": "stream",
     "text": [
      "Train on 8000 samples, validate on 2000 samples\n",
      "Epoch 1/100\n",
      "8000/8000 [==============================] - 1s 126us/sample - loss: 0.3324 - accuracy: 0.9000 - val_loss: 0.3289 - val_accuracy: 0.9000\n",
      "Epoch 2/100\n",
      "8000/8000 [==============================] - 1s 80us/sample - loss: 0.3257 - accuracy: 0.9000 - val_loss: 0.3221 - val_accuracy: 0.9000\n",
      "Epoch 3/100\n",
      "8000/8000 [==============================] - 0s 55us/sample - loss: 0.3190 - accuracy: 0.9000 - val_loss: 0.3154 - val_accuracy: 0.9000\n",
      "Epoch 4/100\n",
      "8000/8000 [==============================] - 0s 55us/sample - loss: 0.3123 - accuracy: 0.9000 - val_loss: 0.3088 - val_accuracy: 0.9000\n",
      "Epoch 5/100\n",
      "8000/8000 [==============================] - 0s 56us/sample - loss: 0.3057 - accuracy: 0.9000 - val_loss: 0.3022 - val_accuracy: 0.9000\n",
      "Epoch 6/100\n",
      "8000/8000 [==============================] - 0s 55us/sample - loss: 0.2991 - accuracy: 0.9000 - val_loss: 0.2956 - val_accuracy: 0.9000\n",
      "Epoch 7/100\n",
      "8000/8000 [==============================] - 0s 53us/sample - loss: 0.2926 - accuracy: 0.9000 - val_loss: 0.2891 - val_accuracy: 0.9000\n",
      "Epoch 8/100\n",
      "8000/8000 [==============================] - 1s 72us/sample - loss: 0.2862 - accuracy: 0.9000 - val_loss: 0.2827 - val_accuracy: 0.9000\n",
      "Epoch 9/100\n",
      "8000/8000 [==============================] - 1s 71us/sample - loss: 0.2798 - accuracy: 0.9000 - val_loss: 0.2763 - val_accuracy: 0.9000\n",
      "Epoch 10/100\n",
      "8000/8000 [==============================] - 1s 71us/sample - loss: 0.2735 - accuracy: 0.9000 - val_loss: 0.2700 - val_accuracy: 0.9001\n",
      "Epoch 11/100\n",
      "8000/8000 [==============================] - 0s 58us/sample - loss: 0.2672 - accuracy: 0.9000 - val_loss: 0.2638 - val_accuracy: 0.9001\n",
      "Epoch 12/100\n",
      "8000/8000 [==============================] - 0s 53us/sample - loss: 0.2610 - accuracy: 0.9000 - val_loss: 0.2576 - val_accuracy: 0.9001\n",
      "Epoch 13/100\n",
      "8000/8000 [==============================] - 0s 56us/sample - loss: 0.2549 - accuracy: 0.9000 - val_loss: 0.2515 - val_accuracy: 0.9001\n",
      "Epoch 14/100\n",
      "8000/8000 [==============================] - 0s 55us/sample - loss: 0.2489 - accuracy: 0.9000 - val_loss: 0.2456 - val_accuracy: 0.9001\n",
      "Epoch 15/100\n",
      "8000/8000 [==============================] - 0s 53us/sample - loss: 0.2430 - accuracy: 0.9000 - val_loss: 0.2397 - val_accuracy: 0.9001\n",
      "Epoch 16/100\n",
      "8000/8000 [==============================] - 0s 55us/sample - loss: 0.2372 - accuracy: 0.9000 - val_loss: 0.2339 - val_accuracy: 0.9001\n",
      "Epoch 17/100\n",
      "8000/8000 [==============================] - 0s 55us/sample - loss: 0.2315 - accuracy: 0.9001 - val_loss: 0.2282 - val_accuracy: 0.9001\n",
      "Epoch 18/100\n",
      "8000/8000 [==============================] - 0s 59us/sample - loss: 0.2259 - accuracy: 0.9002 - val_loss: 0.2227 - val_accuracy: 0.9002\n",
      "Epoch 19/100\n",
      "8000/8000 [==============================] - 0s 57us/sample - loss: 0.2204 - accuracy: 0.9003 - val_loss: 0.2173 - val_accuracy: 0.9004\n",
      "Epoch 20/100\n",
      "8000/8000 [==============================] - 0s 62us/sample - loss: 0.2151 - accuracy: 0.9006 - val_loss: 0.2120 - val_accuracy: 0.9008\n",
      "Epoch 21/100\n",
      "8000/8000 [==============================] - 1s 84us/sample - loss: 0.2099 - accuracy: 0.9011 - val_loss: 0.2068 - val_accuracy: 0.9012\n",
      "Epoch 22/100\n",
      "8000/8000 [==============================] - 1s 87us/sample - loss: 0.2048 - accuracy: 0.9018 - val_loss: 0.2018 - val_accuracy: 0.9020\n",
      "Epoch 23/100\n",
      "8000/8000 [==============================] - 1s 75us/sample - loss: 0.1999 - accuracy: 0.9028 - val_loss: 0.1970 - val_accuracy: 0.9027\n",
      "Epoch 24/100\n",
      "8000/8000 [==============================] - 0s 60us/sample - loss: 0.1951 - accuracy: 0.9040 - val_loss: 0.1922 - val_accuracy: 0.9042\n",
      "Epoch 25/100\n",
      "8000/8000 [==============================] - 0s 57us/sample - loss: 0.1905 - accuracy: 0.9056 - val_loss: 0.1877 - val_accuracy: 0.9061\n",
      "Epoch 26/100\n",
      "8000/8000 [==============================] - 0s 58us/sample - loss: 0.1860 - accuracy: 0.9076 - val_loss: 0.1833 - val_accuracy: 0.9085\n",
      "Epoch 27/100\n",
      "8000/8000 [==============================] - 0s 56us/sample - loss: 0.1817 - accuracy: 0.9101 - val_loss: 0.1791 - val_accuracy: 0.9108\n",
      "Epoch 28/100\n",
      "8000/8000 [==============================] - 0s 60us/sample - loss: 0.1775 - accuracy: 0.9126 - val_loss: 0.1750 - val_accuracy: 0.9137\n",
      "Epoch 29/100\n",
      "8000/8000 [==============================] - 0s 61us/sample - loss: 0.1736 - accuracy: 0.9154 - val_loss: 0.1711 - val_accuracy: 0.9160\n",
      "Epoch 30/100\n",
      "8000/8000 [==============================] - 0s 59us/sample - loss: 0.1697 - accuracy: 0.9182 - val_loss: 0.1673 - val_accuracy: 0.9185\n",
      "Epoch 31/100\n",
      "8000/8000 [==============================] - 0s 58us/sample - loss: 0.1660 - accuracy: 0.9206 - val_loss: 0.1637 - val_accuracy: 0.9214\n",
      "Epoch 32/100\n",
      "8000/8000 [==============================] - 0s 59us/sample - loss: 0.1625 - accuracy: 0.9234 - val_loss: 0.1603 - val_accuracy: 0.9241\n",
      "Epoch 33/100\n",
      "8000/8000 [==============================] - 0s 60us/sample - loss: 0.1591 - accuracy: 0.9263 - val_loss: 0.1570 - val_accuracy: 0.9275\n",
      "Epoch 34/100\n",
      "8000/8000 [==============================] - 1s 64us/sample - loss: 0.1559 - accuracy: 0.9289 - val_loss: 0.1538 - val_accuracy: 0.9303\n",
      "Epoch 35/100\n",
      "8000/8000 [==============================] - 0s 58us/sample - loss: 0.1528 - accuracy: 0.9318 - val_loss: 0.1508 - val_accuracy: 0.9325\n",
      "Epoch 36/100\n",
      "8000/8000 [==============================] - 1s 71us/sample - loss: 0.1499 - accuracy: 0.9343 - val_loss: 0.1480 - val_accuracy: 0.9353\n",
      "Epoch 37/100\n",
      "8000/8000 [==============================] - 0s 61us/sample - loss: 0.1471 - accuracy: 0.9369 - val_loss: 0.1453 - val_accuracy: 0.9378\n",
      "Epoch 38/100\n",
      "8000/8000 [==============================] - 1s 65us/sample - loss: 0.1444 - accuracy: 0.9390 - val_loss: 0.1426 - val_accuracy: 0.9402\n",
      "Epoch 39/100\n",
      "8000/8000 [==============================] - 1s 65us/sample - loss: 0.1419 - accuracy: 0.9410 - val_loss: 0.1402 - val_accuracy: 0.9420\n",
      "Epoch 40/100\n",
      "8000/8000 [==============================] - 1s 63us/sample - loss: 0.1395 - accuracy: 0.9430 - val_loss: 0.1378 - val_accuracy: 0.9438\n",
      "Epoch 41/100\n",
      "8000/8000 [==============================] - 1s 77us/sample - loss: 0.1371 - accuracy: 0.9446 - val_loss: 0.1356 - val_accuracy: 0.9452\n",
      "Epoch 42/100\n",
      "8000/8000 [==============================] - 1s 87us/sample - loss: 0.1349 - accuracy: 0.9464 - val_loss: 0.1334 - val_accuracy: 0.9469\n",
      "Epoch 43/100\n",
      "8000/8000 [==============================] - 1s 73us/sample - loss: 0.1328 - accuracy: 0.9480 - val_loss: 0.1314 - val_accuracy: 0.9491\n",
      "Epoch 44/100\n",
      "8000/8000 [==============================] - 1s 84us/sample - loss: 0.1308 - accuracy: 0.9493 - val_loss: 0.1294 - val_accuracy: 0.9507\n",
      "Epoch 45/100\n",
      "8000/8000 [==============================] - 1s 78us/sample - loss: 0.1289 - accuracy: 0.9509 - val_loss: 0.1276 - val_accuracy: 0.9521\n",
      "Epoch 46/100\n",
      "8000/8000 [==============================] - 1s 75us/sample - loss: 0.1271 - accuracy: 0.9523 - val_loss: 0.1258 - val_accuracy: 0.9528\n",
      "Epoch 47/100\n",
      "8000/8000 [==============================] - 1s 70us/sample - loss: 0.1254 - accuracy: 0.9534 - val_loss: 0.1241 - val_accuracy: 0.9540\n",
      "Epoch 48/100\n",
      "8000/8000 [==============================] - 1s 64us/sample - loss: 0.1237 - accuracy: 0.9546 - val_loss: 0.1225 - val_accuracy: 0.9549\n",
      "Epoch 49/100\n",
      "8000/8000 [==============================] - 0s 60us/sample - loss: 0.1221 - accuracy: 0.9555 - val_loss: 0.1210 - val_accuracy: 0.9557\n",
      "Epoch 50/100\n",
      "8000/8000 [==============================] - 1s 67us/sample - loss: 0.1206 - accuracy: 0.9566 - val_loss: 0.1195 - val_accuracy: 0.9565\n",
      "Epoch 51/100\n",
      "8000/8000 [==============================] - 1s 63us/sample - loss: 0.1191 - accuracy: 0.9573 - val_loss: 0.1181 - val_accuracy: 0.9572\n",
      "Epoch 52/100\n",
      "8000/8000 [==============================] - 1s 65us/sample - loss: 0.1178 - accuracy: 0.9580 - val_loss: 0.1167 - val_accuracy: 0.9582\n",
      "Epoch 53/100\n",
      "8000/8000 [==============================] - 0s 62us/sample - loss: 0.1164 - accuracy: 0.9586 - val_loss: 0.1154 - val_accuracy: 0.9593\n",
      "Epoch 54/100\n",
      "8000/8000 [==============================] - 1s 66us/sample - loss: 0.1151 - accuracy: 0.9594 - val_loss: 0.1142 - val_accuracy: 0.9598\n",
      "Epoch 55/100\n",
      "8000/8000 [==============================] - 0s 62us/sample - loss: 0.1139 - accuracy: 0.9598 - val_loss: 0.1130 - val_accuracy: 0.9603\n"
     ]
    },
    {
     "name": "stdout",
     "output_type": "stream",
     "text": [
      "Epoch 56/100\n",
      "8000/8000 [==============================] - 0s 58us/sample - loss: 0.1127 - accuracy: 0.9603 - val_loss: 0.1118 - val_accuracy: 0.9612\n",
      "Epoch 57/100\n",
      "8000/8000 [==============================] - 0s 61us/sample - loss: 0.1116 - accuracy: 0.9609 - val_loss: 0.1107 - val_accuracy: 0.9615\n",
      "Epoch 58/100\n",
      "8000/8000 [==============================] - 0s 58us/sample - loss: 0.1105 - accuracy: 0.9614 - val_loss: 0.1096 - val_accuracy: 0.9617\n",
      "Epoch 59/100\n",
      "8000/8000 [==============================] - 0s 55us/sample - loss: 0.1094 - accuracy: 0.9618 - val_loss: 0.1086 - val_accuracy: 0.9621\n",
      "Epoch 60/100\n",
      "8000/8000 [==============================] - 1s 79us/sample - loss: 0.1084 - accuracy: 0.9621 - val_loss: 0.1076 - val_accuracy: 0.9628\n",
      "Epoch 61/100\n",
      "8000/8000 [==============================] - 1s 70us/sample - loss: 0.1074 - accuracy: 0.9625 - val_loss: 0.1067 - val_accuracy: 0.9633\n",
      "Epoch 62/100\n",
      "8000/8000 [==============================] - 0s 57us/sample - loss: 0.1065 - accuracy: 0.9628 - val_loss: 0.1057 - val_accuracy: 0.9636\n",
      "Epoch 63/100\n",
      "8000/8000 [==============================] - 0s 56us/sample - loss: 0.1056 - accuracy: 0.9632 - val_loss: 0.1048 - val_accuracy: 0.9638\n",
      "Epoch 64/100\n",
      "8000/8000 [==============================] - 0s 58us/sample - loss: 0.1047 - accuracy: 0.9633 - val_loss: 0.1040 - val_accuracy: 0.9641\n",
      "Epoch 65/100\n",
      "8000/8000 [==============================] - 0s 57us/sample - loss: 0.1038 - accuracy: 0.9636 - val_loss: 0.1031 - val_accuracy: 0.9645\n",
      "Epoch 66/100\n",
      "8000/8000 [==============================] - 1s 73us/sample - loss: 0.1030 - accuracy: 0.9638 - val_loss: 0.1023 - val_accuracy: 0.9648\n",
      "Epoch 67/100\n",
      "8000/8000 [==============================] - 1s 75us/sample - loss: 0.1021 - accuracy: 0.9640 - val_loss: 0.1015 - val_accuracy: 0.9648\n",
      "Epoch 68/100\n",
      "8000/8000 [==============================] - 1s 81us/sample - loss: 0.1013 - accuracy: 0.9642 - val_loss: 0.1007 - val_accuracy: 0.9651\n",
      "Epoch 69/100\n",
      "8000/8000 [==============================] - 0s 59us/sample - loss: 0.1006 - accuracy: 0.9644 - val_loss: 0.0999 - val_accuracy: 0.9652\n",
      "Epoch 70/100\n",
      "8000/8000 [==============================] - 0s 57us/sample - loss: 0.0998 - accuracy: 0.9647 - val_loss: 0.0992 - val_accuracy: 0.9653\n",
      "Epoch 71/100\n",
      "8000/8000 [==============================] - 0s 56us/sample - loss: 0.0991 - accuracy: 0.9648 - val_loss: 0.0985 - val_accuracy: 0.9655\n",
      "Epoch 72/100\n",
      "8000/8000 [==============================] - 0s 59us/sample - loss: 0.0984 - accuracy: 0.9651 - val_loss: 0.0978 - val_accuracy: 0.9656\n",
      "Epoch 73/100\n",
      "8000/8000 [==============================] - 1s 67us/sample - loss: 0.0977 - accuracy: 0.9654 - val_loss: 0.0971 - val_accuracy: 0.9659\n",
      "Epoch 74/100\n",
      "8000/8000 [==============================] - 0s 58us/sample - loss: 0.0970 - accuracy: 0.9655 - val_loss: 0.0964 - val_accuracy: 0.9662\n",
      "Epoch 75/100\n",
      "8000/8000 [==============================] - 0s 60us/sample - loss: 0.0963 - accuracy: 0.9657 - val_loss: 0.0957 - val_accuracy: 0.9663\n",
      "Epoch 76/100\n",
      "8000/8000 [==============================] - 0s 60us/sample - loss: 0.0956 - accuracy: 0.9658 - val_loss: 0.0951 - val_accuracy: 0.9664\n",
      "Epoch 77/100\n",
      "8000/8000 [==============================] - 1s 65us/sample - loss: 0.0950 - accuracy: 0.9660 - val_loss: 0.0945 - val_accuracy: 0.9665\n",
      "Epoch 78/100\n",
      "8000/8000 [==============================] - 1s 71us/sample - loss: 0.0944 - accuracy: 0.9662 - val_loss: 0.0938 - val_accuracy: 0.9665\n",
      "Epoch 79/100\n",
      "8000/8000 [==============================] - 1s 76us/sample - loss: 0.0937 - accuracy: 0.9663 - val_loss: 0.0932 - val_accuracy: 0.9666\n",
      "Epoch 80/100\n",
      "8000/8000 [==============================] - 1s 87us/sample - loss: 0.0931 - accuracy: 0.9665 - val_loss: 0.0926 - val_accuracy: 0.9667\n",
      "Epoch 81/100\n",
      "8000/8000 [==============================] - 0s 60us/sample - loss: 0.0925 - accuracy: 0.9666 - val_loss: 0.0920 - val_accuracy: 0.9669\n",
      "Epoch 82/100\n",
      "8000/8000 [==============================] - 0s 56us/sample - loss: 0.0919 - accuracy: 0.9667 - val_loss: 0.0915 - val_accuracy: 0.9670\n",
      "Epoch 83/100\n",
      "8000/8000 [==============================] - 0s 57us/sample - loss: 0.0914 - accuracy: 0.9668 - val_loss: 0.0909 - val_accuracy: 0.9672\n",
      "Epoch 84/100\n",
      "8000/8000 [==============================] - 0s 58us/sample - loss: 0.0908 - accuracy: 0.9669 - val_loss: 0.0903 - val_accuracy: 0.9674\n",
      "Epoch 85/100\n",
      "8000/8000 [==============================] - 0s 57us/sample - loss: 0.0902 - accuracy: 0.9671 - val_loss: 0.0898 - val_accuracy: 0.9676\n",
      "Epoch 86/100\n",
      "8000/8000 [==============================] - 0s 57us/sample - loss: 0.0897 - accuracy: 0.9671 - val_loss: 0.0892 - val_accuracy: 0.9677\n",
      "Epoch 87/100\n",
      "8000/8000 [==============================] - 0s 57us/sample - loss: 0.0891 - accuracy: 0.9672 - val_loss: 0.0887 - val_accuracy: 0.9678\n",
      "Epoch 88/100\n",
      "8000/8000 [==============================] - 0s 58us/sample - loss: 0.0886 - accuracy: 0.9673 - val_loss: 0.0882 - val_accuracy: 0.9679\n",
      "Epoch 89/100\n",
      "8000/8000 [==============================] - 0s 56us/sample - loss: 0.0881 - accuracy: 0.9673 - val_loss: 0.0876 - val_accuracy: 0.9679\n",
      "Epoch 90/100\n",
      "8000/8000 [==============================] - 0s 58us/sample - loss: 0.0876 - accuracy: 0.9674 - val_loss: 0.0871 - val_accuracy: 0.9680\n",
      "Epoch 91/100\n",
      "8000/8000 [==============================] - 1s 73us/sample - loss: 0.0870 - accuracy: 0.9675 - val_loss: 0.0866 - val_accuracy: 0.9682\n",
      "Epoch 92/100\n",
      "8000/8000 [==============================] - 1s 81us/sample - loss: 0.0865 - accuracy: 0.9676 - val_loss: 0.0861 - val_accuracy: 0.9684\n",
      "Epoch 93/100\n",
      "8000/8000 [==============================] - 0s 58us/sample - loss: 0.0860 - accuracy: 0.9677 - val_loss: 0.0856 - val_accuracy: 0.9686\n",
      "Epoch 94/100\n",
      "8000/8000 [==============================] - 0s 62us/sample - loss: 0.0855 - accuracy: 0.9678 - val_loss: 0.0851 - val_accuracy: 0.9688\n",
      "Epoch 95/100\n",
      "8000/8000 [==============================] - 0s 58us/sample - loss: 0.0850 - accuracy: 0.9680 - val_loss: 0.0846 - val_accuracy: 0.9688\n",
      "Epoch 96/100\n",
      "8000/8000 [==============================] - 0s 59us/sample - loss: 0.0846 - accuracy: 0.9681 - val_loss: 0.0842 - val_accuracy: 0.9689\n",
      "Epoch 97/100\n",
      "8000/8000 [==============================] - 0s 58us/sample - loss: 0.0841 - accuracy: 0.9682 - val_loss: 0.0837 - val_accuracy: 0.9689\n",
      "Epoch 98/100\n",
      "8000/8000 [==============================] - 1s 64us/sample - loss: 0.0836 - accuracy: 0.9682 - val_loss: 0.0832 - val_accuracy: 0.9692\n",
      "Epoch 99/100\n",
      "8000/8000 [==============================] - 1s 79us/sample - loss: 0.0831 - accuracy: 0.9684 - val_loss: 0.0827 - val_accuracy: 0.9692\n",
      "Epoch 100/100\n",
      "8000/8000 [==============================] - 1s 89us/sample - loss: 0.0827 - accuracy: 0.9686 - val_loss: 0.0823 - val_accuracy: 0.9693\n"
     ]
    },
    {
     "data": {
      "text/plain": [
       "<tensorflow.python.keras.callbacks.History at 0x26c88b89988>"
      ]
     },
     "execution_count": 50,
     "metadata": {},
     "output_type": "execute_result"
    }
   ],
   "source": [
    "#Customize the learning rate to 0.001 in sgd optimizer and run the model \"Classifier2\"\n",
    "\n",
    "#Initialize the sequential model\n",
    "classifier2=tf.keras.models.Sequential()\n",
    "\n",
    "# Add dense layer which provides 10 outputs after applying softmax\n",
    "classifier2.add(tf.keras.layers.Dense(10,activation='softmax'))\n",
    "\n",
    "sgd_optimizer = tf.keras.optimizers.SGD(lr=0.001)\n",
    "classifier2.compile(optimizer=sgd_optimizer,loss='binary_crossentropy',metrics=['accuracy'])\n",
    "\n",
    "classifier2.fit(X_train,y_train,epochs=100,validation_data=(X_test, y_test),batch_size=32)"
   ]
  },
  {
   "cell_type": "markdown",
   "metadata": {},
   "source": [
    "# Model Review\n",
    "Summarize the model using model.summary\n"
   ]
  },
  {
   "cell_type": "code",
   "execution_count": 51,
   "metadata": {},
   "outputs": [
    {
     "name": "stdout",
     "output_type": "stream",
     "text": [
      "Model: \"sequential\"\n",
      "_________________________________________________________________\n",
      "Layer (type)                 Output Shape              Param #   \n",
      "=================================================================\n",
      "dense (Dense)                (None, 12)                156       \n",
      "_________________________________________________________________\n",
      "dense_1 (Dense)              (None, 60)                780       \n",
      "_________________________________________________________________\n",
      "dense_2 (Dense)              (None, 10)                610       \n",
      "=================================================================\n",
      "Total params: 1,546\n",
      "Trainable params: 1,546\n",
      "Non-trainable params: 0\n",
      "_________________________________________________________________\n"
     ]
    }
   ],
   "source": [
    "classifier1.summary()"
   ]
  },
  {
   "cell_type": "code",
   "execution_count": 52,
   "metadata": {},
   "outputs": [
    {
     "name": "stdout",
     "output_type": "stream",
     "text": [
      "Model: \"sequential_1\"\n",
      "_________________________________________________________________\n",
      "Layer (type)                 Output Shape              Param #   \n",
      "=================================================================\n",
      "dense_3 (Dense)              multiple                  130       \n",
      "=================================================================\n",
      "Total params: 130\n",
      "Trainable params: 130\n",
      "Non-trainable params: 0\n",
      "_________________________________________________________________\n"
     ]
    }
   ],
   "source": [
    "classifier2.summary()"
   ]
  },
  {
   "cell_type": "code",
   "execution_count": 135,
   "metadata": {},
   "outputs": [],
   "source": [
    "#Predicting the Test set results for \"Classifier1\"\n",
    "\n",
    "y_pred1 = classifier1.predict(X_test)\n",
    "y_pred1 = (y_pred1 > 0.5)"
   ]
  },
  {
   "cell_type": "code",
   "execution_count": 167,
   "metadata": {},
   "outputs": [],
   "source": [
    "y_pred2 = y_pred1.reshape(-1,2)"
   ]
  },
  {
   "cell_type": "code",
   "execution_count": 168,
   "metadata": {},
   "outputs": [],
   "source": [
    "y_test2 = y_test.reshape(-1,2)"
   ]
  },
  {
   "cell_type": "code",
   "execution_count": 169,
   "metadata": {},
   "outputs": [
    {
     "data": {
      "text/plain": [
       "(10000, 2)"
      ]
     },
     "execution_count": 169,
     "metadata": {},
     "output_type": "execute_result"
    }
   ],
   "source": [
    "y_pred2.shape"
   ]
  },
  {
   "cell_type": "code",
   "execution_count": 170,
   "metadata": {},
   "outputs": [
    {
     "data": {
      "text/plain": [
       "(10000, 2)"
      ]
     },
     "execution_count": 170,
     "metadata": {},
     "output_type": "execute_result"
    }
   ],
   "source": [
    "y_test2.shape"
   ]
  },
  {
   "cell_type": "code",
   "execution_count": 171,
   "metadata": {},
   "outputs": [
    {
     "name": "stdout",
     "output_type": "stream",
     "text": [
      "[[[ 405    0]\n",
      "  [ 842  753]]\n",
      "\n",
      " [[1595    0]\n",
      "  [ 150  255]]\n",
      "\n",
      " [[2000    0]\n",
      "  [   0    0]]\n",
      "\n",
      " [[2000    0]\n",
      "  [   0    0]]\n",
      "\n",
      " [[2000    0]\n",
      "  [   0    0]]\n",
      "\n",
      " [[2000    0]\n",
      "  [   0    0]]\n",
      "\n",
      " [[2000    0]\n",
      "  [   0    0]]\n",
      "\n",
      " [[2000    0]\n",
      "  [   0    0]]\n",
      "\n",
      " [[2000    0]\n",
      "  [   0    0]]\n",
      "\n",
      " [[2000    0]\n",
      "  [   0    0]]]\n"
     ]
    }
   ],
   "source": [
    "#Confusion Matrix\n",
    "\n",
    "cm = skm.multilabel_confusion_matrix(y_test, y_pred1)\n",
    "print(cm)"
   ]
  },
  {
   "cell_type": "code",
   "execution_count": 172,
   "metadata": {},
   "outputs": [
    {
     "name": "stdout",
     "output_type": "stream",
     "text": [
      "[[[8405    0]\n",
      "  [ 842  753]]\n",
      "\n",
      " [[9595    0]\n",
      "  [ 150  255]]]\n"
     ]
    }
   ],
   "source": [
    "cm = skm.multilabel_confusion_matrix(y_test2, y_pred2)\n",
    "print(cm)"
   ]
  },
  {
   "cell_type": "code",
   "execution_count": 174,
   "metadata": {},
   "outputs": [
    {
     "data": {
      "image/png": "[encoded data removed]",
      "text/plain": [
       "<Figure size 432x288 with 2 Axes>"
      ]
     },
     "metadata": {},
     "output_type": "display_data"
    }
   ],
   "source": [
    "df = pd.DataFrame(y_pred2, columns=['y_Actual','y_Predicted'])\n",
    "confusion_matrix = pd.crosstab(df['y_Actual'], df['y_Predicted'], rownames=['Actual'], colnames=['Predicted'], margins = True)\n",
    "\n",
    "sns.heatmap(confusion_matrix, annot=True)\n",
    "plt.show()"
   ]
  },
  {
   "cell_type": "code",
   "execution_count": 143,
   "metadata": {},
   "outputs": [
    {
     "name": "stdout",
     "output_type": "stream",
     "text": [
      "              precision    recall  f1-score   support\n",
      "\n",
      "           0       0.90      0.98      0.93      1595\n",
      "           1       1.00      0.03      0.05       405\n",
      "           2       0.00      0.00      0.00         0\n",
      "           3       0.00      0.00      0.00         0\n",
      "           4       0.00      0.00      0.00         0\n",
      "           5       0.00      0.00      0.00         0\n",
      "           6       0.00      0.00      0.00         0\n",
      "           7       0.00      0.00      0.00         0\n",
      "           8       0.00      0.00      0.00         0\n",
      "           9       0.00      0.00      0.00         0\n",
      "\n",
      "   micro avg       0.90      0.78      0.84      2000\n",
      "   macro avg       0.19      0.10      0.10      2000\n",
      "weighted avg       0.92      0.78      0.76      2000\n",
      " samples avg       0.78      0.78      0.78      2000\n",
      "\n"
     ]
    }
   ],
   "source": [
    "print(skm.classification_report(y_test,y_pred)) \n"
   ]
  },
  {
   "cell_type": "code",
   "execution_count": 145,
   "metadata": {},
   "outputs": [],
   "source": [
    "#Predicting the Test set results for \"Classifier2\"\n",
    "\n",
    "y_pred3 = classifier2.predict(X_test)\n",
    "y_pred3 = (y_pred3 > 0.5)"
   ]
  },
  {
   "cell_type": "code",
   "execution_count": 175,
   "metadata": {},
   "outputs": [],
   "source": [
    "y_pred4 = y_pred3.reshape(-1,2)"
   ]
  },
  {
   "cell_type": "code",
   "execution_count": 176,
   "metadata": {},
   "outputs": [],
   "source": [
    "y_test4 = y_test.reshape(-1,2)"
   ]
  },
  {
   "cell_type": "code",
   "execution_count": 177,
   "metadata": {},
   "outputs": [
    {
     "data": {
      "text/plain": [
       "(10000, 2)"
      ]
     },
     "execution_count": 177,
     "metadata": {},
     "output_type": "execute_result"
    }
   ],
   "source": [
    "y_pred4.shape"
   ]
  },
  {
   "cell_type": "code",
   "execution_count": 178,
   "metadata": {},
   "outputs": [
    {
     "data": {
      "text/plain": [
       "(10000, 2)"
      ]
     },
     "execution_count": 178,
     "metadata": {},
     "output_type": "execute_result"
    }
   ],
   "source": [
    "y_test4.shape"
   ]
  },
  {
   "cell_type": "code",
   "execution_count": 179,
   "metadata": {},
   "outputs": [
    {
     "name": "stdout",
     "output_type": "stream",
     "text": [
      "[[[ 224  181]\n",
      "  [  39 1556]]\n",
      "\n",
      " [[1595    0]\n",
      "  [ 394   11]]\n",
      "\n",
      " [[2000    0]\n",
      "  [   0    0]]\n",
      "\n",
      " [[2000    0]\n",
      "  [   0    0]]\n",
      "\n",
      " [[2000    0]\n",
      "  [   0    0]]\n",
      "\n",
      " [[2000    0]\n",
      "  [   0    0]]\n",
      "\n",
      " [[2000    0]\n",
      "  [   0    0]]\n",
      "\n",
      " [[2000    0]\n",
      "  [   0    0]]\n",
      "\n",
      " [[2000    0]\n",
      "  [   0    0]]\n",
      "\n",
      " [[2000    0]\n",
      "  [   0    0]]]\n"
     ]
    }
   ],
   "source": [
    "#Confusion Matrix\n",
    "\n",
    "cm = skm.multilabel_confusion_matrix(y_test, y_pred3)\n",
    "print(cm)\n"
   ]
  },
  {
   "cell_type": "code",
   "execution_count": 182,
   "metadata": {},
   "outputs": [
    {
     "name": "stdout",
     "output_type": "stream",
     "text": [
      "[[[8224  181]\n",
      "  [  39 1556]]\n",
      "\n",
      " [[9595    0]\n",
      "  [ 394   11]]]\n"
     ]
    }
   ],
   "source": [
    "cm = skm.multilabel_confusion_matrix(y_test4, y_pred4)\n",
    "print(cm)"
   ]
  },
  {
   "cell_type": "code",
   "execution_count": 183,
   "metadata": {},
   "outputs": [
    {
     "data": {
      "image/png": "[encoded data removed]",
      "text/plain": [
       "<Figure size 432x288 with 2 Axes>"
      ]
     },
     "metadata": {},
     "output_type": "display_data"
    }
   ],
   "source": [
    "df = pd.DataFrame(y_pred4, columns=['y_Actual','y_Predicted'])\n",
    "confusion_matrix = pd.crosstab(df['y_Actual'], df['y_Predicted'], rownames=['Actual'], colnames=['Predicted'], margins = True)\n",
    "\n",
    "sns.heatmap(confusion_matrix, annot=True)\n",
    "plt.show()"
   ]
  },
  {
   "cell_type": "code",
   "execution_count": 181,
   "metadata": {},
   "outputs": [
    {
     "name": "stdout",
     "output_type": "stream",
     "text": [
      "              precision    recall  f1-score   support\n",
      "\n",
      "           0       0.90      0.98      0.93      1595\n",
      "           1       1.00      0.03      0.05       405\n",
      "           2       0.00      0.00      0.00         0\n",
      "           3       0.00      0.00      0.00         0\n",
      "           4       0.00      0.00      0.00         0\n",
      "           5       0.00      0.00      0.00         0\n",
      "           6       0.00      0.00      0.00         0\n",
      "           7       0.00      0.00      0.00         0\n",
      "           8       0.00      0.00      0.00         0\n",
      "           9       0.00      0.00      0.00         0\n",
      "\n",
      "   micro avg       0.90      0.78      0.84      2000\n",
      "   macro avg       0.19      0.10      0.10      2000\n",
      "weighted avg       0.92      0.78      0.76      2000\n",
      " samples avg       0.78      0.78      0.78      2000\n",
      "\n"
     ]
    }
   ],
   "source": [
    "print(skm.classification_report(y_test,y_pred)) \n"
   ]
  },
  {
   "cell_type": "code",
   "execution_count": 156,
   "metadata": {},
   "outputs": [
    {
     "name": "stdout",
     "output_type": "stream",
     "text": [
      "Accuracy: 1.000\n",
      "Loss: 0.000\n"
     ]
    }
   ],
   "source": [
    "#Accuracy score for Classifier1\n",
    "\n",
    "loss, acc = classifier1.evaluate(X_test, y_test, verbose=0)\n",
    "print('Accuracy: %.3f'  % acc)\n",
    "print('Loss: %.3f' % loss)"
   ]
  },
  {
   "cell_type": "code",
   "execution_count": 157,
   "metadata": {},
   "outputs": [
    {
     "name": "stdout",
     "output_type": "stream",
     "text": [
      "Accuracy: 0.969\n",
      "Loss: 0.082\n"
     ]
    }
   ],
   "source": [
    "#Accuracy score for Classifier2\n",
    "\n",
    "loss, acc = classifier2.evaluate(X_test, y_test, verbose=0)\n",
    "print('Accuracy: %.3f'  % acc)\n",
    "print('Loss: %.3f' % loss)"
   ]
  },
  {
   "cell_type": "markdown",
   "metadata": {},
   "source": [
    "# Conclusion"
   ]
  },
  {
   "cell_type": "markdown",
   "metadata": {},
   "source": [
    "#1) Classifier1 model is highly accurate with an accuracy of 1 and loss of 0!"
   ]
  },
  {
   "cell_type": "code",
   "execution_count": null,
   "metadata": {},
   "outputs": [],
   "source": []
  }
 ],
 "metadata": {
  "kernelspec": {
   "display_name": "Python 3",
   "language": "python",
   "name": "python3"
  },
  "language_info": {
   "codemirror_mode": {
    "name": "ipython",
    "version": 3
   },
   "file_extension": ".py",
   "mimetype": "text/x-python",
   "name": "python",
   "nbconvert_exporter": "python",
   "pygments_lexer": "ipython3",
   "version": "3.9.1"
  }
 },
 "nbformat": 4,
 "nbformat_minor": 4
}
