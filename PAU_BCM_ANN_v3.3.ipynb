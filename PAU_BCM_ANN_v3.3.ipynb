{
 "cells": [
  {
   "cell_type": "markdown",
   "metadata": {},
   "source": [
    "# Bank Churn Prediction "
   ]
  },
  {
   "cell_type": "markdown",
   "metadata": {},
   "source": [
    "Objective: \n",
    "Given a Bank customer, build a neural network based classifier that can determine whether they will leave or not in the next 6 months.  \n",
    " \n",
    "Context:  \n",
    "Businesses like banks which provide service have to worry about problem of 'Churn' i.e. customers leaving and joining another service provider. It is important to understand which aspects of the service influence a customer's decision in this regard. Management can concentrate efforts on improvement of service, keeping in mind these priorities.  \n",
    " \n",
    "Data Description:  \n",
    "The case study is from an open-source dataset from Kaggle.  The dataset contains 10,000 sample points with 14 distinct features such as CustomerId, CreditScore, Geography, Gender, Age, Tenure, Balance etc. "
   ]
  },
  {
   "cell_type": "code",
   "execution_count": 64,
   "metadata": {},
   "outputs": [],
   "source": [
    "#Load basic libraries\n",
    "\n",
    "import numpy as np\n",
    "import pandas as pd\n",
    "import seaborn as sns\n",
    "import math\n",
    "import numbers\n",
    "import random\n",
    "import operator\n",
    "import random\n",
    "\n",
    "#import standard visualization\n",
    "\n",
    "import matplotlib.pyplot as plt\n",
    "%matplotlib inline \n",
    "import seaborn as sns\n",
    "sns.set(style = 'darkgrid')\n",
    "from IPython.display import HTML, display\n",
    "from IPython.core import display as ICD\n",
    "from pandas.plotting import scatter_matrix\n",
    "pd.options.display.max_columns = None\n",
    "import warnings\n",
    "import scikitplot as skplt\n",
    "from sklearn.metrics import confusion_matrix\n",
    "import itertools\n",
    "\n",
    "#Load machine learning libraries\n",
    "\n",
    "from sklearn import ensemble, metrics\n",
    "from sklearn import model_selection\n",
    "from sklearn.model_selection import train_test_split\n",
    "from sklearn import preprocessing\n",
    "from sklearn.preprocessing import LabelEncoder, OneHotEncoder\n",
    "from sklearn.preprocessing import Normalizer\n",
    "from sklearn.metrics import roc_curve, auc\n",
    "from sklearn.metrics import roc_auc_score\n",
    "import matplotlib.pyplot as plt\n",
    "import sklearn.metrics as skm\n",
    "from sklearn.metrics import classification_report \n",
    "from sklearn.metrics import accuracy_score, confusion_matrix, precision_score, recall_score, f1_score, precision_recall_curve, auc\n",
    "import matplotlib.pyplot as plt\n",
    "\n",
    "#Load neural network libraries\n",
    "\n",
    "import tensorflow as tf\n",
    "from tensorflow import keras\n",
    "from tensorflow.keras.datasets import mnist\n",
    "from tensorflow.keras.layers import Dense\n",
    "from tensorflow.keras.models import Sequential\n",
    "from tensorflow.keras.layers import Dense, Dropout, BatchNormalization\n",
    "from tensorflow.keras import optimizers\n",
    "\n",
    "# Ignore warnings\n",
    "import warnings\n",
    "warnings.filterwarnings('ignore')"
   ]
  },
  {
   "cell_type": "markdown",
   "metadata": {},
   "source": [
    "# Loading and initial analysis"
   ]
  },
  {
   "cell_type": "code",
   "execution_count": 2,
   "metadata": {},
   "outputs": [
    {
     "data": {
      "text/html": [
       "<div>\n",
       "<style scoped>\n",
       "    .dataframe tbody tr th:only-of-type {\n",
       "        vertical-align: middle;\n",
       "    }\n",
       "\n",
       "    .dataframe tbody tr th {\n",
       "        vertical-align: top;\n",
       "    }\n",
       "\n",
       "    .dataframe thead th {\n",
       "        text-align: right;\n",
       "    }\n",
       "</style>\n",
       "<table border=\"1\" class=\"dataframe\">\n",
       "  <thead>\n",
       "    <tr style=\"text-align: right;\">\n",
       "      <th></th>\n",
       "      <th>RowNumber</th>\n",
       "      <th>CustomerId</th>\n",
       "      <th>Surname</th>\n",
       "      <th>CreditScore</th>\n",
       "      <th>Geography</th>\n",
       "      <th>Gender</th>\n",
       "      <th>Age</th>\n",
       "      <th>Tenure</th>\n",
       "      <th>Balance</th>\n",
       "      <th>NumOfProducts</th>\n",
       "      <th>HasCrCard</th>\n",
       "      <th>IsActiveMember</th>\n",
       "      <th>EstimatedSalary</th>\n",
       "      <th>Exited</th>\n",
       "    </tr>\n",
       "  </thead>\n",
       "  <tbody>\n",
       "    <tr>\n",
       "      <th>0</th>\n",
       "      <td>1</td>\n",
       "      <td>15634602</td>\n",
       "      <td>Hargrave</td>\n",
       "      <td>619</td>\n",
       "      <td>France</td>\n",
       "      <td>Female</td>\n",
       "      <td>42</td>\n",
       "      <td>2</td>\n",
       "      <td>0.00</td>\n",
       "      <td>1</td>\n",
       "      <td>1</td>\n",
       "      <td>1</td>\n",
       "      <td>101348.88</td>\n",
       "      <td>1</td>\n",
       "    </tr>\n",
       "    <tr>\n",
       "      <th>1</th>\n",
       "      <td>2</td>\n",
       "      <td>15647311</td>\n",
       "      <td>Hill</td>\n",
       "      <td>608</td>\n",
       "      <td>Spain</td>\n",
       "      <td>Female</td>\n",
       "      <td>41</td>\n",
       "      <td>1</td>\n",
       "      <td>83807.86</td>\n",
       "      <td>1</td>\n",
       "      <td>0</td>\n",
       "      <td>1</td>\n",
       "      <td>112542.58</td>\n",
       "      <td>0</td>\n",
       "    </tr>\n",
       "    <tr>\n",
       "      <th>2</th>\n",
       "      <td>3</td>\n",
       "      <td>15619304</td>\n",
       "      <td>Onio</td>\n",
       "      <td>502</td>\n",
       "      <td>France</td>\n",
       "      <td>Female</td>\n",
       "      <td>42</td>\n",
       "      <td>8</td>\n",
       "      <td>159660.80</td>\n",
       "      <td>3</td>\n",
       "      <td>1</td>\n",
       "      <td>0</td>\n",
       "      <td>113931.57</td>\n",
       "      <td>1</td>\n",
       "    </tr>\n",
       "    <tr>\n",
       "      <th>3</th>\n",
       "      <td>4</td>\n",
       "      <td>15701354</td>\n",
       "      <td>Boni</td>\n",
       "      <td>699</td>\n",
       "      <td>France</td>\n",
       "      <td>Female</td>\n",
       "      <td>39</td>\n",
       "      <td>1</td>\n",
       "      <td>0.00</td>\n",
       "      <td>2</td>\n",
       "      <td>0</td>\n",
       "      <td>0</td>\n",
       "      <td>93826.63</td>\n",
       "      <td>0</td>\n",
       "    </tr>\n",
       "    <tr>\n",
       "      <th>4</th>\n",
       "      <td>5</td>\n",
       "      <td>15737888</td>\n",
       "      <td>Mitchell</td>\n",
       "      <td>850</td>\n",
       "      <td>Spain</td>\n",
       "      <td>Female</td>\n",
       "      <td>43</td>\n",
       "      <td>2</td>\n",
       "      <td>125510.82</td>\n",
       "      <td>1</td>\n",
       "      <td>1</td>\n",
       "      <td>1</td>\n",
       "      <td>79084.10</td>\n",
       "      <td>0</td>\n",
       "    </tr>\n",
       "  </tbody>\n",
       "</table>\n",
       "</div>"
      ],
      "text/plain": [
       "   RowNumber  CustomerId   Surname  CreditScore Geography  Gender  Age  \\\n",
       "0          1    15634602  Hargrave          619    France  Female   42   \n",
       "1          2    15647311      Hill          608     Spain  Female   41   \n",
       "2          3    15619304      Onio          502    France  Female   42   \n",
       "3          4    15701354      Boni          699    France  Female   39   \n",
       "4          5    15737888  Mitchell          850     Spain  Female   43   \n",
       "\n",
       "   Tenure    Balance  NumOfProducts  HasCrCard  IsActiveMember  \\\n",
       "0       2       0.00              1          1               1   \n",
       "1       1   83807.86              1          0               1   \n",
       "2       8  159660.80              3          1               0   \n",
       "3       1       0.00              2          0               0   \n",
       "4       2  125510.82              1          1               1   \n",
       "\n",
       "   EstimatedSalary  Exited  \n",
       "0        101348.88       1  \n",
       "1        112542.58       0  \n",
       "2        113931.57       1  \n",
       "3         93826.63       0  \n",
       "4         79084.10       0  "
      ]
     },
     "execution_count": 2,
     "metadata": {},
     "output_type": "execute_result"
    }
   ],
   "source": [
    "bcm_df = pd.read_csv(\"bank.csv\")\n",
    "bcm_df.head()"
   ]
  },
  {
   "cell_type": "code",
   "execution_count": 3,
   "metadata": {},
   "outputs": [
    {
     "data": {
      "text/plain": [
       "(10000, 14)"
      ]
     },
     "execution_count": 3,
     "metadata": {},
     "output_type": "execute_result"
    }
   ],
   "source": [
    "bcm_df.shape"
   ]
  },
  {
   "cell_type": "code",
   "execution_count": 4,
   "metadata": {},
   "outputs": [
    {
     "name": "stdout",
     "output_type": "stream",
     "text": [
      "<class 'pandas.core.frame.DataFrame'>\n",
      "RangeIndex: 10000 entries, 0 to 9999\n",
      "Data columns (total 14 columns):\n",
      " #   Column           Non-Null Count  Dtype  \n",
      "---  ------           --------------  -----  \n",
      " 0   RowNumber        10000 non-null  int64  \n",
      " 1   CustomerId       10000 non-null  int64  \n",
      " 2   Surname          10000 non-null  object \n",
      " 3   CreditScore      10000 non-null  int64  \n",
      " 4   Geography        10000 non-null  object \n",
      " 5   Gender           10000 non-null  object \n",
      " 6   Age              10000 non-null  int64  \n",
      " 7   Tenure           10000 non-null  int64  \n",
      " 8   Balance          10000 non-null  float64\n",
      " 9   NumOfProducts    10000 non-null  int64  \n",
      " 10  HasCrCard        10000 non-null  int64  \n",
      " 11  IsActiveMember   10000 non-null  int64  \n",
      " 12  EstimatedSalary  10000 non-null  float64\n",
      " 13  Exited           10000 non-null  int64  \n",
      "dtypes: float64(2), int64(9), object(3)\n",
      "memory usage: 1.1+ MB\n"
     ]
    }
   ],
   "source": [
    "bcm_df.info()"
   ]
  },
  {
   "cell_type": "code",
   "execution_count": 5,
   "metadata": {},
   "outputs": [
    {
     "data": {
      "text/html": [
       "<div>\n",
       "<style scoped>\n",
       "    .dataframe tbody tr th:only-of-type {\n",
       "        vertical-align: middle;\n",
       "    }\n",
       "\n",
       "    .dataframe tbody tr th {\n",
       "        vertical-align: top;\n",
       "    }\n",
       "\n",
       "    .dataframe thead th {\n",
       "        text-align: right;\n",
       "    }\n",
       "</style>\n",
       "<table border=\"1\" class=\"dataframe\">\n",
       "  <thead>\n",
       "    <tr style=\"text-align: right;\">\n",
       "      <th></th>\n",
       "      <th>count</th>\n",
       "      <th>mean</th>\n",
       "      <th>std</th>\n",
       "      <th>min</th>\n",
       "      <th>25%</th>\n",
       "      <th>50%</th>\n",
       "      <th>75%</th>\n",
       "      <th>max</th>\n",
       "    </tr>\n",
       "  </thead>\n",
       "  <tbody>\n",
       "    <tr>\n",
       "      <th>RowNumber</th>\n",
       "      <td>10000.0</td>\n",
       "      <td>5.000500e+03</td>\n",
       "      <td>2886.895680</td>\n",
       "      <td>1.00</td>\n",
       "      <td>2500.75</td>\n",
       "      <td>5.000500e+03</td>\n",
       "      <td>7.500250e+03</td>\n",
       "      <td>10000.00</td>\n",
       "    </tr>\n",
       "    <tr>\n",
       "      <th>CustomerId</th>\n",
       "      <td>10000.0</td>\n",
       "      <td>1.569094e+07</td>\n",
       "      <td>71936.186123</td>\n",
       "      <td>15565701.00</td>\n",
       "      <td>15628528.25</td>\n",
       "      <td>1.569074e+07</td>\n",
       "      <td>1.575323e+07</td>\n",
       "      <td>15815690.00</td>\n",
       "    </tr>\n",
       "    <tr>\n",
       "      <th>CreditScore</th>\n",
       "      <td>10000.0</td>\n",
       "      <td>6.505288e+02</td>\n",
       "      <td>96.653299</td>\n",
       "      <td>350.00</td>\n",
       "      <td>584.00</td>\n",
       "      <td>6.520000e+02</td>\n",
       "      <td>7.180000e+02</td>\n",
       "      <td>850.00</td>\n",
       "    </tr>\n",
       "    <tr>\n",
       "      <th>Age</th>\n",
       "      <td>10000.0</td>\n",
       "      <td>3.892180e+01</td>\n",
       "      <td>10.487806</td>\n",
       "      <td>18.00</td>\n",
       "      <td>32.00</td>\n",
       "      <td>3.700000e+01</td>\n",
       "      <td>4.400000e+01</td>\n",
       "      <td>92.00</td>\n",
       "    </tr>\n",
       "    <tr>\n",
       "      <th>Tenure</th>\n",
       "      <td>10000.0</td>\n",
       "      <td>5.012800e+00</td>\n",
       "      <td>2.892174</td>\n",
       "      <td>0.00</td>\n",
       "      <td>3.00</td>\n",
       "      <td>5.000000e+00</td>\n",
       "      <td>7.000000e+00</td>\n",
       "      <td>10.00</td>\n",
       "    </tr>\n",
       "    <tr>\n",
       "      <th>Balance</th>\n",
       "      <td>10000.0</td>\n",
       "      <td>7.648589e+04</td>\n",
       "      <td>62397.405202</td>\n",
       "      <td>0.00</td>\n",
       "      <td>0.00</td>\n",
       "      <td>9.719854e+04</td>\n",
       "      <td>1.276442e+05</td>\n",
       "      <td>250898.09</td>\n",
       "    </tr>\n",
       "    <tr>\n",
       "      <th>NumOfProducts</th>\n",
       "      <td>10000.0</td>\n",
       "      <td>1.530200e+00</td>\n",
       "      <td>0.581654</td>\n",
       "      <td>1.00</td>\n",
       "      <td>1.00</td>\n",
       "      <td>1.000000e+00</td>\n",
       "      <td>2.000000e+00</td>\n",
       "      <td>4.00</td>\n",
       "    </tr>\n",
       "    <tr>\n",
       "      <th>HasCrCard</th>\n",
       "      <td>10000.0</td>\n",
       "      <td>7.055000e-01</td>\n",
       "      <td>0.455840</td>\n",
       "      <td>0.00</td>\n",
       "      <td>0.00</td>\n",
       "      <td>1.000000e+00</td>\n",
       "      <td>1.000000e+00</td>\n",
       "      <td>1.00</td>\n",
       "    </tr>\n",
       "    <tr>\n",
       "      <th>IsActiveMember</th>\n",
       "      <td>10000.0</td>\n",
       "      <td>5.151000e-01</td>\n",
       "      <td>0.499797</td>\n",
       "      <td>0.00</td>\n",
       "      <td>0.00</td>\n",
       "      <td>1.000000e+00</td>\n",
       "      <td>1.000000e+00</td>\n",
       "      <td>1.00</td>\n",
       "    </tr>\n",
       "    <tr>\n",
       "      <th>EstimatedSalary</th>\n",
       "      <td>10000.0</td>\n",
       "      <td>1.000902e+05</td>\n",
       "      <td>57510.492818</td>\n",
       "      <td>11.58</td>\n",
       "      <td>51002.11</td>\n",
       "      <td>1.001939e+05</td>\n",
       "      <td>1.493882e+05</td>\n",
       "      <td>199992.48</td>\n",
       "    </tr>\n",
       "    <tr>\n",
       "      <th>Exited</th>\n",
       "      <td>10000.0</td>\n",
       "      <td>2.037000e-01</td>\n",
       "      <td>0.402769</td>\n",
       "      <td>0.00</td>\n",
       "      <td>0.00</td>\n",
       "      <td>0.000000e+00</td>\n",
       "      <td>0.000000e+00</td>\n",
       "      <td>1.00</td>\n",
       "    </tr>\n",
       "  </tbody>\n",
       "</table>\n",
       "</div>"
      ],
      "text/plain": [
       "                   count          mean           std          min  \\\n",
       "RowNumber        10000.0  5.000500e+03   2886.895680         1.00   \n",
       "CustomerId       10000.0  1.569094e+07  71936.186123  15565701.00   \n",
       "CreditScore      10000.0  6.505288e+02     96.653299       350.00   \n",
       "Age              10000.0  3.892180e+01     10.487806        18.00   \n",
       "Tenure           10000.0  5.012800e+00      2.892174         0.00   \n",
       "Balance          10000.0  7.648589e+04  62397.405202         0.00   \n",
       "NumOfProducts    10000.0  1.530200e+00      0.581654         1.00   \n",
       "HasCrCard        10000.0  7.055000e-01      0.455840         0.00   \n",
       "IsActiveMember   10000.0  5.151000e-01      0.499797         0.00   \n",
       "EstimatedSalary  10000.0  1.000902e+05  57510.492818        11.58   \n",
       "Exited           10000.0  2.037000e-01      0.402769         0.00   \n",
       "\n",
       "                         25%           50%           75%          max  \n",
       "RowNumber            2500.75  5.000500e+03  7.500250e+03     10000.00  \n",
       "CustomerId       15628528.25  1.569074e+07  1.575323e+07  15815690.00  \n",
       "CreditScore           584.00  6.520000e+02  7.180000e+02       850.00  \n",
       "Age                    32.00  3.700000e+01  4.400000e+01        92.00  \n",
       "Tenure                  3.00  5.000000e+00  7.000000e+00        10.00  \n",
       "Balance                 0.00  9.719854e+04  1.276442e+05    250898.09  \n",
       "NumOfProducts           1.00  1.000000e+00  2.000000e+00         4.00  \n",
       "HasCrCard               0.00  1.000000e+00  1.000000e+00         1.00  \n",
       "IsActiveMember          0.00  1.000000e+00  1.000000e+00         1.00  \n",
       "EstimatedSalary     51002.11  1.001939e+05  1.493882e+05    199992.48  \n",
       "Exited                  0.00  0.000000e+00  0.000000e+00         1.00  "
      ]
     },
     "execution_count": 5,
     "metadata": {},
     "output_type": "execute_result"
    }
   ],
   "source": [
    "bcm_df.describe().T"
   ]
  },
  {
   "cell_type": "code",
   "execution_count": 6,
   "metadata": {},
   "outputs": [
    {
     "name": "stdout",
     "output_type": "stream",
     "text": [
      "\n",
      "Missing values :   0\n",
      "\n",
      "Unique values :  \n",
      " RowNumber          10000\n",
      "CustomerId         10000\n",
      "Surname             2932\n",
      "CreditScore          460\n",
      "Geography              3\n",
      "Gender                 2\n",
      "Age                   70\n",
      "Tenure                11\n",
      "Balance             6382\n",
      "NumOfProducts          4\n",
      "HasCrCard              2\n",
      "IsActiveMember         2\n",
      "EstimatedSalary     9999\n",
      "Exited                 2\n",
      "dtype: int64\n",
      "\n",
      "Duplicate values :  \n",
      " 0\n"
     ]
    }
   ],
   "source": [
    "#Check for missing values, incorrect data, duplicate data \n",
    "\n",
    "print (\"\\nMissing values :  \", bcm_df.isnull().sum().values.sum())\n",
    "\n",
    "print (\"\\nUnique values :  \\n\", bcm_df.nunique())\n",
    "\n",
    "print (\"\\nDuplicate values :  \\n\", bcm_df.duplicated().sum())"
   ]
  },
  {
   "cell_type": "code",
   "execution_count": 7,
   "metadata": {},
   "outputs": [
    {
     "data": {
      "text/html": [
       "<div>\n",
       "<style scoped>\n",
       "    .dataframe tbody tr th:only-of-type {\n",
       "        vertical-align: middle;\n",
       "    }\n",
       "\n",
       "    .dataframe tbody tr th {\n",
       "        vertical-align: top;\n",
       "    }\n",
       "\n",
       "    .dataframe thead th {\n",
       "        text-align: right;\n",
       "    }\n",
       "</style>\n",
       "<table border=\"1\" class=\"dataframe\">\n",
       "  <thead>\n",
       "    <tr style=\"text-align: right;\">\n",
       "      <th></th>\n",
       "      <th>Surname</th>\n",
       "      <th>CreditScore</th>\n",
       "      <th>Geography</th>\n",
       "      <th>Gender</th>\n",
       "      <th>Age</th>\n",
       "      <th>Tenure</th>\n",
       "      <th>Balance</th>\n",
       "      <th>NumOfProducts</th>\n",
       "      <th>HasCrCard</th>\n",
       "      <th>IsActiveMember</th>\n",
       "      <th>EstimatedSalary</th>\n",
       "      <th>Exited</th>\n",
       "    </tr>\n",
       "  </thead>\n",
       "  <tbody>\n",
       "    <tr>\n",
       "      <th>0</th>\n",
       "      <td>Hargrave</td>\n",
       "      <td>619</td>\n",
       "      <td>France</td>\n",
       "      <td>Female</td>\n",
       "      <td>42</td>\n",
       "      <td>2</td>\n",
       "      <td>0.00</td>\n",
       "      <td>1</td>\n",
       "      <td>1</td>\n",
       "      <td>1</td>\n",
       "      <td>101348.88</td>\n",
       "      <td>1</td>\n",
       "    </tr>\n",
       "    <tr>\n",
       "      <th>1</th>\n",
       "      <td>Hill</td>\n",
       "      <td>608</td>\n",
       "      <td>Spain</td>\n",
       "      <td>Female</td>\n",
       "      <td>41</td>\n",
       "      <td>1</td>\n",
       "      <td>83807.86</td>\n",
       "      <td>1</td>\n",
       "      <td>0</td>\n",
       "      <td>1</td>\n",
       "      <td>112542.58</td>\n",
       "      <td>0</td>\n",
       "    </tr>\n",
       "    <tr>\n",
       "      <th>2</th>\n",
       "      <td>Onio</td>\n",
       "      <td>502</td>\n",
       "      <td>France</td>\n",
       "      <td>Female</td>\n",
       "      <td>42</td>\n",
       "      <td>8</td>\n",
       "      <td>159660.80</td>\n",
       "      <td>3</td>\n",
       "      <td>1</td>\n",
       "      <td>0</td>\n",
       "      <td>113931.57</td>\n",
       "      <td>1</td>\n",
       "    </tr>\n",
       "    <tr>\n",
       "      <th>3</th>\n",
       "      <td>Boni</td>\n",
       "      <td>699</td>\n",
       "      <td>France</td>\n",
       "      <td>Female</td>\n",
       "      <td>39</td>\n",
       "      <td>1</td>\n",
       "      <td>0.00</td>\n",
       "      <td>2</td>\n",
       "      <td>0</td>\n",
       "      <td>0</td>\n",
       "      <td>93826.63</td>\n",
       "      <td>0</td>\n",
       "    </tr>\n",
       "    <tr>\n",
       "      <th>4</th>\n",
       "      <td>Mitchell</td>\n",
       "      <td>850</td>\n",
       "      <td>Spain</td>\n",
       "      <td>Female</td>\n",
       "      <td>43</td>\n",
       "      <td>2</td>\n",
       "      <td>125510.82</td>\n",
       "      <td>1</td>\n",
       "      <td>1</td>\n",
       "      <td>1</td>\n",
       "      <td>79084.10</td>\n",
       "      <td>0</td>\n",
       "    </tr>\n",
       "    <tr>\n",
       "      <th>...</th>\n",
       "      <td>...</td>\n",
       "      <td>...</td>\n",
       "      <td>...</td>\n",
       "      <td>...</td>\n",
       "      <td>...</td>\n",
       "      <td>...</td>\n",
       "      <td>...</td>\n",
       "      <td>...</td>\n",
       "      <td>...</td>\n",
       "      <td>...</td>\n",
       "      <td>...</td>\n",
       "      <td>...</td>\n",
       "    </tr>\n",
       "    <tr>\n",
       "      <th>9995</th>\n",
       "      <td>Obijiaku</td>\n",
       "      <td>771</td>\n",
       "      <td>France</td>\n",
       "      <td>Male</td>\n",
       "      <td>39</td>\n",
       "      <td>5</td>\n",
       "      <td>0.00</td>\n",
       "      <td>2</td>\n",
       "      <td>1</td>\n",
       "      <td>0</td>\n",
       "      <td>96270.64</td>\n",
       "      <td>0</td>\n",
       "    </tr>\n",
       "    <tr>\n",
       "      <th>9996</th>\n",
       "      <td>Johnstone</td>\n",
       "      <td>516</td>\n",
       "      <td>France</td>\n",
       "      <td>Male</td>\n",
       "      <td>35</td>\n",
       "      <td>10</td>\n",
       "      <td>57369.61</td>\n",
       "      <td>1</td>\n",
       "      <td>1</td>\n",
       "      <td>1</td>\n",
       "      <td>101699.77</td>\n",
       "      <td>0</td>\n",
       "    </tr>\n",
       "    <tr>\n",
       "      <th>9997</th>\n",
       "      <td>Liu</td>\n",
       "      <td>709</td>\n",
       "      <td>France</td>\n",
       "      <td>Female</td>\n",
       "      <td>36</td>\n",
       "      <td>7</td>\n",
       "      <td>0.00</td>\n",
       "      <td>1</td>\n",
       "      <td>0</td>\n",
       "      <td>1</td>\n",
       "      <td>42085.58</td>\n",
       "      <td>1</td>\n",
       "    </tr>\n",
       "    <tr>\n",
       "      <th>9998</th>\n",
       "      <td>Sabbatini</td>\n",
       "      <td>772</td>\n",
       "      <td>Germany</td>\n",
       "      <td>Male</td>\n",
       "      <td>42</td>\n",
       "      <td>3</td>\n",
       "      <td>75075.31</td>\n",
       "      <td>2</td>\n",
       "      <td>1</td>\n",
       "      <td>0</td>\n",
       "      <td>92888.52</td>\n",
       "      <td>1</td>\n",
       "    </tr>\n",
       "    <tr>\n",
       "      <th>9999</th>\n",
       "      <td>Walker</td>\n",
       "      <td>792</td>\n",
       "      <td>France</td>\n",
       "      <td>Female</td>\n",
       "      <td>28</td>\n",
       "      <td>4</td>\n",
       "      <td>130142.79</td>\n",
       "      <td>1</td>\n",
       "      <td>1</td>\n",
       "      <td>0</td>\n",
       "      <td>38190.78</td>\n",
       "      <td>0</td>\n",
       "    </tr>\n",
       "  </tbody>\n",
       "</table>\n",
       "<p>10000 rows × 12 columns</p>\n",
       "</div>"
      ],
      "text/plain": [
       "        Surname  CreditScore Geography  Gender  Age  Tenure    Balance  \\\n",
       "0      Hargrave          619    France  Female   42       2       0.00   \n",
       "1          Hill          608     Spain  Female   41       1   83807.86   \n",
       "2          Onio          502    France  Female   42       8  159660.80   \n",
       "3          Boni          699    France  Female   39       1       0.00   \n",
       "4      Mitchell          850     Spain  Female   43       2  125510.82   \n",
       "...         ...          ...       ...     ...  ...     ...        ...   \n",
       "9995   Obijiaku          771    France    Male   39       5       0.00   \n",
       "9996  Johnstone          516    France    Male   35      10   57369.61   \n",
       "9997        Liu          709    France  Female   36       7       0.00   \n",
       "9998  Sabbatini          772   Germany    Male   42       3   75075.31   \n",
       "9999     Walker          792    France  Female   28       4  130142.79   \n",
       "\n",
       "      NumOfProducts  HasCrCard  IsActiveMember  EstimatedSalary  Exited  \n",
       "0                 1          1               1        101348.88       1  \n",
       "1                 1          0               1        112542.58       0  \n",
       "2                 3          1               0        113931.57       1  \n",
       "3                 2          0               0         93826.63       0  \n",
       "4                 1          1               1         79084.10       0  \n",
       "...             ...        ...             ...              ...     ...  \n",
       "9995              2          1               0         96270.64       0  \n",
       "9996              1          1               1        101699.77       0  \n",
       "9997              1          0               1         42085.58       1  \n",
       "9998              2          1               0         92888.52       1  \n",
       "9999              1          1               0         38190.78       0  \n",
       "\n",
       "[10000 rows x 12 columns]"
      ]
     },
     "execution_count": 7,
     "metadata": {},
     "output_type": "execute_result"
    }
   ],
   "source": [
    "#Dropping columns with unique values for all customers\n",
    "\n",
    "bcm_df.drop('RowNumber', axis=1, inplace = True)\n",
    "bcm_df.drop('CustomerId', axis=1, inplace = True)\n",
    "\n",
    "bcm_df"
   ]
  },
  {
   "cell_type": "code",
   "execution_count": 8,
   "metadata": {},
   "outputs": [
    {
     "data": {
      "text/plain": [
       "(10000, 12)"
      ]
     },
     "execution_count": 8,
     "metadata": {},
     "output_type": "execute_result"
    }
   ],
   "source": [
    "bcm_df.shape"
   ]
  },
  {
   "cell_type": "code",
   "execution_count": 9,
   "metadata": {},
   "outputs": [
    {
     "data": {
      "text/html": [
       "<div>\n",
       "<style scoped>\n",
       "    .dataframe tbody tr th:only-of-type {\n",
       "        vertical-align: middle;\n",
       "    }\n",
       "\n",
       "    .dataframe tbody tr th {\n",
       "        vertical-align: top;\n",
       "    }\n",
       "\n",
       "    .dataframe thead th {\n",
       "        text-align: right;\n",
       "    }\n",
       "</style>\n",
       "<table border=\"1\" class=\"dataframe\">\n",
       "  <thead>\n",
       "    <tr style=\"text-align: right;\">\n",
       "      <th></th>\n",
       "      <th>CreditScore</th>\n",
       "      <th>Age</th>\n",
       "      <th>Tenure</th>\n",
       "      <th>Balance</th>\n",
       "      <th>NumOfProducts</th>\n",
       "      <th>HasCrCard</th>\n",
       "      <th>IsActiveMember</th>\n",
       "      <th>EstimatedSalary</th>\n",
       "      <th>Exited</th>\n",
       "    </tr>\n",
       "  </thead>\n",
       "  <tbody>\n",
       "    <tr>\n",
       "      <th>CreditScore</th>\n",
       "      <td>9341.860157</td>\n",
       "      <td>-4.019150</td>\n",
       "      <td>0.235355</td>\n",
       "      <td>3.780408e+04</td>\n",
       "      <td>0.687999</td>\n",
       "      <td>-0.240492</td>\n",
       "      <td>1.239139</td>\n",
       "      <td>-7.694701e+03</td>\n",
       "      <td>-1.054722</td>\n",
       "    </tr>\n",
       "    <tr>\n",
       "      <th>Age</th>\n",
       "      <td>-4.019150</td>\n",
       "      <td>109.994084</td>\n",
       "      <td>-0.303229</td>\n",
       "      <td>1.852533e+04</td>\n",
       "      <td>-0.187157</td>\n",
       "      <td>-0.056036</td>\n",
       "      <td>0.448026</td>\n",
       "      <td>-4.343373e+03</td>\n",
       "      <td>1.205250</td>\n",
       "    </tr>\n",
       "    <tr>\n",
       "      <th>Tenure</th>\n",
       "      <td>0.235355</td>\n",
       "      <td>-0.303229</td>\n",
       "      <td>8.364673</td>\n",
       "      <td>-2.211395e+03</td>\n",
       "      <td>0.022616</td>\n",
       "      <td>0.029773</td>\n",
       "      <td>-0.040997</td>\n",
       "      <td>1.294687e+03</td>\n",
       "      <td>-0.016309</td>\n",
       "    </tr>\n",
       "    <tr>\n",
       "      <th>Balance</th>\n",
       "      <td>37804.076998</td>\n",
       "      <td>18525.333354</td>\n",
       "      <td>-2211.394696</td>\n",
       "      <td>3.893436e+09</td>\n",
       "      <td>-11039.815064</td>\n",
       "      <td>-422.619801</td>\n",
       "      <td>-314.483074</td>\n",
       "      <td>4.592389e+07</td>\n",
       "      <td>2978.931708</td>\n",
       "    </tr>\n",
       "    <tr>\n",
       "      <th>NumOfProducts</th>\n",
       "      <td>0.687999</td>\n",
       "      <td>-0.187157</td>\n",
       "      <td>0.022616</td>\n",
       "      <td>-1.103982e+04</td>\n",
       "      <td>0.338322</td>\n",
       "      <td>0.000844</td>\n",
       "      <td>0.002794</td>\n",
       "      <td>4.751478e+02</td>\n",
       "      <td>-0.011203</td>\n",
       "    </tr>\n",
       "    <tr>\n",
       "      <th>HasCrCard</th>\n",
       "      <td>-0.240492</td>\n",
       "      <td>-0.056036</td>\n",
       "      <td>0.029773</td>\n",
       "      <td>-4.226198e+02</td>\n",
       "      <td>0.000844</td>\n",
       "      <td>0.207791</td>\n",
       "      <td>-0.002703</td>\n",
       "      <td>-2.604105e+02</td>\n",
       "      <td>-0.001310</td>\n",
       "    </tr>\n",
       "    <tr>\n",
       "      <th>IsActiveMember</th>\n",
       "      <td>1.239139</td>\n",
       "      <td>0.448026</td>\n",
       "      <td>-0.040997</td>\n",
       "      <td>-3.144831e+02</td>\n",
       "      <td>0.002794</td>\n",
       "      <td>-0.002703</td>\n",
       "      <td>0.249797</td>\n",
       "      <td>-3.282927e+02</td>\n",
       "      <td>-0.031429</td>\n",
       "    </tr>\n",
       "    <tr>\n",
       "      <th>EstimatedSalary</th>\n",
       "      <td>-7694.701048</td>\n",
       "      <td>-4343.372926</td>\n",
       "      <td>1294.686597</td>\n",
       "      <td>4.592389e+07</td>\n",
       "      <td>475.147781</td>\n",
       "      <td>-260.410522</td>\n",
       "      <td>-328.292660</td>\n",
       "      <td>3.307457e+09</td>\n",
       "      <td>280.204670</td>\n",
       "    </tr>\n",
       "    <tr>\n",
       "      <th>Exited</th>\n",
       "      <td>-1.054722</td>\n",
       "      <td>1.205250</td>\n",
       "      <td>-0.016309</td>\n",
       "      <td>2.978932e+03</td>\n",
       "      <td>-0.011203</td>\n",
       "      <td>-0.001310</td>\n",
       "      <td>-0.031429</td>\n",
       "      <td>2.802047e+02</td>\n",
       "      <td>0.162223</td>\n",
       "    </tr>\n",
       "  </tbody>\n",
       "</table>\n",
       "</div>"
      ],
      "text/plain": [
       "                  CreditScore           Age       Tenure       Balance  \\\n",
       "CreditScore       9341.860157     -4.019150     0.235355  3.780408e+04   \n",
       "Age                 -4.019150    109.994084    -0.303229  1.852533e+04   \n",
       "Tenure               0.235355     -0.303229     8.364673 -2.211395e+03   \n",
       "Balance          37804.076998  18525.333354 -2211.394696  3.893436e+09   \n",
       "NumOfProducts        0.687999     -0.187157     0.022616 -1.103982e+04   \n",
       "HasCrCard           -0.240492     -0.056036     0.029773 -4.226198e+02   \n",
       "IsActiveMember       1.239139      0.448026    -0.040997 -3.144831e+02   \n",
       "EstimatedSalary  -7694.701048  -4343.372926  1294.686597  4.592389e+07   \n",
       "Exited              -1.054722      1.205250    -0.016309  2.978932e+03   \n",
       "\n",
       "                 NumOfProducts   HasCrCard  IsActiveMember  EstimatedSalary  \\\n",
       "CreditScore           0.687999   -0.240492        1.239139    -7.694701e+03   \n",
       "Age                  -0.187157   -0.056036        0.448026    -4.343373e+03   \n",
       "Tenure                0.022616    0.029773       -0.040997     1.294687e+03   \n",
       "Balance          -11039.815064 -422.619801     -314.483074     4.592389e+07   \n",
       "NumOfProducts         0.338322    0.000844        0.002794     4.751478e+02   \n",
       "HasCrCard             0.000844    0.207791       -0.002703    -2.604105e+02   \n",
       "IsActiveMember        0.002794   -0.002703        0.249797    -3.282927e+02   \n",
       "EstimatedSalary     475.147781 -260.410522     -328.292660     3.307457e+09   \n",
       "Exited               -0.011203   -0.001310       -0.031429     2.802047e+02   \n",
       "\n",
       "                      Exited  \n",
       "CreditScore        -1.054722  \n",
       "Age                 1.205250  \n",
       "Tenure             -0.016309  \n",
       "Balance          2978.931708  \n",
       "NumOfProducts      -0.011203  \n",
       "HasCrCard          -0.001310  \n",
       "IsActiveMember     -0.031429  \n",
       "EstimatedSalary   280.204670  \n",
       "Exited              0.162223  "
      ]
     },
     "execution_count": 9,
     "metadata": {},
     "output_type": "execute_result"
    }
   ],
   "source": [
    "bcm_df.cov() "
   ]
  },
  {
   "cell_type": "code",
   "execution_count": 10,
   "metadata": {},
   "outputs": [
    {
     "data": {
      "text/plain": [
       "<matplotlib.axes._subplots.AxesSubplot at 0x2771221afc8>"
      ]
     },
     "execution_count": 10,
     "metadata": {},
     "output_type": "execute_result"
    },
    {
     "data": {
      "image/png": "[encoded data removed]",
      "text/plain": [
       "<Figure size 432x288 with 1 Axes>"
      ]
     },
     "metadata": {},
     "output_type": "display_data"
    }
   ],
   "source": [
    "#Exploratory data analysis\n",
    "\n",
    "value_counts = bcm_df['Exited'].value_counts()\n",
    "value_counts.plot.bar(title = 'Exited value counts')"
   ]
  },
  {
   "cell_type": "code",
   "execution_count": 11,
   "metadata": {},
   "outputs": [
    {
     "data": {
      "image/png": "[encoded data removed]",
      "text/plain": [
       "<Figure size 720x3600 with 3 Axes>"
      ]
     },
     "metadata": {},
     "output_type": "display_data"
    }
   ],
   "source": [
    "objs = bcm_df.select_dtypes('object')\n",
    "objs = objs.dropna()\n",
    "fig, ax = plt.subplots(3, 1, figsize=(10,50))\n",
    "for i, obj in enumerate(objs):\n",
    "    sns.countplot(obj, data=bcm_df, hue='Exited', orient='vertical', ax=ax[i], palette='viridis')\n",
    "    for p in ax[i].patches:\n",
    "        y=p.get_bbox().get_points()[1,1]\n",
    "        ax[i].annotate('{:1.2f}%'.format(100.*y/bcm_df[obj].count()), (p.get_x()+0.2, p.get_height()+20), \n",
    "            ha='center', va='bottom',fontsize=10, color='red', rotation=20, xytext=(0, 10),\n",
    "         textcoords='offset points') # set the alignment of the text\n",
    "\n",
    "    ax[i].tick_params(axis='x', rotation=10)\n",
    "    ax[i].set_title(obj)\n",
    "    plt.tight_layout()"
   ]
  },
  {
   "cell_type": "code",
   "execution_count": 11,
   "metadata": {},
   "outputs": [],
   "source": [
    "#Creating matrice\n",
    "\n",
    "X_df = bcm_df.iloc[:, :-1]\n",
    "y_df = bcm_df.iloc[:, -1]"
   ]
  },
  {
   "cell_type": "code",
   "execution_count": 12,
   "metadata": {},
   "outputs": [
    {
     "data": {
      "text/html": [
       "<div>\n",
       "<style scoped>\n",
       "    .dataframe tbody tr th:only-of-type {\n",
       "        vertical-align: middle;\n",
       "    }\n",
       "\n",
       "    .dataframe tbody tr th {\n",
       "        vertical-align: top;\n",
       "    }\n",
       "\n",
       "    .dataframe thead th {\n",
       "        text-align: right;\n",
       "    }\n",
       "</style>\n",
       "<table border=\"1\" class=\"dataframe\">\n",
       "  <thead>\n",
       "    <tr style=\"text-align: right;\">\n",
       "      <th></th>\n",
       "      <th>Surname</th>\n",
       "      <th>CreditScore</th>\n",
       "      <th>Geography</th>\n",
       "      <th>Gender</th>\n",
       "      <th>Age</th>\n",
       "      <th>Tenure</th>\n",
       "      <th>Balance</th>\n",
       "      <th>NumOfProducts</th>\n",
       "      <th>HasCrCard</th>\n",
       "      <th>IsActiveMember</th>\n",
       "      <th>EstimatedSalary</th>\n",
       "    </tr>\n",
       "  </thead>\n",
       "  <tbody>\n",
       "    <tr>\n",
       "      <th>0</th>\n",
       "      <td>Hargrave</td>\n",
       "      <td>619</td>\n",
       "      <td>France</td>\n",
       "      <td>Female</td>\n",
       "      <td>42</td>\n",
       "      <td>2</td>\n",
       "      <td>0.00</td>\n",
       "      <td>1</td>\n",
       "      <td>1</td>\n",
       "      <td>1</td>\n",
       "      <td>101348.88</td>\n",
       "    </tr>\n",
       "    <tr>\n",
       "      <th>1</th>\n",
       "      <td>Hill</td>\n",
       "      <td>608</td>\n",
       "      <td>Spain</td>\n",
       "      <td>Female</td>\n",
       "      <td>41</td>\n",
       "      <td>1</td>\n",
       "      <td>83807.86</td>\n",
       "      <td>1</td>\n",
       "      <td>0</td>\n",
       "      <td>1</td>\n",
       "      <td>112542.58</td>\n",
       "    </tr>\n",
       "    <tr>\n",
       "      <th>2</th>\n",
       "      <td>Onio</td>\n",
       "      <td>502</td>\n",
       "      <td>France</td>\n",
       "      <td>Female</td>\n",
       "      <td>42</td>\n",
       "      <td>8</td>\n",
       "      <td>159660.80</td>\n",
       "      <td>3</td>\n",
       "      <td>1</td>\n",
       "      <td>0</td>\n",
       "      <td>113931.57</td>\n",
       "    </tr>\n",
       "    <tr>\n",
       "      <th>3</th>\n",
       "      <td>Boni</td>\n",
       "      <td>699</td>\n",
       "      <td>France</td>\n",
       "      <td>Female</td>\n",
       "      <td>39</td>\n",
       "      <td>1</td>\n",
       "      <td>0.00</td>\n",
       "      <td>2</td>\n",
       "      <td>0</td>\n",
       "      <td>0</td>\n",
       "      <td>93826.63</td>\n",
       "    </tr>\n",
       "    <tr>\n",
       "      <th>4</th>\n",
       "      <td>Mitchell</td>\n",
       "      <td>850</td>\n",
       "      <td>Spain</td>\n",
       "      <td>Female</td>\n",
       "      <td>43</td>\n",
       "      <td>2</td>\n",
       "      <td>125510.82</td>\n",
       "      <td>1</td>\n",
       "      <td>1</td>\n",
       "      <td>1</td>\n",
       "      <td>79084.10</td>\n",
       "    </tr>\n",
       "  </tbody>\n",
       "</table>\n",
       "</div>"
      ],
      "text/plain": [
       "    Surname  CreditScore Geography  Gender  Age  Tenure    Balance  \\\n",
       "0  Hargrave          619    France  Female   42       2       0.00   \n",
       "1      Hill          608     Spain  Female   41       1   83807.86   \n",
       "2      Onio          502    France  Female   42       8  159660.80   \n",
       "3      Boni          699    France  Female   39       1       0.00   \n",
       "4  Mitchell          850     Spain  Female   43       2  125510.82   \n",
       "\n",
       "   NumOfProducts  HasCrCard  IsActiveMember  EstimatedSalary  \n",
       "0              1          1               1        101348.88  \n",
       "1              1          0               1        112542.58  \n",
       "2              3          1               0        113931.57  \n",
       "3              2          0               0         93826.63  \n",
       "4              1          1               1         79084.10  "
      ]
     },
     "execution_count": 12,
     "metadata": {},
     "output_type": "execute_result"
    }
   ],
   "source": [
    "X_df.head()"
   ]
  },
  {
   "cell_type": "code",
   "execution_count": 13,
   "metadata": {},
   "outputs": [
    {
     "data": {
      "text/plain": [
       "0    1\n",
       "1    0\n",
       "2    1\n",
       "3    0\n",
       "4    0\n",
       "Name: Exited, dtype: int64"
      ]
     },
     "execution_count": 13,
     "metadata": {},
     "output_type": "execute_result"
    }
   ],
   "source": [
    "y_df.head()"
   ]
  },
  {
   "cell_type": "code",
   "execution_count": 14,
   "metadata": {},
   "outputs": [
    {
     "data": {
      "text/html": [
       "<div>\n",
       "<style scoped>\n",
       "    .dataframe tbody tr th:only-of-type {\n",
       "        vertical-align: middle;\n",
       "    }\n",
       "\n",
       "    .dataframe tbody tr th {\n",
       "        vertical-align: top;\n",
       "    }\n",
       "\n",
       "    .dataframe thead th {\n",
       "        text-align: right;\n",
       "    }\n",
       "</style>\n",
       "<table border=\"1\" class=\"dataframe\">\n",
       "  <thead>\n",
       "    <tr style=\"text-align: right;\">\n",
       "      <th></th>\n",
       "      <th>Surname</th>\n",
       "      <th>CreditScore</th>\n",
       "      <th>Geography</th>\n",
       "      <th>Gender</th>\n",
       "      <th>Age</th>\n",
       "      <th>Tenure</th>\n",
       "      <th>Balance</th>\n",
       "      <th>NumOfProducts</th>\n",
       "      <th>HasCrCard</th>\n",
       "      <th>IsActiveMember</th>\n",
       "      <th>EstimatedSalary</th>\n",
       "    </tr>\n",
       "  </thead>\n",
       "  <tbody>\n",
       "    <tr>\n",
       "      <th>0</th>\n",
       "      <td>1115</td>\n",
       "      <td>228</td>\n",
       "      <td>0</td>\n",
       "      <td>0</td>\n",
       "      <td>24</td>\n",
       "      <td>2</td>\n",
       "      <td>0</td>\n",
       "      <td>0</td>\n",
       "      <td>1</td>\n",
       "      <td>1</td>\n",
       "      <td>5068</td>\n",
       "    </tr>\n",
       "    <tr>\n",
       "      <th>1</th>\n",
       "      <td>1177</td>\n",
       "      <td>217</td>\n",
       "      <td>2</td>\n",
       "      <td>0</td>\n",
       "      <td>23</td>\n",
       "      <td>1</td>\n",
       "      <td>743</td>\n",
       "      <td>0</td>\n",
       "      <td>0</td>\n",
       "      <td>1</td>\n",
       "      <td>5639</td>\n",
       "    </tr>\n",
       "    <tr>\n",
       "      <th>2</th>\n",
       "      <td>2040</td>\n",
       "      <td>111</td>\n",
       "      <td>0</td>\n",
       "      <td>0</td>\n",
       "      <td>24</td>\n",
       "      <td>8</td>\n",
       "      <td>5793</td>\n",
       "      <td>2</td>\n",
       "      <td>1</td>\n",
       "      <td>0</td>\n",
       "      <td>5707</td>\n",
       "    </tr>\n",
       "    <tr>\n",
       "      <th>3</th>\n",
       "      <td>289</td>\n",
       "      <td>308</td>\n",
       "      <td>0</td>\n",
       "      <td>0</td>\n",
       "      <td>21</td>\n",
       "      <td>1</td>\n",
       "      <td>0</td>\n",
       "      <td>1</td>\n",
       "      <td>0</td>\n",
       "      <td>0</td>\n",
       "      <td>4704</td>\n",
       "    </tr>\n",
       "    <tr>\n",
       "      <th>4</th>\n",
       "      <td>1822</td>\n",
       "      <td>459</td>\n",
       "      <td>2</td>\n",
       "      <td>0</td>\n",
       "      <td>25</td>\n",
       "      <td>2</td>\n",
       "      <td>3696</td>\n",
       "      <td>0</td>\n",
       "      <td>1</td>\n",
       "      <td>1</td>\n",
       "      <td>3925</td>\n",
       "    </tr>\n",
       "  </tbody>\n",
       "</table>\n",
       "</div>"
      ],
      "text/plain": [
       "   Surname  CreditScore  Geography  Gender  Age  Tenure  Balance  \\\n",
       "0     1115          228          0       0   24       2        0   \n",
       "1     1177          217          2       0   23       1      743   \n",
       "2     2040          111          0       0   24       8     5793   \n",
       "3      289          308          0       0   21       1        0   \n",
       "4     1822          459          2       0   25       2     3696   \n",
       "\n",
       "   NumOfProducts  HasCrCard  IsActiveMember  EstimatedSalary  \n",
       "0              0          1               1             5068  \n",
       "1              0          0               1             5639  \n",
       "2              2          1               0             5707  \n",
       "3              1          0               0             4704  \n",
       "4              0          1               1             3925  "
      ]
     },
     "execution_count": 14,
     "metadata": {},
     "output_type": "execute_result"
    }
   ],
   "source": [
    "#Encoding categorical data\n",
    "\n",
    "le = preprocessing.LabelEncoder()\n",
    "X_df = X_df.apply(le.fit_transform)\n",
    "X_df.head()"
   ]
  },
  {
   "cell_type": "code",
   "execution_count": 15,
   "metadata": {},
   "outputs": [
    {
     "data": {
      "text/plain": [
       "(10000, 11)"
      ]
     },
     "execution_count": 15,
     "metadata": {},
     "output_type": "execute_result"
    }
   ],
   "source": [
    "X_df.shape"
   ]
  },
  {
   "cell_type": "code",
   "execution_count": 16,
   "metadata": {},
   "outputs": [
    {
     "data": {
      "text/plain": [
       "(10000, 19867)"
      ]
     },
     "execution_count": 16,
     "metadata": {},
     "output_type": "execute_result"
    }
   ],
   "source": [
    "#Applying onehotencoder\n",
    "\n",
    "enc = preprocessing.OneHotEncoder()\n",
    "enc.fit(X_df)\n",
    "onehotlabels = enc.transform(X_df).toarray()\n",
    "onehotlabels.shape"
   ]
  },
  {
   "cell_type": "code",
   "execution_count": 17,
   "metadata": {},
   "outputs": [
    {
     "data": {
      "text/plain": [
       "array([[0., 0., 0., ..., 0., 0., 0.],\n",
       "       [0., 0., 0., ..., 0., 0., 0.],\n",
       "       [0., 0., 0., ..., 0., 0., 0.],\n",
       "       ...,\n",
       "       [0., 0., 0., ..., 0., 0., 0.],\n",
       "       [0., 0., 0., ..., 0., 0., 0.],\n",
       "       [0., 0., 0., ..., 0., 0., 0.]])"
      ]
     },
     "execution_count": 17,
     "metadata": {},
     "output_type": "execute_result"
    }
   ],
   "source": [
    "onehotlabels"
   ]
  },
  {
   "cell_type": "code",
   "execution_count": 18,
   "metadata": {},
   "outputs": [
    {
     "data": {
      "text/plain": [
       "numpy.ndarray"
      ]
     },
     "execution_count": 18,
     "metadata": {},
     "output_type": "execute_result"
    }
   ],
   "source": [
    "type(onehotlabels)"
   ]
  },
  {
   "cell_type": "code",
   "execution_count": 19,
   "metadata": {},
   "outputs": [],
   "source": [
    "#Splitting the data into train and test set\n",
    "\n",
    "X_train, X_test, y_train, y_test = train_test_split(X_df, y_df, test_size = 0.2, random_state = 0)"
   ]
  },
  {
   "cell_type": "code",
   "execution_count": 20,
   "metadata": {},
   "outputs": [],
   "source": [
    "#Normalizing features\n",
    "\n",
    "X_train = preprocessing.normalize(X_train)"
   ]
  },
  {
   "cell_type": "code",
   "execution_count": 21,
   "metadata": {},
   "outputs": [
    {
     "name": "stdout",
     "output_type": "stream",
     "text": [
      "(8000, 11)\n",
      "(2000, 11)\n",
      "(8000,)\n",
      "(2000,)\n"
     ]
    }
   ],
   "source": [
    "print(X_train.shape)\n",
    "print(X_test.shape)\n",
    "print(y_train.shape)\n",
    "print(y_test.shape)"
   ]
  },
  {
   "cell_type": "code",
   "execution_count": 22,
   "metadata": {},
   "outputs": [
    {
     "data": {
      "text/plain": [
       "<matplotlib.image.AxesImage at 0x277120c6c48>"
      ]
     },
     "execution_count": 22,
     "metadata": {},
     "output_type": "execute_result"
    },
    {
     "data": {
      "image/png": "[encoded data removed]",
      "text/plain": [
       "<Figure size 432x288 with 1 Axes>"
      ]
     },
     "metadata": {},
     "output_type": "display_data"
    }
   ],
   "source": [
    "plt.imshow(X_train,cmap='gray')"
   ]
  },
  {
   "cell_type": "code",
   "execution_count": 23,
   "metadata": {},
   "outputs": [
    {
     "data": {
      "text/plain": [
       "<matplotlib.image.AxesImage at 0x277121110c8>"
      ]
     },
     "execution_count": 23,
     "metadata": {},
     "output_type": "execute_result"
    },
    {
     "data": {
      "image/png": "[encoded data removed]",
      "text/plain": [
       "<Figure size 432x288 with 1 Axes>"
      ]
     },
     "metadata": {},
     "output_type": "display_data"
    }
   ],
   "source": [
    "plt.imshow(X_test,cmap='gray')"
   ]
  },
  {
   "cell_type": "markdown",
   "metadata": {},
   "source": [
    "# Building Artifical Neural Network"
   ]
  },
  {
   "cell_type": "markdown",
   "metadata": {},
   "source": [
    "# Creating the model \"Classifier1\""
   ]
  },
  {
   "cell_type": "code",
   "execution_count": 24,
   "metadata": {},
   "outputs": [],
   "source": [
    "# Initialize the constructor\n",
    "classifier1 = Sequential()"
   ]
  },
  {
   "cell_type": "code",
   "execution_count": 25,
   "metadata": {},
   "outputs": [],
   "source": [
    "# Define model architecture with layers and activation function\n",
    "\n",
    "# Adding the input layer and the first hidden layer\n",
    "classifier1.add(Dense(64, input_shape = (11,), activation = 'relu'))\n",
    "\n",
    "# Adding the second hidden layer\n",
    "classifier1.add(Dense(32, activation = 'tanh'))\n",
    "\n",
    "# Adding the output layer\n",
    "classifier1.add(Dense(1, activation = 'sigmoid'))"
   ]
  },
  {
   "cell_type": "code",
   "execution_count": 26,
   "metadata": {},
   "outputs": [],
   "source": [
    "# Compiling the model with optimizers and loss function\n",
    "\n",
    "sgd = optimizers.Adam(lr = 0.001)\n",
    "classifier1.compile(optimizer = sgd, loss = 'binary_crossentropy', metrics = ['accuracy'])"
   ]
  },
  {
   "cell_type": "markdown",
   "metadata": {},
   "source": [
    "# Model Summary: Classifier1"
   ]
  },
  {
   "cell_type": "code",
   "execution_count": 27,
   "metadata": {},
   "outputs": [
    {
     "name": "stdout",
     "output_type": "stream",
     "text": [
      "Model: \"sequential\"\n",
      "_________________________________________________________________\n",
      "Layer (type)                 Output Shape              Param #   \n",
      "=================================================================\n",
      "dense (Dense)                (None, 64)                768       \n",
      "_________________________________________________________________\n",
      "dense_1 (Dense)              (None, 32)                2080      \n",
      "_________________________________________________________________\n",
      "dense_2 (Dense)              (None, 1)                 33        \n",
      "=================================================================\n",
      "Total params: 2,881\n",
      "Trainable params: 2,881\n",
      "Non-trainable params: 0\n",
      "_________________________________________________________________\n"
     ]
    }
   ],
   "source": [
    "classifier1.summary()"
   ]
  },
  {
   "cell_type": "markdown",
   "metadata": {},
   "source": [
    "# Training the Model: Classifier1"
   ]
  },
  {
   "cell_type": "code",
   "execution_count": 28,
   "metadata": {},
   "outputs": [
    {
     "name": "stdout",
     "output_type": "stream",
     "text": [
      "Train on 8000 samples\n",
      "Epoch 1/10\n",
      "8000/8000 [==============================] - 1s 87us/sample - loss: 0.6186 - accuracy: 0.7684\n",
      "Epoch 2/10\n",
      "8000/8000 [==============================] - 0s 6us/sample - loss: 0.5380 - accuracy: 0.7960\n",
      "Epoch 3/10\n",
      "8000/8000 [==============================] - 0s 7us/sample - loss: 0.5144 - accuracy: 0.7960\n",
      "Epoch 4/10\n",
      "8000/8000 [==============================] - 0s 6us/sample - loss: 0.5094 - accuracy: 0.7960\n",
      "Epoch 5/10\n",
      "8000/8000 [==============================] - 0s 6us/sample - loss: 0.5047 - accuracy: 0.7960\n",
      "Epoch 6/10\n",
      "8000/8000 [==============================] - 0s 6us/sample - loss: 0.5026 - accuracy: 0.7960\n",
      "Epoch 7/10\n",
      "8000/8000 [==============================] - 0s 6us/sample - loss: 0.5015 - accuracy: 0.7960\n",
      "Epoch 8/10\n",
      "8000/8000 [==============================] - 0s 7us/sample - loss: 0.5007 - accuracy: 0.7960\n",
      "Epoch 9/10\n",
      "8000/8000 [==============================] - 0s 7us/sample - loss: 0.5003 - accuracy: 0.7960\n",
      "Epoch 10/10\n",
      "8000/8000 [==============================] - 0s 9us/sample - loss: 0.4999 - accuracy: 0.7960\n"
     ]
    },
    {
     "data": {
      "text/plain": [
       "<tensorflow.python.keras.callbacks.History at 0x277721120c8>"
      ]
     },
     "execution_count": 28,
     "metadata": {},
     "output_type": "execute_result"
    }
   ],
   "source": [
    "#Fitting the model (forward pass and back propagation)\n",
    "\n",
    "classifier1.fit(X_train, y_train, batch_size = 700, epochs = 10, verbose = 1)"
   ]
  },
  {
   "cell_type": "markdown",
   "metadata": {},
   "source": [
    "# Model Evaluation: Classifier1"
   ]
  },
  {
   "cell_type": "code",
   "execution_count": 29,
   "metadata": {},
   "outputs": [],
   "source": [
    "X_test = preprocessing.normalize(X_test)"
   ]
  },
  {
   "cell_type": "code",
   "execution_count": 30,
   "metadata": {},
   "outputs": [
    {
     "name": "stdout",
     "output_type": "stream",
     "text": [
      "2000/2000 [==============================] - 0s 107us/sample - loss: 0.4967 - accuracy: 0.7975\n"
     ]
    }
   ],
   "source": [
    "results = classifier1.evaluate(X_test, y_test)"
   ]
  },
  {
   "cell_type": "code",
   "execution_count": 31,
   "metadata": {},
   "outputs": [
    {
     "name": "stdout",
     "output_type": "stream",
     "text": [
      "['loss', 'accuracy']\n",
      "[0.4967025058269501, 0.7975]\n"
     ]
    }
   ],
   "source": [
    "print(classifier1.metrics_names)\n",
    "print(results)    "
   ]
  },
  {
   "cell_type": "code",
   "execution_count": 32,
   "metadata": {},
   "outputs": [
    {
     "name": "stdout",
     "output_type": "stream",
     "text": [
      "Accuracy: 0.798\n",
      "Loss: 0.497\n"
     ]
    }
   ],
   "source": [
    "#Accuracy score for Classifier1\n",
    "\n",
    "loss, acc = classifier1.evaluate(X_test, y_test, verbose=0)\n",
    "print('Accuracy: %.3f'  % acc)\n",
    "print('Loss: %.3f' % loss)"
   ]
  },
  {
   "cell_type": "markdown",
   "metadata": {},
   "source": [
    "# Confusion Matrix: Classifier1"
   ]
  },
  {
   "cell_type": "code",
   "execution_count": 65,
   "metadata": {},
   "outputs": [],
   "source": [
    "def plot_confusion_matrix(cm, classes,\n",
    "                          normalize=False,\n",
    "                          title='Confusion matrix',\n",
    "                          cmap=plt.cm.YlOrRd):\n",
    "    \"\"\"\n",
    "    This function prints and plots the confusion matrix.\n",
    "    Normalization can be applied by setting `normalize=True`.\n",
    "    Source: http://scikit-learn.org/stable/auto_examples/model_selection/plot_confusion_matrix.html\n",
    "    \"\"\"\n",
    "    if normalize:\n",
    "        cm = cm.astype('float') / cm.sum(axis=1)[:, np.newaxis]\n",
    "        print(\"Normalized confusion matrix\")\n",
    "    else:\n",
    "        print('Confusion matrix, without normalization')\n",
    "\n",
    "    print(cm)\n",
    "    plt.style.use('bmh')\n",
    "    plt.figure(figsize=(9, 9))\n",
    "    plt.imshow(cm, interpolation='nearest', cmap=cmap)\n",
    "    plt.title(title, size=22)\n",
    "    plt.colorbar()\n",
    "    tick_marks = np.arange(len(classes))\n",
    "    plt.xticks(tick_marks, classes, rotation=45, size=20)\n",
    "    plt.yticks(tick_marks, classes, size=20)\n",
    "\n",
    "    fmt = '.2f' if normalize else 'd'\n",
    "    thresh = cm.max() / 2.\n",
    "    for i, j in itertools.product(range(cm.shape[0]), range(cm.shape[1])):\n",
    "        plt.text(j, i, format(cm[i, j], fmt),\n",
    "                 horizontalalignment=\"center\",\n",
    "                 color=\"white\" if cm[i, j] > thresh else \"black\",\n",
    "                 size=20)\n",
    "    plt.grid(None)\n",
    "    plt.ylabel('True label', size=22)\n",
    "    plt.xlabel('Predicted label', size=22)\n",
    "    plt.tight_layout()"
   ]
  },
  {
   "cell_type": "code",
   "execution_count": 66,
   "metadata": {},
   "outputs": [
    {
     "data": {
      "text/plain": [
       "array([[1595,    0],\n",
       "       [ 405,    0]], dtype=int64)"
      ]
     },
     "execution_count": 66,
     "metadata": {},
     "output_type": "execute_result"
    }
   ],
   "source": [
    "Y_pred_cls = classifier1.predict_classes(X_test, batch_size=200, verbose=0)\n",
    "confusion_matrix(y_test, Y_pred_cls)"
   ]
  },
  {
   "cell_type": "code",
   "execution_count": 68,
   "metadata": {},
   "outputs": [
    {
     "name": "stdout",
     "output_type": "stream",
     "text": [
      "Confusion matrix, without normalization\n",
      "[[1595    0]\n",
      " [ 405    0]]\n"
     ]
    },
    {
     "data": {
      "image/png": "[encoded data removed]",
      "text/plain": [
       "<Figure size 648x648 with 2 Axes>"
      ]
     },
     "metadata": {},
     "output_type": "display_data"
    }
   ],
   "source": [
    "cm = confusion_matrix(y_test, Y_pred_cls)\n",
    "plot_confusion_matrix(cm, classes=['No Churn', 'Churn'],\n",
    "                      title='Churn Confusion Matrix')"
   ]
  },
  {
   "cell_type": "code",
   "execution_count": 34,
   "metadata": {},
   "outputs": [
    {
     "name": "stdout",
     "output_type": "stream",
     "text": [
      "              precision    recall  f1-score   support\n",
      "\n",
      "           0       0.80      1.00      0.89      1595\n",
      "           1       0.00      0.00      0.00       405\n",
      "\n",
      "    accuracy                           0.80      2000\n",
      "   macro avg       0.40      0.50      0.44      2000\n",
      "weighted avg       0.64      0.80      0.71      2000\n",
      "\n"
     ]
    }
   ],
   "source": [
    "#Precision, Recall & F1 Score for Classifier1\n",
    "\n",
    "print(skm.classification_report(y_test,Y_pred_cls)) "
   ]
  },
  {
   "cell_type": "markdown",
   "metadata": {},
   "source": [
    "# Prediction: Classifier1"
   ]
  },
  {
   "cell_type": "code",
   "execution_count": 35,
   "metadata": {},
   "outputs": [
    {
     "data": {
      "text/plain": [
       "array([[1595,    0],\n",
       "       [ 405,    0]], dtype=int64)"
      ]
     },
     "execution_count": 35,
     "metadata": {},
     "output_type": "execute_result"
    }
   ],
   "source": [
    "#Predicting the Test set results for \"Classifier1\"\n",
    "\n",
    "Y_pred_cls1 = classifier1.predict_classes(X_test, batch_size=200, verbose=0)\n",
    "Y_pred1 = (Y_pred_cls1 > 0.5)\n",
    "confusion_matrix(y_test, Y_pred_cls)"
   ]
  },
  {
   "cell_type": "code",
   "execution_count": 36,
   "metadata": {},
   "outputs": [
    {
     "name": "stdout",
     "output_type": "stream",
     "text": [
      "[[[   0  405]\n",
      "  [   0 1595]]\n",
      "\n",
      " [[1595    0]\n",
      "  [ 405    0]]]\n"
     ]
    }
   ],
   "source": [
    "cm = skm.multilabel_confusion_matrix(y_test, Y_pred1)\n",
    "print(cm)"
   ]
  },
  {
   "cell_type": "markdown",
   "metadata": {},
   "source": [
    "# Creating the model \"Classifier2\""
   ]
  },
  {
   "cell_type": "code",
   "execution_count": 37,
   "metadata": {},
   "outputs": [],
   "source": [
    "# Initialize the constructor\n",
    "classifier2 = Sequential()\n",
    "\n",
    "# Define model architecture with layers and activation function\n",
    "\n",
    "# Adding the input layer and the first hidden layer\n",
    "classifier2.add(Dense(300, input_shape = (11,), activation = 'softmax'))\n",
    "\n",
    "# Adding the second hidden layer\n",
    "classifier2.add(Dense(100, activation = 'selu'))\n",
    "\n",
    "# Adding the output layer\n",
    "classifier2.add(Dense(1, activation = 'sigmoid'))\n",
    "\n",
    "# Compiling the model with optimizers and loss function\n",
    "\n",
    "sgd = optimizers.Adam(lr = 0.1)\n",
    "classifier2.compile(optimizer = sgd, loss = 'binary_crossentropy', metrics = ['accuracy'])"
   ]
  },
  {
   "cell_type": "markdown",
   "metadata": {},
   "source": [
    "# Model Summary: Classifier2"
   ]
  },
  {
   "cell_type": "code",
   "execution_count": 38,
   "metadata": {},
   "outputs": [
    {
     "name": "stdout",
     "output_type": "stream",
     "text": [
      "Model: \"sequential_1\"\n",
      "_________________________________________________________________\n",
      "Layer (type)                 Output Shape              Param #   \n",
      "=================================================================\n",
      "dense_3 (Dense)              (None, 300)               3600      \n",
      "_________________________________________________________________\n",
      "dense_4 (Dense)              (None, 100)               30100     \n",
      "_________________________________________________________________\n",
      "dense_5 (Dense)              (None, 1)                 101       \n",
      "=================================================================\n",
      "Total params: 33,801\n",
      "Trainable params: 33,801\n",
      "Non-trainable params: 0\n",
      "_________________________________________________________________\n"
     ]
    }
   ],
   "source": [
    "classifier2.summary()"
   ]
  },
  {
   "cell_type": "markdown",
   "metadata": {},
   "source": [
    "# Training the Model: Classifier2"
   ]
  },
  {
   "cell_type": "code",
   "execution_count": 39,
   "metadata": {},
   "outputs": [
    {
     "name": "stdout",
     "output_type": "stream",
     "text": [
      "Train on 8000 samples\n",
      "Epoch 1/90\n",
      "8000/8000 [==============================] - 1s 95us/sample - loss: 0.6478 - accuracy: 0.7732\n",
      "Epoch 2/90\n",
      "8000/8000 [==============================] - 0s 23us/sample - loss: 0.5109 - accuracy: 0.7960\n",
      "Epoch 3/90\n",
      "8000/8000 [==============================] - 0s 20us/sample - loss: 0.5025 - accuracy: 0.7960\n",
      "Epoch 4/90\n",
      "8000/8000 [==============================] - 0s 22us/sample - loss: 0.5020 - accuracy: 0.7960\n",
      "Epoch 5/90\n",
      "8000/8000 [==============================] - 0s 20us/sample - loss: 0.5012 - accuracy: 0.7960\n",
      "Epoch 6/90\n",
      "8000/8000 [==============================] - 0s 21us/sample - loss: 0.4992 - accuracy: 0.7960\n",
      "Epoch 7/90\n",
      "8000/8000 [==============================] - 0s 20us/sample - loss: 0.5000 - accuracy: 0.7960\n",
      "Epoch 8/90\n",
      "8000/8000 [==============================] - 0s 21us/sample - loss: 0.4983 - accuracy: 0.7960\n",
      "Epoch 9/90\n",
      "8000/8000 [==============================] - 0s 20us/sample - loss: 0.5006 - accuracy: 0.7960\n",
      "Epoch 10/90\n",
      "8000/8000 [==============================] - 0s 23us/sample - loss: 0.4983 - accuracy: 0.7960\n",
      "Epoch 11/90\n",
      "8000/8000 [==============================] - 0s 26us/sample - loss: 0.5006 - accuracy: 0.7960\n",
      "Epoch 12/90\n",
      "8000/8000 [==============================] - 0s 23us/sample - loss: 0.4983 - accuracy: 0.7960\n",
      "Epoch 13/90\n",
      "8000/8000 [==============================] - 0s 26us/sample - loss: 0.4975 - accuracy: 0.7960\n",
      "Epoch 14/90\n",
      "8000/8000 [==============================] - 0s 22us/sample - loss: 0.4992 - accuracy: 0.7960\n",
      "Epoch 15/90\n",
      "8000/8000 [==============================] - 0s 25us/sample - loss: 0.4962 - accuracy: 0.7959\n",
      "Epoch 16/90\n",
      "8000/8000 [==============================] - 0s 24us/sample - loss: 0.4953 - accuracy: 0.7958\n",
      "Epoch 17/90\n",
      "8000/8000 [==============================] - 0s 24us/sample - loss: 0.4937 - accuracy: 0.7949\n",
      "Epoch 18/90\n",
      "8000/8000 [==============================] - 0s 23us/sample - loss: 0.4985 - accuracy: 0.7952\n",
      "Epoch 19/90\n",
      "8000/8000 [==============================] - 0s 20us/sample - loss: 0.4951 - accuracy: 0.7958\n",
      "Epoch 20/90\n",
      "8000/8000 [==============================] - 0s 20us/sample - loss: 0.4947 - accuracy: 0.7946\n",
      "Epoch 21/90\n",
      "8000/8000 [==============================] - 0s 21us/sample - loss: 0.4893 - accuracy: 0.7951\n",
      "Epoch 22/90\n",
      "8000/8000 [==============================] - 0s 22us/sample - loss: 0.4921 - accuracy: 0.7944\n",
      "Epoch 23/90\n",
      "8000/8000 [==============================] - 0s 19us/sample - loss: 0.4921 - accuracy: 0.7930\n",
      "Epoch 24/90\n",
      "8000/8000 [==============================] - 0s 23us/sample - loss: 0.4950 - accuracy: 0.7931\n",
      "Epoch 25/90\n",
      "8000/8000 [==============================] - 0s 21us/sample - loss: 0.4852 - accuracy: 0.7949\n",
      "Epoch 26/90\n",
      "8000/8000 [==============================] - 0s 21us/sample - loss: 0.4837 - accuracy: 0.7949\n",
      "Epoch 27/90\n",
      "8000/8000 [==============================] - 0s 22us/sample - loss: 0.4771 - accuracy: 0.7947\n",
      "Epoch 28/90\n",
      "8000/8000 [==============================] - 0s 21us/sample - loss: 0.4764 - accuracy: 0.7919\n",
      "Epoch 29/90\n",
      "8000/8000 [==============================] - 0s 20us/sample - loss: 0.4738 - accuracy: 0.7952\n",
      "Epoch 30/90\n",
      "8000/8000 [==============================] - 0s 22us/sample - loss: 0.4645 - accuracy: 0.7921\n",
      "Epoch 31/90\n",
      "8000/8000 [==============================] - 0s 20us/sample - loss: 0.4818 - accuracy: 0.7930\n",
      "Epoch 32/90\n",
      "8000/8000 [==============================] - 0s 20us/sample - loss: 0.4728 - accuracy: 0.7914\n",
      "Epoch 33/90\n",
      "8000/8000 [==============================] - 0s 20us/sample - loss: 0.4750 - accuracy: 0.7920\n",
      "Epoch 34/90\n",
      "8000/8000 [==============================] - 0s 21us/sample - loss: 0.4820 - accuracy: 0.7929\n",
      "Epoch 35/90\n",
      "8000/8000 [==============================] - 0s 20us/sample - loss: 0.4706 - accuracy: 0.7912\n",
      "Epoch 36/90\n",
      "8000/8000 [==============================] - 0s 20us/sample - loss: 0.4711 - accuracy: 0.7934\n",
      "Epoch 37/90\n",
      "8000/8000 [==============================] - 0s 23us/sample - loss: 0.4661 - accuracy: 0.7910\n",
      "Epoch 38/90\n",
      "8000/8000 [==============================] - 0s 22us/sample - loss: 0.4650 - accuracy: 0.7919\n",
      "Epoch 39/90\n",
      "8000/8000 [==============================] - 0s 22us/sample - loss: 0.4688 - accuracy: 0.7931\n",
      "Epoch 40/90\n",
      "8000/8000 [==============================] - 0s 22us/sample - loss: 0.4678 - accuracy: 0.7901\n",
      "Epoch 41/90\n",
      "8000/8000 [==============================] - 0s 25us/sample - loss: 0.4650 - accuracy: 0.7904\n",
      "Epoch 42/90\n",
      "8000/8000 [==============================] - 0s 23us/sample - loss: 0.4619 - accuracy: 0.7915\n",
      "Epoch 43/90\n",
      "8000/8000 [==============================] - 0s 22us/sample - loss: 0.4643 - accuracy: 0.7922\n",
      "Epoch 44/90\n",
      "8000/8000 [==============================] - 0s 30us/sample - loss: 0.4606 - accuracy: 0.7921s - loss: 0.4605 - accuracy: 0.\n",
      "Epoch 45/90\n",
      "8000/8000 [==============================] - 0s 33us/sample - loss: 0.4779 - accuracy: 0.7921\n",
      "Epoch 46/90\n",
      "8000/8000 [==============================] - 0s 31us/sample - loss: 0.4646 - accuracy: 0.7919\n",
      "Epoch 47/90\n",
      "8000/8000 [==============================] - 0s 30us/sample - loss: 0.4644 - accuracy: 0.7912\n",
      "Epoch 48/90\n",
      "8000/8000 [==============================] - 0s 36us/sample - loss: 0.4688 - accuracy: 0.7928\n",
      "Epoch 49/90\n",
      "8000/8000 [==============================] - 0s 28us/sample - loss: 0.4570 - accuracy: 0.7933\n",
      "Epoch 50/90\n",
      "8000/8000 [==============================] - 0s 30us/sample - loss: 0.4601 - accuracy: 0.7920\n",
      "Epoch 51/90\n",
      "8000/8000 [==============================] - 0s 23us/sample - loss: 0.4554 - accuracy: 0.7912\n",
      "Epoch 52/90\n",
      "8000/8000 [==============================] - 0s 24us/sample - loss: 0.4573 - accuracy: 0.7926\n",
      "Epoch 53/90\n",
      "8000/8000 [==============================] - 0s 26us/sample - loss: 0.4704 - accuracy: 0.7926\n",
      "Epoch 54/90\n",
      "8000/8000 [==============================] - 0s 24us/sample - loss: 0.4634 - accuracy: 0.7901\n",
      "Epoch 55/90\n",
      "8000/8000 [==============================] - 0s 23us/sample - loss: 0.4663 - accuracy: 0.7899\n",
      "Epoch 56/90\n",
      "8000/8000 [==============================] - 0s 26us/sample - loss: 0.4608 - accuracy: 0.7956\n",
      "Epoch 57/90\n",
      "8000/8000 [==============================] - 0s 22us/sample - loss: 0.4604 - accuracy: 0.7919\n",
      "Epoch 58/90\n",
      "8000/8000 [==============================] - 0s 22us/sample - loss: 0.4629 - accuracy: 0.7951\n",
      "Epoch 59/90\n",
      "8000/8000 [==============================] - 0s 23us/sample - loss: 0.4586 - accuracy: 0.7945\n",
      "Epoch 60/90\n",
      "8000/8000 [==============================] - 0s 23us/sample - loss: 0.4550 - accuracy: 0.7935\n",
      "Epoch 61/90\n",
      "8000/8000 [==============================] - 0s 25us/sample - loss: 0.4560 - accuracy: 0.7934\n",
      "Epoch 62/90\n",
      "8000/8000 [==============================] - 0s 25us/sample - loss: 0.4667 - accuracy: 0.7952\n",
      "Epoch 63/90\n",
      "8000/8000 [==============================] - 0s 21us/sample - loss: 0.4561 - accuracy: 0.7909\n",
      "Epoch 64/90\n",
      "8000/8000 [==============================] - 0s 22us/sample - loss: 0.4642 - accuracy: 0.7961\n",
      "Epoch 65/90\n",
      "8000/8000 [==============================] - 0s 19us/sample - loss: 0.4593 - accuracy: 0.7914\n",
      "Epoch 66/90\n",
      "8000/8000 [==============================] - 0s 22us/sample - loss: 0.4542 - accuracy: 0.7943\n",
      "Epoch 67/90\n",
      "8000/8000 [==============================] - 0s 21us/sample - loss: 0.4558 - accuracy: 0.7945\n",
      "Epoch 68/90\n",
      "8000/8000 [==============================] - 0s 23us/sample - loss: 0.4563 - accuracy: 0.7952\n",
      "Epoch 69/90\n",
      "8000/8000 [==============================] - 0s 21us/sample - loss: 0.4691 - accuracy: 0.7915\n",
      "Epoch 70/90\n",
      "8000/8000 [==============================] - 0s 24us/sample - loss: 0.4615 - accuracy: 0.7934\n",
      "Epoch 71/90\n",
      "8000/8000 [==============================] - 0s 25us/sample - loss: 0.4713 - accuracy: 0.7933\n",
      "Epoch 72/90\n",
      "8000/8000 [==============================] - 0s 23us/sample - loss: 0.4580 - accuracy: 0.7928\n",
      "Epoch 73/90\n",
      "8000/8000 [==============================] - 0s 21us/sample - loss: 0.4573 - accuracy: 0.7936s - loss: 0.4582 - accuracy: 0.79\n",
      "Epoch 74/90\n",
      "8000/8000 [==============================] - 0s 20us/sample - loss: 0.4504 - accuracy: 0.7951\n",
      "Epoch 75/90\n",
      "8000/8000 [==============================] - 0s 21us/sample - loss: 0.4522 - accuracy: 0.7941\n",
      "Epoch 76/90\n",
      "8000/8000 [==============================] - 0s 26us/sample - loss: 0.4504 - accuracy: 0.7908\n",
      "Epoch 77/90\n"
     ]
    },
    {
     "name": "stdout",
     "output_type": "stream",
     "text": [
      "8000/8000 [==============================] - 0s 23us/sample - loss: 0.4524 - accuracy: 0.7946\n",
      "Epoch 78/90\n",
      "8000/8000 [==============================] - 0s 24us/sample - loss: 0.4506 - accuracy: 0.7936\n",
      "Epoch 79/90\n",
      "8000/8000 [==============================] - 0s 21us/sample - loss: 0.4518 - accuracy: 0.7946\n",
      "Epoch 80/90\n",
      "8000/8000 [==============================] - 0s 20us/sample - loss: 0.4532 - accuracy: 0.7936\n",
      "Epoch 81/90\n",
      "8000/8000 [==============================] - 0s 21us/sample - loss: 0.4527 - accuracy: 0.7949\n",
      "Epoch 82/90\n",
      "8000/8000 [==============================] - 0s 21us/sample - loss: 0.4565 - accuracy: 0.7939\n",
      "Epoch 83/90\n",
      "8000/8000 [==============================] - 0s 23us/sample - loss: 0.4560 - accuracy: 0.7910\n",
      "Epoch 84/90\n",
      "8000/8000 [==============================] - 0s 23us/sample - loss: 0.4546 - accuracy: 0.7951\n",
      "Epoch 85/90\n",
      "8000/8000 [==============================] - 0s 20us/sample - loss: 0.4569 - accuracy: 0.7954\n",
      "Epoch 86/90\n",
      "8000/8000 [==============================] - 0s 19us/sample - loss: 0.4550 - accuracy: 0.7943\n",
      "Epoch 87/90\n",
      "8000/8000 [==============================] - 0s 20us/sample - loss: 0.4530 - accuracy: 0.7954\n",
      "Epoch 88/90\n",
      "8000/8000 [==============================] - 0s 19us/sample - loss: 0.4554 - accuracy: 0.7934\n",
      "Epoch 89/90\n",
      "8000/8000 [==============================] - 0s 20us/sample - loss: 0.4542 - accuracy: 0.7949\n",
      "Epoch 90/90\n",
      "8000/8000 [==============================] - 0s 18us/sample - loss: 0.4492 - accuracy: 0.7968\n"
     ]
    },
    {
     "data": {
      "text/plain": [
       "<tensorflow.python.keras.callbacks.History at 0x277737b3388>"
      ]
     },
     "execution_count": 39,
     "metadata": {},
     "output_type": "execute_result"
    }
   ],
   "source": [
    "#Fitting the model (forward pass and back propagation)\n",
    "\n",
    "classifier2.fit(X_train, y_train, batch_size = 300, epochs = 90, verbose = 1)"
   ]
  },
  {
   "cell_type": "markdown",
   "metadata": {},
   "source": [
    "# Model Evaluation: Classifier2"
   ]
  },
  {
   "cell_type": "code",
   "execution_count": 40,
   "metadata": {},
   "outputs": [
    {
     "name": "stdout",
     "output_type": "stream",
     "text": [
      "2000/2000 [==============================] - 0s 101us/sample - loss: 0.5124 - accuracy: 0.7640\n"
     ]
    }
   ],
   "source": [
    "X_test = preprocessing.normalize(X_test)\n",
    "\n",
    "results = classifier2.evaluate(X_test, y_test)"
   ]
  },
  {
   "cell_type": "code",
   "execution_count": 41,
   "metadata": {},
   "outputs": [
    {
     "name": "stdout",
     "output_type": "stream",
     "text": [
      "['loss', 'accuracy']\n",
      "[0.5124180073738098, 0.764]\n"
     ]
    }
   ],
   "source": [
    "print(classifier1.metrics_names)\n",
    "print(results)    "
   ]
  },
  {
   "cell_type": "code",
   "execution_count": 42,
   "metadata": {},
   "outputs": [
    {
     "name": "stdout",
     "output_type": "stream",
     "text": [
      "Accuracy: 0.764\n",
      "Loss: 0.512\n"
     ]
    }
   ],
   "source": [
    "#Accuracy score for Classifier2\n",
    "\n",
    "loss, acc = classifier2.evaluate(X_test, y_test, verbose=0)\n",
    "print('Accuracy: %.3f'  % acc)\n",
    "print('Loss: %.3f' % loss)"
   ]
  },
  {
   "cell_type": "markdown",
   "metadata": {},
   "source": [
    "# Confusion Matrix: Classifier2"
   ]
  },
  {
   "cell_type": "code",
   "execution_count": 43,
   "metadata": {},
   "outputs": [
    {
     "data": {
      "text/plain": [
       "array([[1316,  279],\n",
       "       [ 193,  212]], dtype=int64)"
      ]
     },
     "execution_count": 43,
     "metadata": {},
     "output_type": "execute_result"
    }
   ],
   "source": [
    "Y_pred_cls2 = classifier2.predict_classes(X_test, batch_size=200, verbose=0)\n",
    "confusion_matrix(y_test, Y_pred_cls2)"
   ]
  },
  {
   "cell_type": "code",
   "execution_count": 67,
   "metadata": {},
   "outputs": [
    {
     "name": "stdout",
     "output_type": "stream",
     "text": [
      "Confusion matrix, without normalization\n",
      "[[1316  279]\n",
      " [ 193  212]]\n"
     ]
    },
    {
     "data": {
      "image/png": "[encoded data removed]",
      "text/plain": [
       "<Figure size 648x648 with 2 Axes>"
      ]
     },
     "metadata": {},
     "output_type": "display_data"
    }
   ],
   "source": [
    "cm = confusion_matrix(y_test, Y_pred_cls2)\n",
    "plot_confusion_matrix(cm, classes=['No Churn', 'Churn'],\n",
    "                      title='Churn Confusion Matrix')"
   ]
  },
  {
   "cell_type": "code",
   "execution_count": 44,
   "metadata": {},
   "outputs": [
    {
     "name": "stdout",
     "output_type": "stream",
     "text": [
      "              precision    recall  f1-score   support\n",
      "\n",
      "           0       0.87      0.83      0.85      1595\n",
      "           1       0.43      0.52      0.47       405\n",
      "\n",
      "    accuracy                           0.76      2000\n",
      "   macro avg       0.65      0.67      0.66      2000\n",
      "weighted avg       0.78      0.76      0.77      2000\n",
      "\n"
     ]
    }
   ],
   "source": [
    "#Precision, Recall & F1 Score for Classifier2\n",
    "\n",
    "print(skm.classification_report(y_test,Y_pred_cls2)) "
   ]
  },
  {
   "cell_type": "markdown",
   "metadata": {},
   "source": [
    "# Prediction: Classifier2"
   ]
  },
  {
   "cell_type": "code",
   "execution_count": 45,
   "metadata": {},
   "outputs": [
    {
     "data": {
      "text/plain": [
       "array([[1316,  279],\n",
       "       [ 193,  212]], dtype=int64)"
      ]
     },
     "execution_count": 45,
     "metadata": {},
     "output_type": "execute_result"
    }
   ],
   "source": [
    "#Predicting the Test set results for \"Classifier2\"\n",
    "\n",
    "Y_pred_cls3 = classifier2.predict_classes(X_test, batch_size=200, verbose=0)\n",
    "Y_pred2 = (Y_pred_cls3 > 0.5)\n",
    "confusion_matrix(y_test, Y_pred_cls3)"
   ]
  },
  {
   "cell_type": "code",
   "execution_count": 46,
   "metadata": {},
   "outputs": [
    {
     "name": "stdout",
     "output_type": "stream",
     "text": [
      "[[[ 212  193]\n",
      "  [ 279 1316]]\n",
      "\n",
      " [[1316  279]\n",
      "  [ 193  212]]]\n"
     ]
    }
   ],
   "source": [
    "cm = skm.multilabel_confusion_matrix(y_test, Y_pred2)\n",
    "print(cm)"
   ]
  },
  {
   "cell_type": "markdown",
   "metadata": {},
   "source": [
    "# Creating the model \"Classifier3\""
   ]
  },
  {
   "cell_type": "code",
   "execution_count": 51,
   "metadata": {},
   "outputs": [],
   "source": [
    "# Initialize the constructor\n",
    "classifier3 = Sequential()\n",
    "\n",
    "# Define model architecture with layers and activation function\n",
    "\n",
    "# Adding the input layer and the first hidden layer\n",
    "classifier3.add(Dense(10000, input_shape = (11,), activation = 'softmax'))\n",
    "\n",
    "# Adding the second hidden layer\n",
    "classifier3.add(Dense(1000, activation = 'elu'))\n",
    "\n",
    "# Adding the output layer\n",
    "classifier3.add(Dense(1, activation = 'sigmoid'))\n",
    "\n",
    "# Compiling the model with optimizers and loss function\n",
    "\n",
    "sgd = optimizers.Nadam(lr = 0.0001)\n",
    "classifier3.compile(optimizer = sgd, loss = 'binary_crossentropy', metrics = ['accuracy'])"
   ]
  },
  {
   "cell_type": "markdown",
   "metadata": {},
   "source": [
    "# Model Summary: Classifier3"
   ]
  },
  {
   "cell_type": "code",
   "execution_count": 52,
   "metadata": {},
   "outputs": [
    {
     "name": "stdout",
     "output_type": "stream",
     "text": [
      "Model: \"sequential_6\"\n",
      "_________________________________________________________________\n",
      "Layer (type)                 Output Shape              Param #   \n",
      "=================================================================\n",
      "dense_15 (Dense)             (None, 10000)             120000    \n",
      "_________________________________________________________________\n",
      "dense_16 (Dense)             (None, 1000)              10001000  \n",
      "_________________________________________________________________\n",
      "dense_17 (Dense)             (None, 1)                 1001      \n",
      "=================================================================\n",
      "Total params: 10,122,001\n",
      "Trainable params: 10,122,001\n",
      "Non-trainable params: 0\n",
      "_________________________________________________________________\n"
     ]
    }
   ],
   "source": [
    "classifier3.summary()"
   ]
  },
  {
   "cell_type": "markdown",
   "metadata": {},
   "source": [
    "# Training the Model: Classifier3"
   ]
  },
  {
   "cell_type": "code",
   "execution_count": 53,
   "metadata": {},
   "outputs": [
    {
     "name": "stdout",
     "output_type": "stream",
     "text": [
      "Train on 8000 samples\n",
      "Epoch 1/33\n",
      "8000/8000 [==============================] - 15s 2ms/sample - loss: 0.6833 - accuracy: 0.7480\n",
      "Epoch 2/33\n",
      "8000/8000 [==============================] - 15s 2ms/sample - loss: 0.6583 - accuracy: 0.7960\n",
      "Epoch 3/33\n",
      "8000/8000 [==============================] - 14s 2ms/sample - loss: 0.6312 - accuracy: 0.7960\n",
      "Epoch 4/33\n",
      "8000/8000 [==============================] - 15s 2ms/sample - loss: 0.6066 - accuracy: 0.7960\n",
      "Epoch 5/33\n",
      "8000/8000 [==============================] - 16s 2ms/sample - loss: 0.5858 - accuracy: 0.7960\n",
      "Epoch 6/33\n",
      "8000/8000 [==============================] - 16s 2ms/sample - loss: 0.5689 - accuracy: 0.7960\n",
      "Epoch 7/33\n",
      "8000/8000 [==============================] - 15s 2ms/sample - loss: 0.5527 - accuracy: 0.7960\n",
      "Epoch 8/33\n",
      "8000/8000 [==============================] - 16s 2ms/sample - loss: 0.5387 - accuracy: 0.7960\n",
      "Epoch 9/33\n",
      "8000/8000 [==============================] - 18s 2ms/sample - loss: 0.5296 - accuracy: 0.7960\n",
      "Epoch 10/33\n",
      "8000/8000 [==============================] - 17s 2ms/sample - loss: 0.5220 - accuracy: 0.7960\n",
      "Epoch 11/33\n",
      "8000/8000 [==============================] - 17s 2ms/sample - loss: 0.5169 - accuracy: 0.7960\n",
      "Epoch 12/33\n",
      "8000/8000 [==============================] - 16s 2ms/sample - loss: 0.5131 - accuracy: 0.7960\n",
      "Epoch 13/33\n",
      "8000/8000 [==============================] - 16s 2ms/sample - loss: 0.5111 - accuracy: 0.7960\n",
      "Epoch 14/33\n",
      "8000/8000 [==============================] - 16s 2ms/sample - loss: 0.5090 - accuracy: 0.7960\n",
      "Epoch 15/33\n",
      "8000/8000 [==============================] - 17s 2ms/sample - loss: 0.5073 - accuracy: 0.7960\n",
      "Epoch 16/33\n",
      "8000/8000 [==============================] - 16s 2ms/sample - loss: 0.5068 - accuracy: 0.7960\n",
      "Epoch 17/33\n",
      "8000/8000 [==============================] - 18s 2ms/sample - loss: 0.5063 - accuracy: 0.7960\n",
      "Epoch 18/33\n",
      "8000/8000 [==============================] - 18s 2ms/sample - loss: 0.5062 - accuracy: 0.7960\n",
      "Epoch 19/33\n",
      "8000/8000 [==============================] - 17s 2ms/sample - loss: 0.5061 - accuracy: 0.7960\n",
      "Epoch 20/33\n",
      "8000/8000 [==============================] - 18s 2ms/sample - loss: 0.5059 - accuracy: 0.7960\n",
      "Epoch 21/33\n",
      "8000/8000 [==============================] - 21s 3ms/sample - loss: 0.5059 - accuracy: 0.7960\n",
      "Epoch 22/33\n",
      "8000/8000 [==============================] - 18s 2ms/sample - loss: 0.5059 - accuracy: 0.7960\n",
      "Epoch 23/33\n",
      "8000/8000 [==============================] - 17s 2ms/sample - loss: 0.5060 - accuracy: 0.7960\n",
      "Epoch 24/33\n",
      "8000/8000 [==============================] - 17s 2ms/sample - loss: 0.5061 - accuracy: 0.7960\n",
      "Epoch 25/33\n",
      "8000/8000 [==============================] - 17s 2ms/sample - loss: 0.5061 - accuracy: 0.7960\n",
      "Epoch 26/33\n",
      "8000/8000 [==============================] - 17s 2ms/sample - loss: 0.5059 - accuracy: 0.7960\n",
      "Epoch 27/33\n",
      "8000/8000 [==============================] - 17s 2ms/sample - loss: 0.5059 - accuracy: 0.7960\n",
      "Epoch 28/33\n",
      "8000/8000 [==============================] - 18s 2ms/sample - loss: 0.5060 - accuracy: 0.7960\n",
      "Epoch 29/33\n",
      "8000/8000 [==============================] - 21s 3ms/sample - loss: 0.5061 - accuracy: 0.7960\n",
      "Epoch 30/33\n",
      "8000/8000 [==============================] - 18s 2ms/sample - loss: 0.5062 - accuracy: 0.7960\n",
      "Epoch 31/33\n",
      "8000/8000 [==============================] - 17s 2ms/sample - loss: 0.5060 - accuracy: 0.7960\n",
      "Epoch 32/33\n",
      "8000/8000 [==============================] - 17s 2ms/sample - loss: 0.5059 - accuracy: 0.7960\n",
      "Epoch 33/33\n",
      "8000/8000 [==============================] - 18s 2ms/sample - loss: 0.5059 - accuracy: 0.7960\n"
     ]
    },
    {
     "data": {
      "text/plain": [
       "<tensorflow.python.keras.callbacks.History at 0x277740463c8>"
      ]
     },
     "execution_count": 53,
     "metadata": {},
     "output_type": "execute_result"
    }
   ],
   "source": [
    "#Fitting the model (forward pass and back propagation)\n",
    "\n",
    "classifier3.fit(X_train, y_train, batch_size = 666, epochs = 33, verbose = 1)"
   ]
  },
  {
   "cell_type": "markdown",
   "metadata": {},
   "source": [
    "# Model Evaluation: Classifier3"
   ]
  },
  {
   "cell_type": "code",
   "execution_count": 54,
   "metadata": {},
   "outputs": [
    {
     "name": "stdout",
     "output_type": "stream",
     "text": [
      "2000/2000 [==============================] - 2s 1ms/sample - loss: 0.5039 - accuracy: 0.7975\n"
     ]
    }
   ],
   "source": [
    "X_test = preprocessing.normalize(X_test)\n",
    "\n",
    "results = classifier3.evaluate(X_test, y_test)"
   ]
  },
  {
   "cell_type": "code",
   "execution_count": 55,
   "metadata": {},
   "outputs": [
    {
     "name": "stdout",
     "output_type": "stream",
     "text": [
      "['loss', 'accuracy']\n",
      "[0.5038664524555206, 0.7975]\n"
     ]
    }
   ],
   "source": [
    "print(classifier3.metrics_names)\n",
    "print(results)    "
   ]
  },
  {
   "cell_type": "code",
   "execution_count": 56,
   "metadata": {},
   "outputs": [
    {
     "name": "stdout",
     "output_type": "stream",
     "text": [
      "Accuracy: 0.798\n",
      "Loss: 0.504\n"
     ]
    }
   ],
   "source": [
    "#Accuracy score for Classifier3\n",
    "\n",
    "loss, acc = classifier3.evaluate(X_test, y_test, verbose=0)\n",
    "print('Accuracy: %.3f'  % acc)\n",
    "print('Loss: %.3f' % loss)"
   ]
  },
  {
   "cell_type": "markdown",
   "metadata": {},
   "source": [
    "# Confusion Matrix: Classifier3"
   ]
  },
  {
   "cell_type": "code",
   "execution_count": 57,
   "metadata": {},
   "outputs": [
    {
     "data": {
      "text/plain": [
       "array([[1595,    0],\n",
       "       [ 405,    0]], dtype=int64)"
      ]
     },
     "execution_count": 57,
     "metadata": {},
     "output_type": "execute_result"
    }
   ],
   "source": [
    "Y_pred_cls4 = classifier3.predict_classes(X_test, batch_size=200, verbose=0)\n",
    "confusion_matrix(y_test, Y_pred_cls4)"
   ]
  },
  {
   "cell_type": "code",
   "execution_count": 63,
   "metadata": {},
   "outputs": [
    {
     "name": "stdout",
     "output_type": "stream",
     "text": [
      "Confusion matrix, without normalization\n",
      "[[1595    0]\n",
      " [ 405    0]]\n"
     ]
    },
    {
     "data": {
      "image/png": "[encoded data removed]",
      "text/plain": [
       "<Figure size 648x648 with 2 Axes>"
      ]
     },
     "metadata": {},
     "output_type": "display_data"
    }
   ],
   "source": [
    "cm = confusion_matrix(y_test, Y_pred_cls4)\n",
    "plot_confusion_matrix(cm, classes=['No Churn', 'Churn'],\n",
    "                      title='Churn Confusion Matrix')"
   ]
  },
  {
   "cell_type": "code",
   "execution_count": 58,
   "metadata": {},
   "outputs": [
    {
     "name": "stdout",
     "output_type": "stream",
     "text": [
      "              precision    recall  f1-score   support\n",
      "\n",
      "           0       0.80      1.00      0.89      1595\n",
      "           1       0.00      0.00      0.00       405\n",
      "\n",
      "    accuracy                           0.80      2000\n",
      "   macro avg       0.40      0.50      0.44      2000\n",
      "weighted avg       0.64      0.80      0.71      2000\n",
      "\n"
     ]
    }
   ],
   "source": [
    "#Precision, Recall & F1 Score for Classifier3\n",
    "\n",
    "print(skm.classification_report(y_test,Y_pred_cls4)) "
   ]
  },
  {
   "cell_type": "markdown",
   "metadata": {},
   "source": [
    "# Prediction: Classifier3"
   ]
  },
  {
   "cell_type": "code",
   "execution_count": 59,
   "metadata": {},
   "outputs": [
    {
     "data": {
      "text/plain": [
       "array([[1595,    0],\n",
       "       [ 405,    0]], dtype=int64)"
      ]
     },
     "execution_count": 59,
     "metadata": {},
     "output_type": "execute_result"
    }
   ],
   "source": [
    "#Predicting the Test set results for \"Classifier3\"\n",
    "\n",
    "Y_pred_cls5 = classifier3.predict_classes(X_test, batch_size=200, verbose=0)\n",
    "Y_pred3 = (Y_pred_cls5 > 0.5)\n",
    "confusion_matrix(y_test, Y_pred_cls5)"
   ]
  },
  {
   "cell_type": "code",
   "execution_count": 60,
   "metadata": {},
   "outputs": [
    {
     "name": "stdout",
     "output_type": "stream",
     "text": [
      "[[[   0  405]\n",
      "  [   0 1595]]\n",
      "\n",
      " [[1595    0]\n",
      "  [ 405    0]]]\n"
     ]
    }
   ],
   "source": [
    "cm = skm.multilabel_confusion_matrix(y_test, Y_pred3)\n",
    "print(cm)"
   ]
  },
  {
   "cell_type": "markdown",
   "metadata": {},
   "source": [
    "# Conclusion"
   ]
  },
  {
   "cell_type": "markdown",
   "metadata": {},
   "source": [
    "#1) Classifier1 model is performing better with an accuracy of 0.798 and loss of 0.497!\n",
    "#2) Classifier2 model provides an accurate performance since both Classifier1 & Classifier3 fail to predict the negatives!"
   ]
  },
  {
   "cell_type": "markdown",
   "metadata": {},
   "source": [
    "#A comparision table is provided below for reference:\n",
    "\n",
    "Model\t    |Accuracy\t|Loss\t|Precision\t|Recall\t  |F1 Score\n",
    "\n",
    "Classifier1\t |0.798\t    |0.497\t|0.64\t    |0.8\t  |0.71\n",
    "\n",
    "Classifier2\t |0.764\t    |0.512\t|0.78\t    |0.76\t  |0.77\n",
    "\n",
    "Classifier3\t |0.798\t    |0.504\t|0.64\t    |0.8\t  |0.71\n"
   ]
  },
  {
   "cell_type": "code",
   "execution_count": null,
   "metadata": {},
   "outputs": [],
   "source": []
  }
 ],
 "metadata": {
  "kernelspec": {
   "display_name": "Python 3",
   "language": "python",
   "name": "python3"
  },
  "language_info": {
   "codemirror_mode": {
    "name": "ipython",
    "version": 3
   },
   "file_extension": ".py",
   "mimetype": "text/x-python",
   "name": "python",
   "nbconvert_exporter": "python",
   "pygments_lexer": "ipython3",
   "version": "3.7.6"
  }
 },
 "nbformat": 4,
 "nbformat_minor": 4
}
