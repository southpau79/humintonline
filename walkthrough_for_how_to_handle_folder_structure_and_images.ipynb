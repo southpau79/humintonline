{
 "cells": [
  {
   "cell_type": "markdown",
   "metadata": {
    "colab_type": "text",
    "id": "WCxSmokWEKUJ"
   },
   "source": [
    "# Project: Plant Seedlings Classicication.\n",
    "\n",
    "### Data Description:\n",
    "\n",
    "- You are provided with a training set and a test set of images of plant seedlings at various stages of grown. \n",
    "- Each image has a filename that is its unique id. \n",
    "- The dataset comprises 12 plant species.\n",
    "- The goal of the competition is to create a classifier capable of determining a plant's species from a photo.\n",
    "\n",
    "### Dataset:\n",
    "- The project is from a dataset from Kaggle.\n",
    "- Link to the Kaggle project site:https://www.kaggle.com/c/plant-seedlings-classification/data\n",
    "- The dataset has to be downloaded from the above Kagglewebsite.\n",
    "\n",
    "### Context:\n",
    "\n",
    "- Can you differentiate a weed from a crop seedling?\n",
    "- The ability to do so effectively can mean better crop yields and better stewardship of the environment.\n",
    "- The Aarhus University Signal Processing group, in collaboration with University of Southern Denmark, has recently released a dataset containing images of unique plants belonging to 12 species at several growth stages.\n",
    "\n",
    "### Objective:\n",
    "- To implement the techniques learnt as a part of the course.\n",
    "\n",
    "### Learning Outcomes:\n",
    "- Pre-processing of image data.\n",
    "- Visualization of images.\n",
    "- Building CNN.\n",
    "- Evaluate the Model."
   ]
  },
  {
   "cell_type": "code",
   "execution_count": 2,
   "metadata": {
    "colab": {
     "base_uri": "https://localhost:8080/",
     "height": 34
    },
    "colab_type": "code",
    "id": "lw8IuZwV-PAL",
    "outputId": "0366a02f-8d72-4497-8184-188dd83d83ff"
   },
   "outputs": [
    {
     "name": "stderr",
     "output_type": "stream",
     "text": [
      "Using TensorFlow backend.\n"
     ]
    }
   ],
   "source": [
    "# Import necessary libraries.\n",
    "import cv2\n",
    "import math\n",
    "import numpy as np\n",
    "import pandas as pd\n",
    "from glob import glob\n",
    "from matplotlib import pyplot as plt\n",
    "\n",
    "from tensorflow.keras.models import Sequential\n",
    "from tensorflow.keras.layers import Dense, Dropout, Flatten, Conv2D, MaxPool2D, GlobalMaxPooling2D\n",
    "from tensorflow.keras.layers import BatchNormalization\n",
    "from tensorflow.keras.optimizers import RMSprop, Adam\n",
    "from keras.utils.np_utils import to_categorical # convert to one-hot-encoding\n",
    "from tensorflow.keras.preprocessing.image import ImageDataGenerator"
   ]
  },
  {
   "cell_type": "code",
   "execution_count": 0,
   "metadata": {
    "colab": {},
    "colab_type": "code",
    "id": "G4U1Z7p__vOd"
   },
   "outputs": [],
   "source": [
    "# Set the path to the dataset folder. (The dataset contains image folder: \"train\")\n",
    "train_path = \"/content/drive/My Drive/Colab Notebooks/data/plant_seedlings/train.zip\""
   ]
  },
  {
   "cell_type": "code",
   "execution_count": 0,
   "metadata": {
    "colab": {},
    "colab_type": "code",
    "id": "K_sXNBZHA-FY"
   },
   "outputs": [],
   "source": [
    "# Make different folders for train and test data in the current directory of Google Colab notebook. (using mkdir)\n",
    "!mkdir temp_train"
   ]
  },
  {
   "cell_type": "markdown",
   "metadata": {
    "colab_type": "text",
    "id": "C6770cFdHDc9"
   },
   "source": [
    "# Unziping train file:"
   ]
  },
  {
   "cell_type": "code",
   "execution_count": 0,
   "metadata": {
    "colab": {},
    "colab_type": "code",
    "id": "L2IHlupb_s8Q"
   },
   "outputs": [],
   "source": [
    "# Extract the files from dataset to temp_train and temp_test folders (as the dataset is a zip file.)\n",
    "from zipfile import ZipFile\n",
    "with ZipFile(train_path, 'r') as zip:\n",
    "  zip.extractall('./temp_train')"
   ]
  },
  {
   "cell_type": "code",
   "execution_count": 6,
   "metadata": {
    "colab": {
     "base_uri": "https://localhost:8080/",
     "height": 17
    },
    "colab_type": "code",
    "id": "AuVK04TO--Jr",
    "outputId": "b97ae868-398a-47ff-b1ec-93e021cc07d7"
   },
   "outputs": [
    {
     "name": "stdout",
     "output_type": "stream",
     "text": []
    }
   ],
   "source": [
    "path = \"./temp_train/*/*.png\"                              # The path to all images in training set. (* means include all folders and files.)\n",
    "files = glob(path)\n",
    "\n",
    "trainImg = []                                              # Initialize empty list to store the image data as numbers.\n",
    "trainLabel = []                                            # Initialize empty list to store the labels of images\n",
    "j = 1\n",
    "num = len(files)\n",
    "\n",
    "# Obtain images and resizing, obtain labels\n",
    "for img in files:\n",
    "    '''\n",
    "    Append the image data to trainImg list.\n",
    "    Append the labels to trainLabel list.\n",
    "    '''\n",
    "    print(str(j) + \"/\" + str(num), end=\"\\r\")\n",
    "    trainImg.append(cv2.resize(cv2.imread(img), (128, 128)))  # Get image (with resizing to 128x128)\n",
    "    trainLabel.append(img.split('/')[-2])  # Get image label (folder name contains the class to which the image belong)\n",
    "    j += 1\n",
    "\n",
    "trainImg = np.asarray(trainImg)  # Train images set\n",
    "trainLabel = pd.DataFrame(trainLabel)  # Train labels set"
   ]
  },
  {
   "cell_type": "code",
   "execution_count": 7,
   "metadata": {
    "colab": {
     "base_uri": "https://localhost:8080/",
     "height": 51
    },
    "colab_type": "code",
    "id": "2X1I66hDfg9j",
    "outputId": "9aaab9ce-f957-41ca-9270-ca48910a4baa"
   },
   "outputs": [
    {
     "name": "stdout",
     "output_type": "stream",
     "text": [
      "(4750, 128, 128, 3)\n",
      "(4750, 1)\n"
     ]
    }
   ],
   "source": [
    "print(trainImg.shape)\n",
    "print(trainLabel.shape)"
   ]
  },
  {
   "cell_type": "code",
   "execution_count": 0,
   "metadata": {
    "colab": {},
    "colab_type": "code",
    "id": "Wl9GYjQJrdTm"
   },
   "outputs": [],
   "source": []
  }
 ],
 "metadata": {
  "accelerator": "GPU",
  "colab": {
   "collapsed_sections": [],
   "name": "walkthrough_for_how_to_handle_folder_structure_and_images.ipynb",
   "provenance": []
  },
  "kernelspec": {
   "display_name": "Python 3",
   "language": "python",
   "name": "python3"
  },
  "language_info": {
   "codemirror_mode": {
    "name": "ipython",
    "version": 3
   },
   "file_extension": ".py",
   "mimetype": "text/x-python",
   "name": "python",
   "nbconvert_exporter": "python",
   "pygments_lexer": "ipython3",
   "version": "3.7.6"
  }
 },
 "nbformat": 4,
 "nbformat_minor": 1
}
